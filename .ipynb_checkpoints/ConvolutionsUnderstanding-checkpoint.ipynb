{
 "cells": [
  {
   "cell_type": "code",
   "execution_count": 1,
   "metadata": {},
   "outputs": [],
   "source": [
    "import torch\n",
    "import torch.nn as nn\n",
    "import torch.nn.functional as F\n",
    "\n",
    "class Mnist_CNN(nn.Module):\n",
    "    def __init__(self):\n",
    "        super().__init__()\n",
    "        self.conv1 = nn.Conv2d(1, 16, kernel_size=3, stride=2, padding=1)\n",
    "        self.conv2 = nn.Conv2d(16, 16, kernel_size=3, stride=2, padding=1)\n",
    "        self.conv3 = nn.Conv2d(16, 10, kernel_size=3, stride=2, padding=1)\n",
    "\n",
    "    def forward(self, xb):\n",
    "        xb = xb.view(-1, 1, 28, 28)\n",
    "        xb = F.relu(self.conv1(xb))\n",
    "        xb = F.relu(self.conv2(xb))\n",
    "        xb = F.relu(self.conv3(xb))\n",
    "        xb = F.avg_pool2d(xb, 4)\n",
    "        return xb.view(-1, xb.size(1))\n",
    "    def conv_test(image):\n",
    "        self.conv1(image)\n",
    "\n",
    "lr = 0.1"
   ]
  },
  {
   "cell_type": "code",
   "execution_count": 3,
   "metadata": {},
   "outputs": [
    {
     "name": "stdout",
     "output_type": "stream",
     "text": [
      "Directly konverted to torch.tensor:  torch.Size([128, 128, 4]) <class 'torch.Tensor'>\n",
      "Choosed one channel:  torch.Size([128, 128]) <class 'torch.Tensor'>\n",
      "After reshape:  torch.Size([128, 128]) <class 'torch.Tensor'>\n",
      "Data type:  torch.uint8\n"
     ]
    },
    {
     "ename": "NameError",
     "evalue": "name 'convT' is not defined",
     "output_type": "error",
     "traceback": [
      "\u001b[0;31m---------------------------------------------------------------------------\u001b[0m",
      "\u001b[0;31mNameError\u001b[0m                                 Traceback (most recent call last)",
      "\u001b[0;32m<ipython-input-3-c499adf259e0>\u001b[0m in \u001b[0;36m<module>\u001b[0;34m\u001b[0m\n\u001b[1;32m     29\u001b[0m \u001b[0;34m\u001b[0m\u001b[0m\n\u001b[1;32m     30\u001b[0m \u001b[0;31m# Convolution input\u001b[0m\u001b[0;34m\u001b[0m\u001b[0;34m\u001b[0m\u001b[0;34m\u001b[0m\u001b[0m\n\u001b[0;32m---> 31\u001b[0;31m \u001b[0mCj2\u001b[0m \u001b[0;34m=\u001b[0m \u001b[0mconvT\u001b[0m\u001b[0;34m(\u001b[0m\u001b[0mimage_pro\u001b[0m\u001b[0;34m)\u001b[0m\u001b[0;34m\u001b[0m\u001b[0;34m\u001b[0m\u001b[0m\n\u001b[0m\u001b[1;32m     32\u001b[0m \u001b[0;34m\u001b[0m\u001b[0m\n\u001b[1;32m     33\u001b[0m \u001b[0mprint\u001b[0m\u001b[0;34m(\u001b[0m\u001b[0;34m\"Convolution output: \"\u001b[0m\u001b[0;34m,\u001b[0m \u001b[0mCj2\u001b[0m\u001b[0;34m.\u001b[0m\u001b[0mshape\u001b[0m\u001b[0;34m)\u001b[0m\u001b[0;34m\u001b[0m\u001b[0;34m\u001b[0m\u001b[0m\n",
      "\u001b[0;31mNameError\u001b[0m: name 'convT' is not defined"
     ]
    }
   ],
   "source": [
    "from skimage import io, transform\n",
    "from matplotlib import pyplot\n",
    "\n",
    "image = io.imread('sound.png')\n",
    "image = torch.tensor(image)\n",
    "print(\"Directly konverted to torch.tensor: \" , image.shape, type(image))\n",
    "\n",
    "# Image hase 4 channels  (donno why - RGB+\"X\" ?? )\n",
    "# i choose only 1 channel \n",
    "image = image[:,:,0]         \n",
    "\n",
    "pyplot.imshow(image)\n",
    "\n",
    "print(\"Choosed one channel: \" , image.shape, type(image))\n",
    "\n",
    "# Plots one channel of \n",
    "pyplot.figure(1)\n",
    "pyplot.imshow(image)\n",
    "\n",
    "# Conv needs 4 arguments (4 dimentional tensor)\n",
    "# View is tensor reshape (as reshape in numpy)\n",
    "image_pro = image.view(-1, 1, 128, 128)\n",
    "\n",
    "print(\"After reshape: \" , image.shape, type(image))\n",
    "print(\"Data type: \", image.dtype)\n",
    "\n",
    "# Conversion to float needed\n",
    "image_pro = image_pro.float()\n",
    "\n",
    "# Define convolution\n",
    "convT = nn.Conv2d(1, 16, kernel_size=3, stride=2, padding=1)\n",
    "# Convolution input \n",
    "Cj2 = convT(image_pro)\n",
    "\n",
    "print(\"Convolution output: \", Cj2.shape)\n",
    "\n",
    "# We can't view the object that requires_gradient = True \n",
    "Cj2 = Cj2.detach()\n",
    "\n",
    "# Convolutions plot (6 from 16)\n",
    "pyplot.figure(2)\n",
    "channel = 16\n",
    "for i in range(0,6):\n",
    "    pyplot.subplot(2,3,i+1)\n",
    "    pyplot.imshow(Cj2[0,i])"
   ]
  },
  {
   "cell_type": "code",
   "execution_count": null,
   "metadata": {},
   "outputs": [],
   "source": []
  }
 ],
 "metadata": {
  "kernelspec": {
   "display_name": "Python 3",
   "language": "python",
   "name": "python3"
  },
  "language_info": {
   "codemirror_mode": {
    "name": "ipython",
    "version": 3
   },
   "file_extension": ".py",
   "mimetype": "text/x-python",
   "name": "python",
   "nbconvert_exporter": "python",
   "pygments_lexer": "ipython3",
   "version": "3.7.3"
  }
 },
 "nbformat": 4,
 "nbformat_minor": 2
}
