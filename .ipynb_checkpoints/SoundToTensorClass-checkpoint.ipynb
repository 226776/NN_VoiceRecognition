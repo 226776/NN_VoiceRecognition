{
 "cells": [
  {
   "cell_type": "code",
   "execution_count": 4,
   "metadata": {},
   "outputs": [],
   "source": [
    "import librosa as lr\n",
    "import numpy as np\n",
    "import torch\n",
    "import torch.nn as nn\n",
    "import torch.nn.functional as F\n",
    "import math\n",
    "import logging\n",
    "\n",
    "from torch.utils.data import Dataset, DataLoader\n",
    "from matplotlib import pyplot\n",
    "\n",
    "\n",
    "\n",
    "class VoiceSamples(Dataset):\n",
    "    \n",
    "    def __init__(self, core_name, samples_path=None, trasform=None):\n",
    "        \n",
    "        self.Log = logging.getLogger()\n",
    "        logging.basicConfig(level=logging.INFO)\n",
    "        \n",
    "        self.core_name = core_name\n",
    "        self.samples_path = samples_path\n",
    "        self.trasform = trasform\n",
    "        \n",
    "        self.soundSamples = []\n",
    "        self.sampleRate = []\n",
    "        \n",
    "        \n",
    "        info = \" VoiceSamples Object successfully created \"\n",
    "        self.Log.info(info)\n",
    "        \n",
    "    def __len__(self):\n",
    "        # TODO\n",
    "        return None \n",
    "    \n",
    "    def __getitem__(self, idx):\n",
    "        # TODO\n",
    "        return None\n",
    "\n",
    "    def LoadSoundSamples():\n",
    "    \n",
    "        n = 1\n",
    "\n",
    "        while(True):\n",
    "            try:\n",
    "                if  self.samples_path:\n",
    "                    path =  self.samples_path + core_name + str(n)\n",
    "                else:\n",
    "                    path = core_name + str(n)\n",
    "\n",
    "                soundSample, sr = lr.load(path)\n",
    "\n",
    "                n += 1\n",
    "                self.soundSamples.append(soundSample)\n",
    "                self.sampleRate.append(sr) \n",
    "\n",
    "                info = \" Sample : \" + path + \" : successfully added\"\n",
    "                self.Log.info(info)\n",
    "\n",
    "            except FileNotFoundError:\n",
    "                if soundSamples[0]:\n",
    "                    info = \"That's the end of database : \" + str(n-1) + \" : Samples added\"\n",
    "                    self.Log.info(info)\n",
    "\n",
    "                    return soundSamples\n",
    "\n",
    "                else:\n",
    "                    self.Log.exception(\"Files are missing\")\n",
    "\n",
    "                break\n",
    "\n",
    "            except Exception as ex:      \n",
    "                self.Log.exception(\"Unexpected error\")\n",
    "                break"
   ]
  },
  {
   "cell_type": "code",
   "execution_count": 5,
   "metadata": {},
   "outputs": [
    {
     "name": "stderr",
     "output_type": "stream",
     "text": [
      "INFO:root: VoiceSamples Object successfully created \n"
     ]
    },
    {
     "ename": "TypeError",
     "evalue": "LoadSoundSamples() takes 0 positional arguments but 1 was given",
     "output_type": "error",
     "traceback": [
      "\u001b[0;31m---------------------------------------------------------------------------\u001b[0m",
      "\u001b[0;31mTypeError\u001b[0m                                 Traceback (most recent call last)",
      "\u001b[0;32m<ipython-input-5-51832b6bb49e>\u001b[0m in \u001b[0;36m<module>\u001b[0;34m\u001b[0m\n\u001b[1;32m      1\u001b[0m \u001b[0mvs\u001b[0m \u001b[0;34m=\u001b[0m \u001b[0mVoiceSamples\u001b[0m\u001b[0;34m(\u001b[0m\u001b[0;34m\"vs\"\u001b[0m\u001b[0;34m)\u001b[0m\u001b[0;34m\u001b[0m\u001b[0;34m\u001b[0m\u001b[0m\n\u001b[0;32m----> 2\u001b[0;31m \u001b[0mvs\u001b[0m\u001b[0;34m.\u001b[0m\u001b[0mLoadSoundSamples\u001b[0m\u001b[0;34m(\u001b[0m\u001b[0;34m)\u001b[0m\u001b[0;34m\u001b[0m\u001b[0;34m\u001b[0m\u001b[0m\n\u001b[0m",
      "\u001b[0;31mTypeError\u001b[0m: LoadSoundSamples() takes 0 positional arguments but 1 was given"
     ]
    }
   ],
   "source": [
    "vs = VoiceSamples(\"vs\")\n",
    "vs.LoadSoundSamples()"
   ]
  },
  {
   "cell_type": "code",
   "execution_count": 27,
   "metadata": {},
   "outputs": [],
   "source": [
    "import librosa as lr\n",
    "import numpy as np\n",
    "import torch\n",
    "import torch.nn as nn\n",
    "import torch.nn.functional as F\n",
    "import math\n",
    "import logging\n",
    "\n",
    "from torch.utils.data import Dataset, DataLoader\n",
    "from matplotlib import pyplot\n",
    "\n",
    " \n",
    "logging.basicConfig(level=logging.INFO)\n",
    "Log = logging.getLogger()"
   ]
  },
  {
   "cell_type": "code",
   "execution_count": 28,
   "metadata": {},
   "outputs": [],
   "source": [
    "def LoadSoundSamples(coreName, samplesPath=None):\n",
    "    \n",
    "    n = 1\n",
    "    soundSamples = [],[]\n",
    "    \n",
    "    while(True):\n",
    "        try:\n",
    "            if samplesPath:\n",
    "                path = samplesPath + coreName + str(n)\n",
    "            else:\n",
    "                path = coreName + str(n)\n",
    "                \n",
    "            soundSample, sr = lr.load(path)\n",
    "            \n",
    "            n += 1\n",
    "            soundSamples[0].append(soundSample)\n",
    "            soundSamples[1].append(sr) \n",
    "            \n",
    "            info = \" Sample : \" + path + \" : successfully added\"\n",
    "            Log.info(info)\n",
    "            \n",
    "        except FileNotFoundError:\n",
    "            if soundSamples[0]:\n",
    "                info = \"That's the end of database : \" + str(n-1) + \" : Samples added\"\n",
    "                Log.info(info)\n",
    "                \n",
    "                return soundSamples\n",
    "            \n",
    "            else:\n",
    "                Log.exception(\"Files are missing\")\n",
    "\n",
    "            break\n",
    "             \n",
    "        except Exception as ex:      \n",
    "            Log.exception(\"Unexpected error\")\n",
    "            break\n",
    "            \n",
    "            \n",
    "            "
   ]
  },
  {
   "cell_type": "code",
   "execution_count": null,
   "metadata": {},
   "outputs": [],
   "source": []
  },
  {
   "cell_type": "code",
   "execution_count": 29,
   "metadata": {},
   "outputs": [],
   "source": [
    "def ChopToOneSecFragments(soundSample, sr):\n",
    "    \n",
    "    chopedSoundSamples = [],[]\n",
    "    \n",
    "    frag_max = math.trunc(len(soundSample)/float(sr))\n",
    "    step = math.trunc(sr/2);\n",
    "    last_sample = len(soundSample)\n",
    "      \n",
    "    for frag in range(frag_max*2):\n",
    "        start = step * frag\n",
    "        stop = start + sr\n",
    "        if sr<len(soundSample):\n",
    "            chopedSoundSamples[0].append(soundSample[start:stop])\n",
    "            chopedSoundSamples[1].append(sr)\n",
    "            info = \"Sample : \" + str(frag+1) + \" : successfully choped and added\"\n",
    "            Log.info(info)\n",
    "        else:\n",
    "            Log.warning(\"Something went wrong\")\n",
    "        \n",
    "     # incuding samples cuted by math.trunc() \n",
    "    chopedSoundSamples[0].append(soundSample[last_sample-sr:last_sample])\n",
    "    chopedSoundSamples[1].append(sr)\n",
    "    info = \"Sample : \" + str(frag_max*2+1) + \" : successfully choped and added\"\n",
    "    Log.info(info)\n",
    "            \n",
    "    return chopedSoundSamples"
   ]
  },
  {
   "cell_type": "code",
   "execution_count": 30,
   "metadata": {},
   "outputs": [
    {
     "name": "stderr",
     "output_type": "stream",
     "text": [
      "/home/krys/.local/lib/python3.7/site-packages/librosa/core/audio.py:146: UserWarning: PySoundFile failed. Trying audioread instead.\n",
      "  warnings.warn('PySoundFile failed. Trying audioread instead.')\n"
     ]
    },
    {
     "ename": "NameError",
     "evalue": "name 'Log' is not defined",
     "output_type": "error",
     "traceback": [
      "\u001b[0;31m---------------------------------------------------------------------------\u001b[0m",
      "\u001b[0;31mNameError\u001b[0m                                 Traceback (most recent call last)",
      "\u001b[0;32m<ipython-input-28-35e744a8476b>\u001b[0m in \u001b[0;36mLoadSoundSamples\u001b[0;34m(coreName, samplesPath)\u001b[0m\n\u001b[1;32m     19\u001b[0m             \u001b[0minfo\u001b[0m \u001b[0;34m=\u001b[0m \u001b[0;34m\" Sample : \"\u001b[0m \u001b[0;34m+\u001b[0m \u001b[0mpath\u001b[0m \u001b[0;34m+\u001b[0m \u001b[0;34m\" : successfully added\"\u001b[0m\u001b[0;34m\u001b[0m\u001b[0;34m\u001b[0m\u001b[0m\n\u001b[0;32m---> 20\u001b[0;31m             \u001b[0mLog\u001b[0m\u001b[0;34m.\u001b[0m\u001b[0minfo\u001b[0m\u001b[0;34m(\u001b[0m\u001b[0minfo\u001b[0m\u001b[0;34m)\u001b[0m\u001b[0;34m\u001b[0m\u001b[0;34m\u001b[0m\u001b[0m\n\u001b[0m\u001b[1;32m     21\u001b[0m \u001b[0;34m\u001b[0m\u001b[0m\n",
      "\u001b[0;31mNameError\u001b[0m: name 'Log' is not defined",
      "\nDuring handling of the above exception, another exception occurred:\n",
      "\u001b[0;31mNameError\u001b[0m                                 Traceback (most recent call last)",
      "\u001b[0;32m<ipython-input-30-689621edcaab>\u001b[0m in \u001b[0;36m<module>\u001b[0;34m\u001b[0m\n\u001b[0;32m----> 1\u001b[0;31m \u001b[0msampleList\u001b[0m \u001b[0;34m=\u001b[0m \u001b[0mLoadSoundSamples\u001b[0m\u001b[0;34m(\u001b[0m\u001b[0;34m\"vs\"\u001b[0m\u001b[0;34m)\u001b[0m\u001b[0;34m\u001b[0m\u001b[0;34m\u001b[0m\u001b[0m\n\u001b[0m\u001b[1;32m      2\u001b[0m \u001b[0;32mif\u001b[0m\u001b[0;34m(\u001b[0m\u001b[0msampleList\u001b[0m\u001b[0;34m!=\u001b[0m\u001b[0;32mNone\u001b[0m\u001b[0;34m)\u001b[0m\u001b[0;34m:\u001b[0m\u001b[0;34m\u001b[0m\u001b[0;34m\u001b[0m\u001b[0m\n\u001b[1;32m      3\u001b[0m     \u001b[0ms_sample\u001b[0m \u001b[0;34m=\u001b[0m \u001b[0msampleList\u001b[0m\u001b[0;34m[\u001b[0m\u001b[0;36m0\u001b[0m\u001b[0;34m]\u001b[0m\u001b[0;34m[\u001b[0m\u001b[0;36m0\u001b[0m\u001b[0;34m]\u001b[0m\u001b[0;34m\u001b[0m\u001b[0;34m\u001b[0m\u001b[0m\n\u001b[1;32m      4\u001b[0m     \u001b[0ms_sr\u001b[0m \u001b[0;34m=\u001b[0m \u001b[0msampleList\u001b[0m\u001b[0;34m[\u001b[0m\u001b[0;36m1\u001b[0m\u001b[0;34m]\u001b[0m\u001b[0;34m[\u001b[0m\u001b[0;36m0\u001b[0m\u001b[0;34m]\u001b[0m\u001b[0;34m\u001b[0m\u001b[0;34m\u001b[0m\u001b[0m\n\u001b[1;32m      5\u001b[0m     \u001b[0mprint\u001b[0m\u001b[0;34m(\u001b[0m\u001b[0mlen\u001b[0m\u001b[0;34m(\u001b[0m\u001b[0msampleList\u001b[0m\u001b[0;34m[\u001b[0m\u001b[0;36m0\u001b[0m\u001b[0;34m]\u001b[0m\u001b[0;34m[\u001b[0m\u001b[0;36m0\u001b[0m\u001b[0;34m]\u001b[0m\u001b[0;34m)\u001b[0m\u001b[0;34m)\u001b[0m\u001b[0;34m\u001b[0m\u001b[0;34m\u001b[0m\u001b[0m\n",
      "\u001b[0;32m<ipython-input-28-35e744a8476b>\u001b[0m in \u001b[0;36mLoadSoundSamples\u001b[0;34m(coreName, samplesPath)\u001b[0m\n\u001b[1;32m     33\u001b[0m \u001b[0;34m\u001b[0m\u001b[0m\n\u001b[1;32m     34\u001b[0m         \u001b[0;32mexcept\u001b[0m \u001b[0mException\u001b[0m \u001b[0;32mas\u001b[0m \u001b[0mex\u001b[0m\u001b[0;34m:\u001b[0m\u001b[0;34m\u001b[0m\u001b[0;34m\u001b[0m\u001b[0m\n\u001b[0;32m---> 35\u001b[0;31m             \u001b[0mLog\u001b[0m\u001b[0;34m.\u001b[0m\u001b[0mexception\u001b[0m\u001b[0;34m(\u001b[0m\u001b[0;34m\"Unexpected error\"\u001b[0m\u001b[0;34m)\u001b[0m\u001b[0;34m\u001b[0m\u001b[0;34m\u001b[0m\u001b[0m\n\u001b[0m\u001b[1;32m     36\u001b[0m             \u001b[0;32mbreak\u001b[0m\u001b[0;34m\u001b[0m\u001b[0;34m\u001b[0m\u001b[0m\n\u001b[1;32m     37\u001b[0m \u001b[0;34m\u001b[0m\u001b[0m\n",
      "\u001b[0;31mNameError\u001b[0m: name 'Log' is not defined"
     ]
    }
   ],
   "source": [
    "sampleList = LoadSoundSamples(\"vs\")\n",
    "if(sampleList!=None):\n",
    "    s_sample = sampleList[0][0]\n",
    "    s_sr = sampleList[1][0] \n",
    "    print(len(sampleList[0][0]))\n",
    "OneSecSamples =  ChopToOneSecFragments(s_sample, s_sr)\n"
   ]
  },
  {
   "cell_type": "code",
   "execution_count": null,
   "metadata": {},
   "outputs": [],
   "source": []
  }
 ],
 "metadata": {
  "kernelspec": {
   "display_name": "Python 3",
   "language": "python",
   "name": "python3"
  },
  "language_info": {
   "codemirror_mode": {
    "name": "ipython",
    "version": 3
   },
   "file_extension": ".py",
   "mimetype": "text/x-python",
   "name": "python",
   "nbconvert_exporter": "python",
   "pygments_lexer": "ipython3",
   "version": "3.7.3"
  }
 },
 "nbformat": 4,
 "nbformat_minor": 2
}
