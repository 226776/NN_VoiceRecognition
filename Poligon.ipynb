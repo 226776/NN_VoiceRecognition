{
 "cells": [
  {
   "cell_type": "code",
   "execution_count": 1,
   "metadata": {},
   "outputs": [
    {
     "name": "stdout",
     "output_type": "stream",
     "text": [
      "tensor([[0.8689, 0.5572, 0.5946],\n",
      "        [0.3261, 0.7606, 0.2818],\n",
      "        [0.1890, 0.0337, 0.3868],\n",
      "        [0.2969, 0.7813, 0.3617],\n",
      "        [0.1595, 0.7313, 0.7509]])\n"
     ]
    }
   ],
   "source": [
    "from __future__ import print_function\n",
    "import torch\n",
    "\n",
    "x = torch.rand(5, 3)\n",
    "print(x)\n"
   ]
  },
  {
   "cell_type": "code",
   "execution_count": 2,
   "metadata": {},
   "outputs": [
    {
     "ename": "NameError",
     "evalue": "name 'tf' is not defined",
     "output_type": "error",
     "traceback": [
      "\u001b[0;31m---------------------------------------------------------------------------\u001b[0m",
      "\u001b[0;31mNameError\u001b[0m                                 Traceback (most recent call last)",
      "\u001b[0;32m<ipython-input-2-47462a63b7eb>\u001b[0m in \u001b[0;36m<module>\u001b[0;34m\u001b[0m\n\u001b[1;32m      2\u001b[0m \u001b[0;32mimport\u001b[0m \u001b[0mnumpy\u001b[0m \u001b[0;32mas\u001b[0m \u001b[0mnp\u001b[0m\u001b[0;34m\u001b[0m\u001b[0;34m\u001b[0m\u001b[0m\n\u001b[1;32m      3\u001b[0m \u001b[0;34m\u001b[0m\u001b[0m\n\u001b[0;32m----> 4\u001b[0;31m \u001b[0mimg_bytes\u001b[0m \u001b[0;34m=\u001b[0m \u001b[0mtf\u001b[0m\u001b[0;34m.\u001b[0m\u001b[0mio\u001b[0m\u001b[0;34m.\u001b[0m\u001b[0mread_file\u001b[0m\u001b[0;34m(\u001b[0m\u001b[0;34m'sound.png'\u001b[0m\u001b[0;34m)\u001b[0m\u001b[0;34m\u001b[0m\u001b[0;34m\u001b[0m\u001b[0m\n\u001b[0m\u001b[1;32m      5\u001b[0m \u001b[0mimg_tensor_uint8\u001b[0m \u001b[0;34m=\u001b[0m \u001b[0mtf\u001b[0m\u001b[0;34m.\u001b[0m\u001b[0mimage\u001b[0m\u001b[0;34m.\u001b[0m\u001b[0mdecode_png\u001b[0m\u001b[0;34m(\u001b[0m\u001b[0mimg_bytes\u001b[0m\u001b[0;34m)\u001b[0m\u001b[0;34m\u001b[0m\u001b[0;34m\u001b[0m\u001b[0m\n\u001b[1;32m      6\u001b[0m \u001b[0mimg_tensor_float32\u001b[0m \u001b[0;34m=\u001b[0m \u001b[0mtf\u001b[0m\u001b[0;34m.\u001b[0m\u001b[0mcast\u001b[0m\u001b[0;34m(\u001b[0m\u001b[0mimg_tensor_uint8\u001b[0m\u001b[0;34m,\u001b[0m \u001b[0mtf\u001b[0m\u001b[0;34m.\u001b[0m\u001b[0mfloat32\u001b[0m\u001b[0;34m)\u001b[0m \u001b[0;34m/\u001b[0m \u001b[0;36m255\u001b[0m\u001b[0;34m\u001b[0m\u001b[0;34m\u001b[0m\u001b[0m\n",
      "\u001b[0;31mNameError\u001b[0m: name 'tf' is not defined"
     ]
    }
   ],
   "source": [
    "\n",
    "from PIL import Image\n",
    "import numpy as np\n",
    "\n",
    "img_bytes = tf.io.read_file('sound.png')\n",
    "img_tensor_uint8 = tf.image.decode_png(img_bytes)\n",
    "img_tensor_float32 = tf.cast(img_tensor_uint8, tf.float32) / 255"
   ]
  },
  {
   "cell_type": "code",
   "execution_count": 1,
   "metadata": {},
   "outputs": [],
   "source": [
    "from pathlib import Path\n",
    "import requests\n",
    "\n",
    "DATA_PATH = Path(\"data\")\n",
    "PATH = DATA_PATH / \"mnist\"\n",
    "\n",
    "PATH.mkdir(parents=True, exist_ok=True)\n",
    "\n",
    "URL = \"http://deeplearning.net/data/mnist/\"\n",
    "FILENAME = \"mnist.pkl.gz\"\n",
    "\n",
    "if not (PATH / FILENAME).exists():\n",
    "        content = requests.get(URL + FILENAME).content\n",
    "        (PATH / FILENAME).open(\"wb\").write(content)"
   ]
  },
  {
   "cell_type": "code",
   "execution_count": 2,
   "metadata": {},
   "outputs": [
    {
     "name": "stdout",
     "output_type": "stream",
     "text": [
      "[[0. 0. 0. ... 0. 0. 0.]\n",
      " [0. 0. 0. ... 0. 0. 0.]\n",
      " [0. 0. 0. ... 0. 0. 0.]\n",
      " ...\n",
      " [0. 0. 0. ... 0. 0. 0.]\n",
      " [0. 0. 0. ... 0. 0. 0.]\n",
      " [0. 0. 0. ... 0. 0. 0.]]\n",
      "[5 0 4 ... 8 4 8]\n",
      "(50000, 784)\n"
     ]
    }
   ],
   "source": [
    "import pickle\n",
    "import gzip\n",
    "\n",
    "with gzip.open((PATH / FILENAME).as_posix(), \"rb\") as f:\n",
    "        ((x_train, y_train), (x_valid, y_valid), _) = pickle.load(f, encoding=\"latin-1\")\n",
    "        \n",
    "        print(x_train)\n",
    "        print(y_train)\n",
    "        print(x_train.shape)\n",
    "        \n",
    "\n"
   ]
  },
  {
   "cell_type": "code",
   "execution_count": 13,
   "metadata": {},
   "outputs": [
    {
     "name": "stdout",
     "output_type": "stream",
     "text": [
      "<class 'numpy.ndarray'>\n",
      "(784,)\n",
      "2\n"
     ]
    },
    {
     "data": {
      "image/png": "[encoded data removed]",
      "text/plain": [
       "<Figure size 432x288 with 1 Axes>"
      ]
     },
     "metadata": {
      "needs_background": "light"
     },
     "output_type": "display_data"
    }
   ],
   "source": [
    "from matplotlib import pyplot\n",
    "import numpy as np\n",
    "\n",
    "i = 5\n",
    "print(type(x_train[i]))\n",
    "pyplot.imshow(x_train[i].reshape((28, 28)))\n",
    "print(x_train[i].shape)\n",
    "print(y_train[i])\n",
    "\n",
    "#myTab = [[2,0,2],[5,0,5],[2,1,2]]\n",
    "#myTab2 = np.array([2,0,2,5,0,5,2,1,2])\n",
    "#print(myTab2)\n",
    "#pyplot.imshow(myTab2.reshape((3,3)))"
   ]
  },
  {
   "cell_type": "code",
   "execution_count": 23,
   "metadata": {},
   "outputs": [
    {
     "name": "stdout",
     "output_type": "stream",
     "text": [
      "tensor([[0., 0., 0.,  ..., 0., 0., 0.],\n",
      "        [0., 0., 0.,  ..., 0., 0., 0.],\n",
      "        [0., 0., 0.,  ..., 0., 0., 0.],\n",
      "        ...,\n",
      "        [0., 0., 0.,  ..., 0., 0., 0.],\n",
      "        [0., 0., 0.,  ..., 0., 0., 0.],\n",
      "        [0., 0., 0.,  ..., 0., 0., 0.]]) tensor([5, 0, 4,  ..., 8, 4, 8])\n",
      "torch.Size([50000, 784])\n",
      "tensor(0) tensor(9)\n"
     ]
    },
    {
     "name": "stderr",
     "output_type": "stream",
     "text": [
      "/home/krys/.local/lib/python3.7/site-packages/ipykernel_launcher.py:4: UserWarning: To copy construct from a tensor, it is recommended to use sourceTensor.clone().detach() or sourceTensor.clone().detach().requires_grad_(True), rather than torch.tensor(sourceTensor).\n",
      "  after removing the cwd from sys.path.\n"
     ]
    },
    {
     "data": {
      "text/plain": [
       "<matplotlib.image.AxesImage at 0x7f575ff90cc0>"
      ]
     },
     "execution_count": 23,
     "metadata": {},
     "output_type": "execute_result"
    },
    {
     "data": {
      "image/png": "[encoded data removed]",
      "text/plain": [
       "<Figure size 432x288 with 1 Axes>"
      ]
     },
     "metadata": {
      "needs_background": "light"
     },
     "output_type": "display_data"
    }
   ],
   "source": [
    "import torch\n",
    "\n",
    "x_train, y_train, x_valid, y_valid = map(\n",
    "    torch.tensor, (x_train, y_train, x_valid, y_valid)\n",
    ")\n",
    "n, c = x_train.shape\n",
    "x_train, x_train.shape, y_train.min(), y_train.max()\n",
    "print(x_train, y_train)\n",
    "print(x_train.shape)\n",
    "print(y_train.min(), y_train.max())\n",
    "\n",
    "pyplot.imshow(x_train[6].reshape((28, 28)), cmap=\"gray\")\n"
   ]
  },
  {
   "cell_type": "code",
   "execution_count": 7,
   "metadata": {},
   "outputs": [
    {
     "name": "stdout",
     "output_type": "stream",
     "text": [
      "tensor([[-0.0332,  0.0316, -0.0056,  ...,  0.0415,  0.0329,  0.0330],\n",
      "        [-0.0481, -0.0582, -0.0334,  ..., -0.0374, -0.0445,  0.0226],\n",
      "        [-0.0251,  0.0069, -0.0022,  ...,  0.0233,  0.0265,  0.0173],\n",
      "        ...,\n",
      "        [ 0.0005,  0.0267, -0.0530,  ..., -0.0031,  0.0761,  0.0491],\n",
      "        [ 0.0209,  0.0195, -0.0248,  ..., -0.0334,  0.0103,  0.0392],\n",
      "        [-0.0339, -0.0182, -0.0233,  ..., -0.0251,  0.0618, -0.0125]],\n",
      "       requires_grad=True)\n"
     ]
    }
   ],
   "source": [
    "import math\n",
    "\n",
    "weights = torch.randn(784, 10) / math.sqrt(784)\n",
    "weights.requires_grad_()\n",
    "bias = torch.zeros(10, requires_grad=True)\n",
    "\n",
    "print(weights)"
   ]
  },
  {
   "cell_type": "code",
   "execution_count": 8,
   "metadata": {},
   "outputs": [],
   "source": [
    "def log_softmax(x):\n",
    "    return x - x.exp().sum(-1).log().unsqueeze(-1)\n",
    "\n",
    "def model(xb):\n",
    "    return log_softmax(xb @ weights + bias)"
   ]
  },
  {
   "cell_type": "code",
   "execution_count": 9,
   "metadata": {},
   "outputs": [
    {
     "name": "stdout",
     "output_type": "stream",
     "text": [
      "tensor([-2.3316, -2.2598, -1.4197, -2.9621, -2.4382, -2.0813, -2.5453, -2.2657,\n",
      "        -2.7244, -3.0987], grad_fn=<SelectBackward>) torch.Size([64, 10])\n"
     ]
    }
   ],
   "source": [
    "bs = 64  # batch size\n",
    "\n",
    "xb = x_train[0:bs]  # a mini-batch from x\n",
    "preds = model(xb)  # predictions\n",
    "preds[0], preds.shape\n",
    "print(preds[0], preds.shape)"
   ]
  },
  {
   "cell_type": "code",
   "execution_count": 10,
   "metadata": {},
   "outputs": [
    {
     "name": "stdout",
     "output_type": "stream",
     "text": [
      "tensor([[[-1.2535e+00, -4.4153e-01,  7.5015e-01,  ...,  1.2192e+00,\n",
      "          -1.4517e+00,  3.4413e-01],\n",
      "         [ 1.2727e-01, -7.5301e-01,  2.5188e-01,  ...,  2.4490e-01,\n",
      "          -1.0138e+00, -2.8827e-01],\n",
      "         [-2.7913e-01, -1.3751e-01,  1.2749e+00,  ...,  5.8783e-01,\n",
      "           2.8304e-01, -4.2868e-01],\n",
      "         ...,\n",
      "         [ 1.3026e+00,  1.8133e+00, -2.1198e+00,  ..., -8.6294e-01,\n",
      "           1.0062e+00,  2.9408e-01],\n",
      "         [-3.0269e+00,  9.1963e-01, -2.5475e-01,  ..., -1.0391e+00,\n",
      "          -1.1631e+00,  2.6519e-01],\n",
      "         [-1.1213e+00, -1.3038e-01,  3.4625e-01,  ..., -1.0499e+00,\n",
      "          -2.0837e-01,  1.8073e-01]],\n",
      "\n",
      "        [[-1.1092e-01,  8.1321e-01, -4.0478e-03,  ...,  6.3623e-01,\n",
      "           2.1298e-01,  9.8246e-01],\n",
      "         [-9.2174e-02,  1.4063e+00,  1.2253e+00,  ..., -5.7350e-01,\n",
      "           9.3174e-01,  8.4976e-01],\n",
      "         [-4.2252e-01, -2.2044e-01, -5.9148e-01,  ..., -2.4335e+00,\n",
      "          -5.2848e-01, -2.5254e+00],\n",
      "         ...,\n",
      "         [ 4.8536e-01, -1.2862e-01, -7.2805e-01,  ..., -1.9269e-01,\n",
      "          -8.4947e-01,  3.7065e-01],\n",
      "         [-1.2417e+00, -5.9107e-01,  1.6348e+00,  ...,  9.5448e-01,\n",
      "          -6.5152e-01, -3.1613e-01],\n",
      "         [ 9.7919e-01,  1.1709e+00,  7.3294e-01,  ..., -8.5431e-01,\n",
      "          -7.2142e-01,  1.0588e+00]],\n",
      "\n",
      "        [[-3.7434e-01, -1.1694e+00, -4.0228e-01,  ...,  4.5679e-01,\n",
      "          -5.4873e-01,  4.8170e-01],\n",
      "         [-2.8422e-01, -3.6570e-01,  1.7669e+00,  ...,  3.8733e-01,\n",
      "           1.0970e-01, -3.3217e-01],\n",
      "         [ 1.8542e+00,  9.9009e-01, -6.4907e-02,  ...,  2.0675e+00,\n",
      "           5.8731e-01, -7.0963e-01],\n",
      "         ...,\n",
      "         [ 1.6308e+00, -5.5272e-01, -4.7186e-01,  ...,  9.8362e-01,\n",
      "          -9.1774e-02,  1.8918e-03],\n",
      "         [-3.8392e-02,  7.3040e-01, -9.0328e-01,  ..., -1.3548e-01,\n",
      "          -8.3105e-02, -9.8800e-01],\n",
      "         [-1.1072e+00,  2.5022e-03,  3.9854e-01,  ..., -4.7162e-02,\n",
      "          -1.6572e+00, -6.9549e-01]],\n",
      "\n",
      "        ...,\n",
      "\n",
      "        [[-1.2939e+00, -5.9017e-01, -1.0708e-01,  ..., -1.1301e+00,\n",
      "           3.8418e-01, -2.0003e+00],\n",
      "         [ 6.1123e-01,  8.8248e-02,  1.2585e+00,  ..., -1.6940e+00,\n",
      "           2.4673e-01,  9.2840e-02],\n",
      "         [-4.3259e-01, -8.0739e-01, -7.5465e-02,  ..., -1.4720e-01,\n",
      "           1.5764e-01,  4.7415e-01],\n",
      "         ...,\n",
      "         [ 5.4732e-01, -7.8581e-02, -5.9687e-01,  ..., -1.2760e+00,\n",
      "          -1.0903e+00, -5.8436e-01],\n",
      "         [ 1.6355e-01,  6.1997e-01,  2.0112e+00,  ...,  2.0540e-01,\n",
      "          -2.6388e-01,  4.0242e-01],\n",
      "         [ 1.7128e-01, -8.0418e-01, -3.8890e-01,  ...,  1.6352e+00,\n",
      "           1.5382e-01,  8.5005e-01]],\n",
      "\n",
      "        [[ 1.1871e-01,  5.7409e-02,  1.9115e+00,  ...,  7.2926e-01,\n",
      "           8.6678e-01,  2.2621e-01],\n",
      "         [-8.3473e-01, -3.4236e-01,  9.1882e-01,  ...,  1.0965e+00,\n",
      "           1.0096e+00,  1.1162e+00],\n",
      "         [-1.7893e-01,  1.3862e+00, -1.3484e+00,  ..., -2.0055e-01,\n",
      "          -6.3573e-01,  2.3871e+00],\n",
      "         ...,\n",
      "         [ 1.0019e+00, -2.4605e-03, -8.6908e-02,  ...,  5.7781e-01,\n",
      "           1.1428e-01,  5.9656e-01],\n",
      "         [-1.8328e-01, -3.5469e-01, -1.2091e+00,  ..., -2.7449e-01,\n",
      "          -3.5229e-01,  1.3467e+00],\n",
      "         [-4.7626e-01,  2.0342e+00,  1.1082e+00,  ...,  2.3340e+00,\n",
      "          -1.5229e-01, -9.7889e-01]],\n",
      "\n",
      "        [[-6.8241e-01, -8.3835e-01, -2.2089e-01,  ..., -6.0303e-01,\n",
      "           3.1576e-01, -9.7119e-01],\n",
      "         [ 6.2524e-01, -4.7840e-01, -2.5738e+00,  ..., -7.4828e-01,\n",
      "          -2.3942e-01, -6.4666e-01],\n",
      "         [ 1.4439e+00, -8.8461e-01, -1.7188e-01,  ...,  7.0663e-01,\n",
      "          -1.8644e+00, -1.3687e+00],\n",
      "         ...,\n",
      "         [-5.0254e-01, -8.8487e-02, -8.9872e-01,  ..., -1.3304e+00,\n",
      "          -7.3995e-01, -8.3653e-02],\n",
      "         [-4.3921e-01,  1.3042e+00,  1.9996e+00,  ..., -1.8633e-01,\n",
      "          -2.6666e-02,  3.8080e-01],\n",
      "         [ 2.4020e+00, -2.1969e+00, -1.6477e+00,  ...,  6.6867e-01,\n",
      "          -8.4617e-01,  6.7522e-01]]])\n"
     ]
    }
   ],
   "source": [
    "input = torch.randn(20, 16, 50)\n",
    "print(input)"
   ]
  },
  {
   "cell_type": "code",
   "execution_count": 11,
   "metadata": {},
   "outputs": [
    {
     "ename": "NameError",
     "evalue": "name 'sprawdzam' is not defined",
     "output_type": "error",
     "traceback": [
      "\u001b[0;31m---------------------------------------------------------------------------\u001b[0m",
      "\u001b[0;31mNameError\u001b[0m                                 Traceback (most recent call last)",
      "\u001b[0;32m<ipython-input-11-8b190d87b6f2>\u001b[0m in \u001b[0;36m<module>\u001b[0;34m\u001b[0m\n\u001b[0;32m----> 1\u001b[0;31m \u001b[0msprawdzam\u001b[0m\u001b[0;34m\u001b[0m\u001b[0;34m\u001b[0m\u001b[0m\n\u001b[0m",
      "\u001b[0;31mNameError\u001b[0m: name 'sprawdzam' is not defined"
     ]
    }
   ],
   "source": [
    "sprawdzam"
   ]
  },
  {
   "cell_type": "code",
   "execution_count": null,
   "metadata": {},
   "outputs": [],
   "source": []
  },
  {
   "cell_type": "code",
   "execution_count": null,
   "metadata": {},
   "outputs": [],
   "source": []
  }
 ],
 "metadata": {
  "kernelspec": {
   "display_name": "Python 3",
   "language": "python",
   "name": "python3"
  },
  "language_info": {
   "codemirror_mode": {
    "name": "ipython",
    "version": 3
   },
   "file_extension": ".py",
   "mimetype": "text/x-python",
   "name": "python",
   "nbconvert_exporter": "python",
   "pygments_lexer": "ipython3",
   "version": "3.7.3"
  }
 },
 "nbformat": 4,
 "nbformat_minor": 2
}
