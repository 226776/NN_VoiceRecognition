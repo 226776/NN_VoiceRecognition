{
 "cells": [
  {
   "cell_type": "code",
   "execution_count": 7,
   "metadata": {},
   "outputs": [],
   "source": [
    "import librosa as lr\n",
    "import numpy as np\n",
    "import torch\n",
    "import torch.nn as nn\n",
    "import torch.nn.functional as F\n",
    "import math\n",
    "import logging\n",
    "\n",
    "from torch.utils.data import Dataset, DataLoader\n",
    "from matplotlib import pyplot\n",
    "\n",
    "\n",
    "\n",
    "class VoiceSamples(Dataset):\n",
    "    \n",
    "    def __init__(self, core_name, samples_path=None, trasform=None):\n",
    "        \n",
    "        self.Log = logging.getLogger()\n",
    "        logging.basicConfig(level=logging.INFO)\n",
    "        \n",
    "        self.core_name = core_name\n",
    "        self.samples_path = samples_path\n",
    "        self.trasform = trasform\n",
    "        \n",
    "        self.soundSamples = []\n",
    "        self.sampleRate = []\n",
    "        \n",
    "        \n",
    "        \n",
    "        LoadSoundSamples()\n",
    "        \n",
    "        info = \" VoiceSamples Object successfully created \"\n",
    "        self.Log.info(info)\n",
    "        \n",
    "    def __len__(self):\n",
    "        # TODO\n",
    "        return None \n",
    "    \n",
    "    def __getitem__(self, idx):\n",
    "        # TODO\n",
    "        return None\n",
    "\n",
    "    def LoadSoundSamples():\n",
    "    \n",
    "        n = 1\n",
    "\n",
    "        while(True):\n",
    "            try:\n",
    "                if  self.samples_path:\n",
    "                    path =  self.samples_path + core_name + str(n)\n",
    "                else:\n",
    "                    path = core_name + str(n)\n",
    "\n",
    "                soundSample, sr = lr.load(path)\n",
    "\n",
    "                n += 1\n",
    "                self.soundSamples.append(soundSample)\n",
    "                self.sampleRate.append(sr) \n",
    "\n",
    "                info = \" Sample : \" + path + \" : successfully added\"\n",
    "                self.Log.info(info)\n",
    "\n",
    "            except FileNotFoundError:\n",
    "                if soundSamples[0]:\n",
    "                    info = \"That's the end of database : \" + str(n-1) + \" : Samples added\"\n",
    "                    self.Log.info(info)\n",
    "\n",
    "                    return soundSamples\n",
    "\n",
    "                else:\n",
    "                    self.Log.exception(\"Files are missing\")\n",
    "\n",
    "                break\n",
    "\n",
    "            except Exception as ex:      \n",
    "                self.Log.exception(\"Unexpected error\")\n",
    "                break"
   ]
  },
  {
   "cell_type": "code",
   "execution_count": 8,
   "metadata": {},
   "outputs": [
    {
     "ename": "NameError",
     "evalue": "name 'LoadSoundSamples' is not defined",
     "output_type": "error",
     "traceback": [
      "\u001b[1;31m---------------------------------------------------------------------------\u001b[0m",
      "\u001b[1;31mNameError\u001b[0m                                 Traceback (most recent call last)",
      "\u001b[1;32m<ipython-input-8-4a8308854b25>\u001b[0m in \u001b[0;36m<module>\u001b[1;34m\u001b[0m\n\u001b[1;32m----> 1\u001b[1;33m \u001b[0mVoiceSamples\u001b[0m\u001b[1;33m(\u001b[0m\u001b[1;34m\"vs\"\u001b[0m\u001b[1;33m)\u001b[0m\u001b[1;33m\u001b[0m\u001b[1;33m\u001b[0m\u001b[0m\n\u001b[0m",
      "\u001b[1;32m<ipython-input-7-59e76d742f97>\u001b[0m in \u001b[0;36m__init__\u001b[1;34m(self, core_name, samples_path, trasform)\u001b[0m\n\u001b[0;32m     64\u001b[0m \u001b[1;33m\u001b[0m\u001b[0m\n\u001b[0;32m     65\u001b[0m \u001b[1;33m\u001b[0m\u001b[0m\n\u001b[1;32m---> 66\u001b[1;33m         \u001b[0mLoadSoundSamples\u001b[0m\u001b[1;33m(\u001b[0m\u001b[1;33m)\u001b[0m\u001b[1;33m\u001b[0m\u001b[1;33m\u001b[0m\u001b[0m\n\u001b[0m\u001b[0;32m     67\u001b[0m \u001b[1;33m\u001b[0m\u001b[0m\n\u001b[0;32m     68\u001b[0m         \u001b[0minfo\u001b[0m \u001b[1;33m=\u001b[0m \u001b[1;34m\" VoiceSamples Object successfully created \"\u001b[0m\u001b[1;33m\u001b[0m\u001b[1;33m\u001b[0m\u001b[0m\n",
      "\u001b[1;31mNameError\u001b[0m: name 'LoadSoundSamples' is not defined"
     ]
    }
   ],
   "source": [
    "VoiceSamples(\"vs\")"
   ]
  },
  {
   "cell_type": "code",
   "execution_count": 93,
   "metadata": {},
   "outputs": [],
   "source": [
    "def LoadSoundSamples(coreName, samplesPath=None):\n",
    "    \n",
    "    n = 1\n",
    "    soundSamples = [],[]\n",
    "    \n",
    "    while(True):\n",
    "        try:\n",
    "            if samplesPath:\n",
    "                path = samplesPath + coreName + str(n)\n",
    "            else:\n",
    "                path = coreName + str(n)\n",
    "                \n",
    "            soundSample, sr = lr.load(path)\n",
    "            \n",
    "            n += 1\n",
    "            soundSamples[0].append(soundSample)\n",
    "            soundSamples[1].append(sr) \n",
    "            \n",
    "            info = \" Sample : \" + path + \" : successfully added\"\n",
    "            Log.info(info)\n",
    "            \n",
    "        except FileNotFoundError:\n",
    "            if soundSamples[0]:\n",
    "                info = \"That's the end of database : \" + str(n-1) + \" : Samples added\"\n",
    "                Log.info(info)\n",
    "                \n",
    "                return soundSamples\n",
    "            \n",
    "            else:\n",
    "                Log.exception(\"Files are missing\")\n",
    "\n",
    "            break\n",
    "             \n",
    "        except Exception as ex:      \n",
    "            Log.exception(\"Unexpected error\")\n",
    "            break\n",
    "            \n",
    "            \n",
    "            "
   ]
  },
  {
   "cell_type": "code",
   "execution_count": null,
   "metadata": {},
   "outputs": [],
   "source": []
  },
  {
   "cell_type": "code",
   "execution_count": 94,
   "metadata": {},
   "outputs": [],
   "source": [
    "def ChopToOneSecFragments(soundSample, sr):\n",
    "    \n",
    "    chopedSoundSamples = [],[]\n",
    "    \n",
    "    frag_max = math.trunc(len(soundSample)/float(sr))\n",
    "    step = math.trunc(sr/2);\n",
    "    last_sample = len(soundSample)\n",
    "      \n",
    "    for frag in range(frag_max*2):\n",
    "        start = step * frag\n",
    "        stop = start + sr\n",
    "        if sr<len(soundSample):\n",
    "            chopedSoundSamples[0].append(soundSample[start:stop])\n",
    "            chopedSoundSamples[1].append(sr)\n",
    "            info = \"Sample : \" + str(frag+1) + \" : successfully choped and added\"\n",
    "            Log.info(info)\n",
    "        else:\n",
    "            Log.warning(\"Something went wrong\")\n",
    "        \n",
    "     # incuding samples cuted by math.trunc() \n",
    "    chopedSoundSamples[0].append(soundSample[last_sample-sr:last_sample])\n",
    "    chopedSoundSamples[1].append(sr)\n",
    "    info = \"Sample : \" + str(frag_max*2+1) + \" : successfully choped and added\"\n",
    "    Log.info(info)\n",
    "            \n",
    "    return chopedSoundSamples"
   ]
  },
  {
   "cell_type": "code",
   "execution_count": 95,
   "metadata": {},
   "outputs": [
    {
     "name": "stderr",
     "output_type": "stream",
     "text": [
      "INFO:root: Sample : vs1 : successfully added\n",
      "INFO:root: Sample : vs2 : successfully added\n",
      "INFO:root:That's the end of database : 2 : Samples added\n"
     ]
    },
    {
     "name": "stdout",
     "output_type": "stream",
     "text": [
      "203213\n"
     ]
    },
    {
     "name": "stderr",
     "output_type": "stream",
     "text": [
      "INFO:root:Sample : 1 : successfully choped and added\n",
      "INFO:root:Sample : 2 : successfully choped and added\n",
      "INFO:root:Sample : 3 : successfully choped and added\n",
      "INFO:root:Sample : 4 : successfully choped and added\n",
      "INFO:root:Sample : 5 : successfully choped and added\n",
      "INFO:root:Sample : 6 : successfully choped and added\n",
      "INFO:root:Sample : 7 : successfully choped and added\n",
      "INFO:root:Sample : 8 : successfully choped and added\n",
      "INFO:root:Sample : 9 : successfully choped and added\n",
      "INFO:root:Sample : 10 : successfully choped and added\n",
      "INFO:root:Sample : 11 : successfully choped and added\n",
      "INFO:root:Sample : 12 : successfully choped and added\n",
      "INFO:root:Sample : 13 : successfully choped and added\n",
      "INFO:root:Sample : 14 : successfully choped and added\n",
      "INFO:root:Sample : 15 : successfully choped and added\n",
      "INFO:root:Sample : 16 : successfully choped and added\n",
      "INFO:root:Sample : 17 : successfully choped and added\n",
      "INFO:root:Sample : 18 : successfully choped and added\n",
      "INFO:root:Sample : 19 : successfully choped and added\n"
     ]
    }
   ],
   "source": [
    "sampleList = LoadSoundSamples(\"vs\")\n",
    "if(sampleList!=None):\n",
    "    s_sample = sampleList[0][0]\n",
    "    s_sr = sampleList[1][0] \n",
    "    print(len(sampleList[0][0]))\n",
    "OneSecSamples =  ChopToOneSecFragments(s_sample, s_sr)\n"
   ]
  },
  {
   "cell_type": "code",
   "execution_count": null,
   "metadata": {},
   "outputs": [],
   "source": []
  }
 ],
 "metadata": {
  "kernelspec": {
   "display_name": "Python 3",
   "language": "python",
   "name": "python3"
  },
  "language_info": {
   "codemirror_mode": {
    "name": "ipython",
    "version": 3
   },
   "file_extension": ".py",
   "mimetype": "text/x-python",
   "name": "python",
   "nbconvert_exporter": "python",
   "pygments_lexer": "ipython3",
   "version": "3.7.4"
  }
 },
 "nbformat": 4,
 "nbformat_minor": 2
}
