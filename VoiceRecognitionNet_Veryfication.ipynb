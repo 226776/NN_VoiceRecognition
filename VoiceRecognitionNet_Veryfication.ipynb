{
 "cells": [
  {
   "cell_type": "markdown",
   "metadata": {},
   "source": [
    "# Proces weryfikacji nauczonej sieci Cz. 2"
   ]
  },
  {
   "cell_type": "code",
   "execution_count": 1,
   "metadata": {},
   "outputs": [
    {
     "name": "stdout",
     "output_type": "stream",
     "text": [
      "Type model path: C:/Users/AXDition/Documents/GitHub/NN_VoiceRecognition_Models\n",
      "Wynik rozpoznawania!\n",
      "Krystian: 39  Nicia: 1\n",
      "Wynik rozpoznawania!\n",
      "Krystian: 1  Nicia: 23\n",
      "Przykładowe wyjście nauczonej sieci dla próbki Krystiana:\n",
      "tensor([[ 1.0827, -0.1323]], grad_fn=<AddmmBackward>)\n",
      "Przykładowe wyjście nauczonej sieci dla próbki Nici:\n",
      "tensor([[0.1956, 0.5329]], grad_fn=<AddmmBackward>)\n"
     ]
    }
   ],
   "source": [
    "from Veryfication import VoiceSamples"
   ]
  },
  {
   "cell_type": "markdown",
   "metadata": {},
   "source": [
    "## Wnioski \n",
    "- Sieć nauczyła się prawidłowo\n",
    "- Skuteczność sieci można wstępnie oszacować na ponad 90%\n",
    "- Sieć jest nieoptymalna (model zajmuje przeszło 600MB, za duża ilość neuronów)"
   ]
  }
 ],
 "metadata": {
  "kernelspec": {
   "display_name": "Python 3",
   "language": "python",
   "name": "python3"
  },
  "language_info": {
   "codemirror_mode": {
    "name": "ipython",
    "version": 3
   },
   "file_extension": ".py",
   "mimetype": "text/x-python",
   "name": "python",
   "nbconvert_exporter": "python",
   "pygments_lexer": "ipython3",
   "version": "3.7.4"
  }
 },
 "nbformat": 4,
 "nbformat_minor": 2
}
