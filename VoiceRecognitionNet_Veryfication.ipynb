{
 "cells": [
  {
   "cell_type": "markdown",
   "metadata": {},
   "source": [
    "# Proces weryfikacji nauczonej sieci Cz. 2"
   ]
  },
  {
   "cell_type": "code",
   "execution_count": 1,
   "metadata": {
    "scrolled": true
   },
   "outputs": [
    {
     "name": "stdout",
     "output_type": "stream",
     "text": [
      "Type model path: C:/Users/AXDition/Documents/GitHub/NN_VoiceRecognition_Models\n",
      "\n",
      "\n",
      "Wynik rozpoznawania nagrań Krystiana!\n",
      "Krystian: 39  Nicia: 1\n",
      "\n",
      "\n",
      "Wynik rozpoznawania nagrań Nici!\n",
      "Krystian: 1  Nicia: 23\n",
      "\n",
      "\n",
      "Przykładowe wyjście nauczonej sieci dla próbki Krystiana:\n",
      "tensor([[ 1.0827, -0.1323]], grad_fn=<AddmmBackward>)\n",
      "\n",
      "\n",
      "Przykładowe wyjście nauczonej sieci dla próbki Nici:\n",
      "tensor([[0.1956, 0.5329]], grad_fn=<AddmmBackward>)\n"
     ]
    }
   ],
   "source": [
    "from Veryfication import VoiceSamples"
   ]
  },
  {
   "cell_type": "markdown",
   "metadata": {},
   "source": [
    "## Wnioski \n",
    "- Sieć nauczyła się prawidłowo\n",
    "- Skuteczność sieci można wstępnie oszacować na ponad 90%\n",
    "- Sieć jest nieoptymalna (model zajmuje przeszło 600MB, za duża ilość neuronów)"
   ]
  },
  {
   "cell_type": "markdown",
   "metadata": {},
   "source": [
    "Niżej zaprezentowane funkcje są wyrywkami zawartymi w pliku Veryfikacja.py wywołanym powyżej"
   ]
  },
  {
   "cell_type": "code",
   "execution_count": null,
   "metadata": {},
   "outputs": [],
   "source": [
    "# loading test samples of Krystians Voice\n",
    "vsKrystianTest = VoiceSamples(\"vsKrystianTest\", samples_path=\"database/Test/\" , Automatic=True)\n",
    "\n",
    "\n",
    "K = 0 # Recognizes as Krystian\n",
    "N = 0 # Recognizes as Nicia\n",
    "\n",
    "# Recognition loop\n",
    "\n",
    "for k in range(len(vsKrystianTest)):  \n",
    "    \n",
    "    vs = vsKrystianTest[k]\n",
    "    \n",
    "    input = vs.view(-1,1,256,256)\n",
    "    output = net(input)\n",
    "    v,i = output[0].max(0)\n",
    "    if int(i) == 0:\n",
    "        K += 1\n",
    "    else:\n",
    "        N += 1\n",
    "   \n",
    "print(\"\\n\")\n",
    "print(\"Wynik rozpoznawania nagrań Krystiana!\")\n",
    "print(\"Krystian:\",K,\" Nicia:\",N)"
   ]
  },
  {
   "cell_type": "code",
   "execution_count": null,
   "metadata": {},
   "outputs": [],
   "source": [
    "# example outputs \n",
    "\n",
    "input = vsKrystianTest[5].view(-1,1,256,256)\n",
    "output = net(input)\n",
    "\n",
    "print(\"\\n\")\n",
    "print(\"Przykładowe wyjście nauczonej sieci dla próbki Krystiana:\")\n",
    "print(output)\n",
    "\n",
    "input = vsNiciaTest[5].view(-1,1,256,256)\n",
    "output = net(input)\n",
    "\n",
    "print(\"\\n\")\n",
    "print(\"Przykładowe wyjście nauczonej sieci dla próbki Nici:\")\n",
    "print(output)"
   ]
  }
 ],
 "metadata": {
  "kernelspec": {
   "display_name": "Python 3",
   "language": "python",
   "name": "python3"
  },
  "language_info": {
   "codemirror_mode": {
    "name": "ipython",
    "version": 3
   },
   "file_extension": ".py",
   "mimetype": "text/x-python",
   "name": "python",
   "nbconvert_exporter": "python",
   "pygments_lexer": "ipython3",
   "version": "3.7.4"
  }
 },
 "nbformat": 4,
 "nbformat_minor": 2
}
