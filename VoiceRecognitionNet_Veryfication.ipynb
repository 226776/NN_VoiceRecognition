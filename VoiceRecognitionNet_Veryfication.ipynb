{
 "cells": [
  {
   "cell_type": "code",
   "execution_count": null,
   "metadata": {},
   "outputs": [
    {
     "name": "stdout",
     "output_type": "stream",
     "text": [
      "C:\\Users\\AXDition\\Documents\\GitHub\\NN_VoiceRecognition\n",
      "Type model path: C:/Users/AXDition/Documents/GitHub/NN_VoiceRecognition_Models/modelSave\n",
      "Wynik rozpoznawania!\n",
      "Krystian: 39  Nicia: 1\n"
     ]
    }
   ],
   "source": [
    "from VoiceRecognitionNet_Veryfication import VoiceSamples"
   ]
  },
  {
   "cell_type": "code",
   "execution_count": 2,
   "metadata": {},
   "outputs": [
    {
     "ename": "FileNotFoundError",
     "evalue": "[Errno 2] No such file or directory: '/home/krys/POLIBUDA/nn_VoiceRecognition_Models/modelV5.pt'",
     "output_type": "error",
     "traceback": [
      "\u001b[1;31m---------------------------------------------------------------------------\u001b[0m",
      "\u001b[1;31mFileNotFoundError\u001b[0m                         Traceback (most recent call last)",
      "\u001b[1;32m<ipython-input-2-6e00979ee65e>\u001b[0m in \u001b[0;36m<module>\u001b[1;34m\u001b[0m\n\u001b[0;32m     39\u001b[0m \u001b[1;33m\u001b[0m\u001b[0m\n\u001b[0;32m     40\u001b[0m \u001b[0mnet\u001b[0m \u001b[1;33m=\u001b[0m \u001b[0mVoiceRecogModel\u001b[0m\u001b[1;33m(\u001b[0m\u001b[1;33m)\u001b[0m\u001b[1;33m\u001b[0m\u001b[1;33m\u001b[0m\u001b[0m\n\u001b[1;32m---> 41\u001b[1;33m \u001b[0mnet\u001b[0m\u001b[1;33m.\u001b[0m\u001b[0mload_state_dict\u001b[0m\u001b[1;33m(\u001b[0m\u001b[0mtorch\u001b[0m\u001b[1;33m.\u001b[0m\u001b[0mload\u001b[0m\u001b[1;33m(\u001b[0m\u001b[0mPATH\u001b[0m\u001b[1;33m)\u001b[0m\u001b[1;33m)\u001b[0m\u001b[1;33m\u001b[0m\u001b[1;33m\u001b[0m\u001b[0m\n\u001b[0m\u001b[0;32m     42\u001b[0m \u001b[0mnet\u001b[0m\u001b[1;33m.\u001b[0m\u001b[0meval\u001b[0m\u001b[1;33m(\u001b[0m\u001b[1;33m)\u001b[0m\u001b[1;33m\u001b[0m\u001b[1;33m\u001b[0m\u001b[0m\n",
      "\u001b[1;32m~\\Anaconda3_v2\\lib\\site-packages\\torch\\serialization.py\u001b[0m in \u001b[0;36mload\u001b[1;34m(f, map_location, pickle_module, **pickle_load_args)\u001b[0m\n\u001b[0;32m    417\u001b[0m             \u001b[1;33m(\u001b[0m\u001b[0msys\u001b[0m\u001b[1;33m.\u001b[0m\u001b[0mversion_info\u001b[0m\u001b[1;33m[\u001b[0m\u001b[1;36m0\u001b[0m\u001b[1;33m]\u001b[0m \u001b[1;33m==\u001b[0m \u001b[1;36m2\u001b[0m \u001b[1;32mand\u001b[0m \u001b[0misinstance\u001b[0m\u001b[1;33m(\u001b[0m\u001b[0mf\u001b[0m\u001b[1;33m,\u001b[0m \u001b[0municode\u001b[0m\u001b[1;33m)\u001b[0m\u001b[1;33m)\u001b[0m\u001b[1;33m:\u001b[0m\u001b[1;33m\u001b[0m\u001b[1;33m\u001b[0m\u001b[0m\n\u001b[0;32m    418\u001b[0m         \u001b[0mnew_fd\u001b[0m \u001b[1;33m=\u001b[0m \u001b[1;32mTrue\u001b[0m\u001b[1;33m\u001b[0m\u001b[1;33m\u001b[0m\u001b[0m\n\u001b[1;32m--> 419\u001b[1;33m         \u001b[0mf\u001b[0m \u001b[1;33m=\u001b[0m \u001b[0mopen\u001b[0m\u001b[1;33m(\u001b[0m\u001b[0mf\u001b[0m\u001b[1;33m,\u001b[0m \u001b[1;34m'rb'\u001b[0m\u001b[1;33m)\u001b[0m\u001b[1;33m\u001b[0m\u001b[1;33m\u001b[0m\u001b[0m\n\u001b[0m\u001b[0;32m    420\u001b[0m     \u001b[1;32melif\u001b[0m \u001b[1;33m(\u001b[0m\u001b[0msys\u001b[0m\u001b[1;33m.\u001b[0m\u001b[0mversion_info\u001b[0m\u001b[1;33m[\u001b[0m\u001b[1;36m0\u001b[0m\u001b[1;33m]\u001b[0m \u001b[1;33m==\u001b[0m \u001b[1;36m3\u001b[0m \u001b[1;32mand\u001b[0m \u001b[0misinstance\u001b[0m\u001b[1;33m(\u001b[0m\u001b[0mf\u001b[0m\u001b[1;33m,\u001b[0m \u001b[0mpathlib\u001b[0m\u001b[1;33m.\u001b[0m\u001b[0mPath\u001b[0m\u001b[1;33m)\u001b[0m\u001b[1;33m)\u001b[0m\u001b[1;33m:\u001b[0m\u001b[1;33m\u001b[0m\u001b[1;33m\u001b[0m\u001b[0m\n\u001b[0;32m    421\u001b[0m         \u001b[0mnew_fd\u001b[0m \u001b[1;33m=\u001b[0m \u001b[1;32mTrue\u001b[0m\u001b[1;33m\u001b[0m\u001b[1;33m\u001b[0m\u001b[0m\n",
      "\u001b[1;31mFileNotFoundError\u001b[0m: [Errno 2] No such file or directory: '/home/krys/POLIBUDA/nn_VoiceRecognition_Models/modelV5.pt'"
     ]
    }
   ],
   "source": [
    "import torch\n",
    "import torch.nn as nn\n",
    "import torch.nn.functional as F\n",
    "\n",
    "class VoiceRecogModel(nn.Module):\n",
    "\n",
    "    def __init__(self):\n",
    "        super(VoiceRecogModel, self).__init__()\n",
    "        # 1 input image channel, 6 output channels, 3x3 square convolution\n",
    "        # kernel\n",
    "        self.conv1 = nn.Conv2d(1, 10, 3)\n",
    "        self.conv2 = nn.Conv2d(10, 20, 3)\n",
    "        # an affine operation: y = Wx + b\n",
    "        self.fc1 = nn.Linear(20*62*62, 2000)  # ?? from image dimension\n",
    "        self.fc2 = nn.Linear(2000, 300)\n",
    "        self.fc3 = nn.Linear(300, 2)\n",
    "\n",
    "    def forward(self, x):\n",
    "        # Max pooling over a (2, 2) window\n",
    "        x = F.max_pool2d(F.relu(self.conv1(x)), 2)\n",
    "        # If the size is a square you can only specify a single number\n",
    "        x = F.max_pool2d(F.relu(self.conv2(x)), 2)\n",
    "        x = x.view(-1, self.num_flat_features(x))\n",
    "        x = F.relu(self.fc1(x))\n",
    "        x = F.relu(self.fc2(x))\n",
    "        x = self.fc3(x)\n",
    "        return x\n",
    "\n",
    "    def num_flat_features(self, x):\n",
    "        size = x.size()[1:]  # all dimensions except the batch dimension\n",
    "        num_features = 1\n",
    "        for s in size:\n",
    "            num_features *= s\n",
    "        return num_features\n",
    "    \n",
    "    # create parrter recognition model \n",
    "\n",
    "PATH = \"/home/krys/POLIBUDA/nn_VoiceRecognition_Models/modelV5.pt\"\n",
    "\n",
    "net = VoiceRecogModel()\n",
    "net.load_state_dict(torch.load(PATH))\n",
    "net.eval()"
   ]
  },
  {
   "cell_type": "markdown",
   "metadata": {},
   "source": [
    "# Proces weryfikacji nauczonej sieci Cz. 2"
   ]
  },
  {
   "cell_type": "code",
   "execution_count": null,
   "metadata": {},
   "outputs": [],
   "source": [
    "import os\n",
    "\n",
    "# test sample folder view\n",
    "os.listdir(\"database/Test/\")"
   ]
  },
  {
   "cell_type": "markdown",
   "metadata": {},
   "source": [
    "## Weryfikcja głosu nr 1\n",
    "\n",
    "W poniższym skrypcie ładuję przykładową próbkę testową spoza bazy uczącej.\n",
    "W pierwszym podejściu próbka należy do Krystiana.\n",
    "\n",
    "Rezyltat jest bardzo satsfakcjonujący: na __40__ uciętych fragmętów z mojej kilkunsto sekundowej próbki __39__ zostało rozpoznanych jako głos Krystiana.\n",
    "\n",
    "Uwaga: wyświetlony na czerownym polu błąd, jest związany z brakiem kodeków do bibliteki __librosa__, nie wpływa na poprawne wczytywanie nagrań. "
   ]
  },
  {
   "cell_type": "code",
   "execution_count": null,
   "metadata": {},
   "outputs": [],
   "source": [
    "# loading test samples of Krystians Voice\n",
    "vsKrystianTest = VoiceSamples(\"vsKrystianTest\", samples_path=\"database/Test/\" , Automatic=True)\n",
    "\n",
    "\n",
    "K = 0 # Recognizes as Krystian\n",
    "N = 0 # Recognizes as Nicia\n",
    "\n",
    "# Recognition loop\n",
    "\n",
    "for k in range(len(vsKrystianTest)):  \n",
    "    \n",
    "    vs = vsKrystianTest[k]\n",
    "    \n",
    "    input = vs.view(-1,1,256,256)\n",
    "    output = net(input)\n",
    "    v,i = output[0].max(0)\n",
    "    if int(i) == 0:\n",
    "        K += 1\n",
    "    else:\n",
    "        N += 1\n",
    "    \n",
    "print(\"Wynik rozpoznawania!\")\n",
    "print(\"Krystian:\",K,\" Nicia:\",N)\n",
    "    "
   ]
  },
  {
   "cell_type": "markdown",
   "metadata": {},
   "source": [
    "## Weryfikcja głosu nr 2\n",
    "\n",
    "W drugim podejściu próbka należy do Nicia.\n",
    "\n",
    "Rezyltat jest równie satsfakcjonujący: na __24__ uciętych fragmętów z kilku sekundowej próbki __23__ zostało rozpoznanych jako głos Nici."
   ]
  },
  {
   "cell_type": "code",
   "execution_count": null,
   "metadata": {},
   "outputs": [],
   "source": [
    "# loading test samples of Nicia's Voice\n",
    "vsNiciaTest = VoiceSamples(\"vsNiciaTest\", samples_path=\"database/Test/\" , Automatic=True)\n",
    "\n",
    "\n",
    "K = 0 # Recognizes as Krystian\n",
    "N = 0 # Recognizes as Nicia\n",
    "\n",
    "# Recognition loop\n",
    "\n",
    "for k in range(len(vsNiciaTest)):  \n",
    "    \n",
    "    vs = vsNiciaTest[k]\n",
    "    \n",
    "    input = vs.view(-1,1,256,256)\n",
    "    output = net(input)\n",
    "    v,i = output[0].max(0)\n",
    "    if int(i) == 0:\n",
    "        K += 1\n",
    "    else:\n",
    "        N += 1\n",
    "    \n",
    "print(\"Wynik rozpoznawania!\")\n",
    "print(\"Krystian:\",K,\" Nicia:\",N)"
   ]
  },
  {
   "cell_type": "markdown",
   "metadata": {},
   "source": []
  },
  {
   "cell_type": "code",
   "execution_count": null,
   "metadata": {},
   "outputs": [],
   "source": [
    "# example outputs \n",
    "\n",
    "input = vsKrystianTest[5].view(-1,1,256,256)\n",
    "output = net(input)\n",
    "\n",
    "print(\"Przykładowe wyjście nauczonej sieci dla próbki Krystiana:\")\n",
    "print(output)\n",
    "\n",
    "input = vsNiciaTest[5].view(-1,1,256,256)\n",
    "output = net(input)\n",
    "\n",
    "print(\"Przykładowe wyjście nauczonej sieci dla próbki Nici:\")\n",
    "print(output)"
   ]
  },
  {
   "cell_type": "code",
   "execution_count": null,
   "metadata": {},
   "outputs": [],
   "source": []
  }
 ],
 "metadata": {
  "kernelspec": {
   "display_name": "Python 3",
   "language": "python",
   "name": "python3"
  },
  "language_info": {
   "codemirror_mode": {
    "name": "ipython",
    "version": 3
   },
   "file_extension": ".py",
   "mimetype": "text/x-python",
   "name": "python",
   "nbconvert_exporter": "python",
   "pygments_lexer": "ipython3",
   "version": "3.7.4"
  }
 },
 "nbformat": 4,
 "nbformat_minor": 2
}
