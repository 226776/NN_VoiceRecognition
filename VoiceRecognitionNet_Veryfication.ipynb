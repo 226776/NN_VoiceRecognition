{
 "cells": [
  {
   "cell_type": "code",
   "execution_count": 1,
   "metadata": {},
   "outputs": [],
   "source": [
    "import librosa as lr\n",
    "import numpy as np\n",
    "import torch\n",
    "import torch.nn as nn\n",
    "import torch.nn.functional as F\n",
    "import math\n",
    "import logging\n",
    "\n",
    "from torch.utils.data import Dataset, DataLoader\n",
    "from matplotlib import pyplot  \n",
    "\n",
    "\n",
    "class VoiceSamples(Dataset):\n",
    "    \n",
    "    def __init__(self, core_name, samples_path=None, Automatic=None):\n",
    "        \n",
    "        self.Log = logging.getLogger()\n",
    "        logging.basicConfig(level=logging.INFO)\n",
    "        \n",
    "        self.noiseThreshold = 1\n",
    "        \n",
    "        self.core_name = core_name\n",
    "        self.samples_path = samples_path\n",
    "        \n",
    "        self.soundSamples = []\n",
    "        self.sampleRate = []\n",
    "        self.path = []\n",
    "        \n",
    "        self.chopedSamples = []\n",
    "        self.chopedSr = []\n",
    "        \n",
    "        self.tensorMelgrams = []\n",
    "        \n",
    "        \n",
    "        self.info = \" VoiceSamples Object successfully created \"\n",
    "        self.Log.info(self.info)\n",
    "        \n",
    "        \n",
    "        if Automatic:\n",
    "            self.LoadSoundSamples()\n",
    "            self.ChopToOneSecFragments()\n",
    "            self.ChopedSignalsToTenosor()\n",
    "        \n",
    "    def __len__(self):\n",
    "        return len(self.tensorMelgrams)\n",
    "    \n",
    "    def __getitem__(self, idx):\n",
    "        if self.tensorMelgrams:\n",
    "            return self.tensorMelgrams[idx]\n",
    "\n",
    "    def LoadSoundSamples(self):\n",
    "    \n",
    "        n = 1\n",
    "\n",
    "        while(True):\n",
    "            try:\n",
    "                if  self.samples_path:\n",
    "                    path =  self.samples_path + self.core_name + str(n)\n",
    "                else:\n",
    "                    path = self.core_name + str(n)\n",
    "\n",
    "                soundSample, sampleRate = lr.load(path)\n",
    "\n",
    "                n += 1\n",
    "                self.soundSamples.append(soundSample)\n",
    "                self.sampleRate.append(sampleRate) \n",
    "                self.path.append(path)\n",
    "\n",
    "                self.info = \" Sample : \" + path + \" : successfully added\"\n",
    "                self.Log.info(self.info)\n",
    "\n",
    "            except FileNotFoundError:\n",
    "                if self.soundSamples:\n",
    "                    self.info = \"That's the end of database : \" + str(n-1) + \" : Samples added\"\n",
    "                    self.Log.info(self.info)\n",
    "                    n = 0\n",
    "                    \n",
    "                    return self.soundSamples, self.sampleRate, self.path\n",
    "\n",
    "                else:\n",
    "                    self.Log.exception(\"Files are missing\")\n",
    "                    n = 0\n",
    "\n",
    "                break\n",
    "\n",
    "            except Exception as ex:      \n",
    "                self.Log.exception(\"Unexpected error\")\n",
    "                break\n",
    "        \n",
    "    def getSoundSample(self, idx):\n",
    "        return self.soundSamples[idx], self.sampleRate[idx]\n",
    "    \n",
    "    def getSoundSampleLen(self):\n",
    "        try:\n",
    "            if len(self.soundSamples) == len(self.sampleRate):\n",
    "                return len(self.soundSamples)\n",
    "            else:\n",
    "                self.Log.warning(\"Lists: sundSamples and sampleRate are not equal!\")\n",
    "                \n",
    "        except Exception as e:\n",
    "            self.Log.exception(\"Unexpected error\" + e)\n",
    "    \n",
    "    def ChopToOneSecFragments(self):\n",
    "        \n",
    "        # TODO: make shure user goes step by step \n",
    "        \n",
    "        try:\n",
    "            if len(self.soundSamples) == len(self.sampleRate):\n",
    "                for idx in range(len(self.soundSamples)):\n",
    "                    \n",
    "                    soundSample = self.soundSamples[idx]\n",
    "                    sr = self.sampleRate[idx]\n",
    "                    \n",
    "                    frag_max = math.trunc(len(soundSample)/float(sr))\n",
    "                    step = math.trunc(sr/2);\n",
    "                    last_sample = len(soundSample)\n",
    "\n",
    "                    for frag in range(frag_max*2):\n",
    "                        start = step * frag\n",
    "                        stop = start + sr\n",
    "                        if sr<len(soundSample):\n",
    "                            if self.checkIfNotNoise(soundSample[start:stop]):\n",
    "                                self.chopedSamples.append(soundSample[start:stop])\n",
    "                                self.chopedSr.append(sr)\n",
    "                                self.info = self.path[idx] + \" : \" + str(frag+1) + \" : successfully choped\"\n",
    "                                self.Log.info(self.info)\n",
    "                            else:\n",
    "                                self.info = self.path[idx] + \" : \" + str(frag+1) + \" : NOISE!\"\n",
    "                                self.Log.info(self.info)\n",
    "                        else:\n",
    "                            self.Log.warning(\"Something went wrong\")\n",
    "                            \n",
    "                    if self.checkIfNotNoise(soundSample[last_sample-sr:last_sample]):\n",
    "                         # incuding samples cuted by math.trunc() \n",
    "                        self.chopedSamples.append(soundSample[last_sample-sr:last_sample])\n",
    "                        self.chopedSr.append(sr)\n",
    "                        self.info = self.path[idx] +  \" : \"  + str(frag_max*2+1) + \" : successfully choped\"\n",
    "                        self.Log.info(self.info)\n",
    "                    else:\n",
    "                        self.info = self.path[idx] + \" : \"  + str(frag+1) + \" : NOISE!\"\n",
    "                        self.Log.info(self.info)\n",
    "                \n",
    "                if self.chopedSamples:\n",
    "                    self.Log.info(\"Sucessfully choped all loaded signals and eliminated the noise!\")\n",
    "                    return self.chopedSamples, self.chopedSr \n",
    "                    \n",
    "            else:\n",
    "                self.Log.warning(\"Lists: sundSamples and sampleRate are not equal!\")\n",
    "                \n",
    "        except Exception as e:\n",
    "            self.e = \"Unexpected error : \" + str(e)\n",
    "            self.Log.exception(self.e)\n",
    "            \n",
    "    def getChoped(self, idx):\n",
    "        return self.chopedSamples[idx], self.chopedSr[idx]\n",
    "        \n",
    "    def getChopedLen(self):\n",
    "        try:\n",
    "            if len(self.chopedSamples) == len(self.chopedSr):\n",
    "                    return len(self.chopedSamples)\n",
    "            else:\n",
    "                self.Log.warning(\"Lists: sundSamples and sampleRate are not equal!\")\n",
    "                \n",
    "        except Exception as e:\n",
    "            self.Log.exception(\"Unexpected error\" + e)\n",
    "            \n",
    "        \n",
    "    def ChopedSignalsToTenosor(self):\n",
    "        \n",
    "        # TODO: make shure user goes step by step \n",
    "        \n",
    "        try:\n",
    "        \n",
    "            if len(self.chopedSamples) == len(self.chopedSr):\n",
    "                for idx in range(len(self.chopedSamples)):\n",
    "\n",
    "                    # hop length adjusted\n",
    "                    STFT_signal = np.abs(lr.stft(self.chopedSamples[idx], n_fft = 512, hop_length = round(self.chopedSr[idx]/256))) \n",
    "                    STFT_signal = lr.power_to_db(STFT_signal**2,ref=np.max)\n",
    "\n",
    "                    Melgram = STFT_signal[0:256,0:256]\n",
    "                    TMelgram = torch.tensor(Melgram)\n",
    "                    self.tensorMelgrams.append(TMelgram)\n",
    "                    \n",
    "                    self.info = \" \" + self.samples_path +  \" : ChopedSample \" + str(idx) + \" : \" + \" : converted to tensor\"\n",
    "                    self.Log.info(self.info)\n",
    "                \n",
    "                if self.tensorMelgrams:\n",
    "                    self.Log.info(\"Sucessfully converted all ChopedSamples to Tensors!\")\n",
    "                    return self.tensorMelgrams\n",
    "                \n",
    "            else:\n",
    "                self.Log.warning(\"Lists: chopedSamples and chopedSr are not equal!\")\n",
    "                \n",
    "        except Exception as e:\n",
    "            self.e = \"Unexpected error : \" + str(e)\n",
    "            self.Log.exception(self.e)\n",
    "                \n",
    "    \n",
    "    \n",
    "    def checkIfNotNoise(self, chopedSample):\n",
    "    \n",
    "        chopedSamplePow2 = []\n",
    "\n",
    "        for n in range(len(chopedSample)):\n",
    "            chopedSamplePow2.append(chopedSample[n]**2)\n",
    "        sk = sum(chopedSamplePow2)\n",
    "        if sk > self.noiseThreshold:\n",
    "            return True \n",
    "        else:\n",
    "            return False"
   ]
  },
  {
   "cell_type": "code",
   "execution_count": 3,
   "metadata": {},
   "outputs": [],
   "source": [
    "import torch\n",
    "import torch.nn as nn\n",
    "import torch.nn.functional as F\n",
    "\n",
    "class VoiceRecogModel(nn.Module):\n",
    "\n",
    "    def __init__(self):\n",
    "        super(VoiceRecogModel, self).__init__()\n",
    "        # 1 input image channel, 6 output channels, 3x3 square convolution\n",
    "        # kernel\n",
    "        self.conv1 = nn.Conv2d(1, 6, 3)\n",
    "        self.conv2 = nn.Conv2d(6, 16, 3)\n",
    "        # an affine operation: y = Wx + b\n",
    "        self.fc1 = nn.Linear(16*62*62, 120)  # ?? from image dimension\n",
    "        self.fc2 = nn.Linear(120, 84)\n",
    "        self.fc3 = nn.Linear(84, 2)\n",
    "\n",
    "    def forward(self, x):\n",
    "        # Max pooling over a (2, 2) window\n",
    "        x = F.max_pool2d(F.relu(self.conv1(x)), 2)\n",
    "        # If the size is a square you can only specify a single number\n",
    "        x = F.max_pool2d(F.relu(self.conv2(x)), 2)\n",
    "        x = x.view(-1, self.num_flat_features(x))\n",
    "        x = F.relu(self.fc1(x))\n",
    "        x = F.relu(self.fc2(x))\n",
    "        x = self.fc3(x)\n",
    "        return x\n",
    "\n",
    "    def num_flat_features(self, x):\n",
    "        size = x.size()[1:]  # all dimensions except the batch dimension\n",
    "        num_features = 1\n",
    "        for s in size:\n",
    "            num_features *= s\n",
    "        return num_features"
   ]
  },
  {
   "cell_type": "code",
   "execution_count": 4,
   "metadata": {},
   "outputs": [
    {
     "name": "stderr",
     "output_type": "stream",
     "text": [
      "INFO:root: VoiceSamples Object successfully created \n",
      "INFO:root: Sample : database/Krystian/vsKrystian1 : successfully added\n",
      "INFO:root: Sample : database/Krystian/vsKrystian2 : successfully added\n",
      "INFO:root:That's the end of database : 2 : Samples added\n",
      "INFO:root:database/Krystian/vsKrystian1 : 1 : successfully choped\n",
      "INFO:root:database/Krystian/vsKrystian1 : 2 : successfully choped\n",
      "INFO:root:database/Krystian/vsKrystian1 : 3 : successfully choped\n",
      "INFO:root:database/Krystian/vsKrystian1 : 4 : successfully choped\n",
      "INFO:root:database/Krystian/vsKrystian1 : 5 : successfully choped\n",
      "INFO:root:database/Krystian/vsKrystian1 : 6 : successfully choped\n",
      "INFO:root:database/Krystian/vsKrystian1 : 7 : successfully choped\n",
      "INFO:root:database/Krystian/vsKrystian1 : 8 : successfully choped\n",
      "INFO:root:database/Krystian/vsKrystian1 : 9 : successfully choped\n",
      "INFO:root:database/Krystian/vsKrystian1 : 10 : successfully choped\n",
      "INFO:root:database/Krystian/vsKrystian1 : 11 : successfully choped\n",
      "INFO:root:database/Krystian/vsKrystian1 : 12 : successfully choped\n",
      "INFO:root:database/Krystian/vsKrystian1 : 13 : successfully choped\n",
      "INFO:root:database/Krystian/vsKrystian1 : 14 : successfully choped\n",
      "INFO:root:database/Krystian/vsKrystian1 : 15 : NOISE!\n",
      "INFO:root:database/Krystian/vsKrystian1 : 16 : NOISE!\n",
      "INFO:root:database/Krystian/vsKrystian1 : 17 : NOISE!\n",
      "INFO:root:database/Krystian/vsKrystian1 : 18 : NOISE!\n",
      "INFO:root:database/Krystian/vsKrystian1 : 18 : NOISE!\n",
      "INFO:root:database/Krystian/vsKrystian2 : 1 : successfully choped\n",
      "INFO:root:database/Krystian/vsKrystian2 : 2 : successfully choped\n",
      "INFO:root:database/Krystian/vsKrystian2 : 3 : successfully choped\n",
      "INFO:root:database/Krystian/vsKrystian2 : 4 : successfully choped\n",
      "INFO:root:database/Krystian/vsKrystian2 : 5 : successfully choped\n",
      "INFO:root:database/Krystian/vsKrystian2 : 6 : successfully choped\n",
      "INFO:root:database/Krystian/vsKrystian2 : 7 : successfully choped\n",
      "INFO:root:database/Krystian/vsKrystian2 : 8 : successfully choped\n",
      "INFO:root:database/Krystian/vsKrystian2 : 9 : successfully choped\n",
      "INFO:root:database/Krystian/vsKrystian2 : 10 : successfully choped\n",
      "INFO:root:database/Krystian/vsKrystian2 : 11 : successfully choped\n",
      "INFO:root:database/Krystian/vsKrystian2 : 12 : successfully choped\n",
      "INFO:root:database/Krystian/vsKrystian2 : 13 : successfully choped\n",
      "INFO:root:database/Krystian/vsKrystian2 : 14 : successfully choped\n",
      "INFO:root:database/Krystian/vsKrystian2 : 15 : successfully choped\n",
      "INFO:root:database/Krystian/vsKrystian2 : 16 : successfully choped\n",
      "INFO:root:database/Krystian/vsKrystian2 : 17 : successfully choped\n",
      "INFO:root:database/Krystian/vsKrystian2 : 18 : successfully choped\n",
      "INFO:root:database/Krystian/vsKrystian2 : 19 : successfully choped\n",
      "INFO:root:database/Krystian/vsKrystian2 : 20 : successfully choped\n",
      "INFO:root:database/Krystian/vsKrystian2 : 21 : successfully choped\n",
      "INFO:root:database/Krystian/vsKrystian2 : 22 : successfully choped\n",
      "INFO:root:database/Krystian/vsKrystian2 : 23 : successfully choped\n",
      "INFO:root:database/Krystian/vsKrystian2 : 24 : successfully choped\n",
      "INFO:root:database/Krystian/vsKrystian2 : 25 : successfully choped\n",
      "INFO:root:database/Krystian/vsKrystian2 : 26 : successfully choped\n",
      "INFO:root:database/Krystian/vsKrystian2 : 27 : successfully choped\n",
      "INFO:root:database/Krystian/vsKrystian2 : 28 : successfully choped\n",
      "INFO:root:database/Krystian/vsKrystian2 : 29 : successfully choped\n",
      "INFO:root:database/Krystian/vsKrystian2 : 30 : successfully choped\n",
      "INFO:root:database/Krystian/vsKrystian2 : 31 : successfully choped\n",
      "INFO:root:database/Krystian/vsKrystian2 : 32 : successfully choped\n",
      "INFO:root:database/Krystian/vsKrystian2 : 33 : successfully choped\n",
      "INFO:root:database/Krystian/vsKrystian2 : 34 : successfully choped\n",
      "INFO:root:database/Krystian/vsKrystian2 : 35 : successfully choped\n",
      "INFO:root:database/Krystian/vsKrystian2 : 36 : successfully choped\n",
      "INFO:root:database/Krystian/vsKrystian2 : 37 : successfully choped\n",
      "INFO:root:database/Krystian/vsKrystian2 : 38 : successfully choped\n",
      "INFO:root:database/Krystian/vsKrystian2 : 39 : successfully choped\n",
      "INFO:root:database/Krystian/vsKrystian2 : 40 : successfully choped\n",
      "INFO:root:database/Krystian/vsKrystian2 : 41 : successfully choped\n",
      "INFO:root:database/Krystian/vsKrystian2 : 42 : successfully choped\n",
      "INFO:root:database/Krystian/vsKrystian2 : 43 : successfully choped\n",
      "INFO:root:database/Krystian/vsKrystian2 : 44 : NOISE!\n",
      "INFO:root:database/Krystian/vsKrystian2 : 45 : NOISE!\n",
      "INFO:root:database/Krystian/vsKrystian2 : 46 : successfully choped\n",
      "INFO:root:database/Krystian/vsKrystian2 : 47 : successfully choped\n",
      "INFO:root:database/Krystian/vsKrystian2 : 48 : successfully choped\n",
      "INFO:root:database/Krystian/vsKrystian2 : 49 : successfully choped\n",
      "INFO:root:database/Krystian/vsKrystian2 : 50 : successfully choped\n",
      "INFO:root:database/Krystian/vsKrystian2 : 51 : NOISE!\n",
      "INFO:root:database/Krystian/vsKrystian2 : 52 : successfully choped\n",
      "INFO:root:database/Krystian/vsKrystian2 : 53 : successfully choped\n",
      "INFO:root:database/Krystian/vsKrystian2 : 54 : successfully choped\n",
      "INFO:root:database/Krystian/vsKrystian2 : 55 : successfully choped\n",
      "INFO:root:database/Krystian/vsKrystian2 : 56 : successfully choped\n",
      "INFO:root:database/Krystian/vsKrystian2 : 57 : successfully choped\n",
      "INFO:root:database/Krystian/vsKrystian2 : 58 : successfully choped\n",
      "INFO:root:database/Krystian/vsKrystian2 : 59 : successfully choped\n",
      "INFO:root:database/Krystian/vsKrystian2 : 60 : successfully choped\n",
      "INFO:root:database/Krystian/vsKrystian2 : 61 : successfully choped\n",
      "INFO:root:database/Krystian/vsKrystian2 : 62 : successfully choped\n",
      "INFO:root:database/Krystian/vsKrystian2 : 63 : successfully choped\n",
      "INFO:root:database/Krystian/vsKrystian2 : 64 : successfully choped\n",
      "INFO:root:database/Krystian/vsKrystian2 : 65 : successfully choped\n",
      "INFO:root:database/Krystian/vsKrystian2 : 66 : successfully choped\n",
      "INFO:root:database/Krystian/vsKrystian2 : 67 : successfully choped\n",
      "INFO:root:database/Krystian/vsKrystian2 : 68 : successfully choped\n",
      "INFO:root:database/Krystian/vsKrystian2 : 69 : successfully choped\n",
      "INFO:root:database/Krystian/vsKrystian2 : 70 : NOISE!\n",
      "INFO:root:database/Krystian/vsKrystian2 : 71 : successfully choped\n",
      "INFO:root:database/Krystian/vsKrystian2 : 72 : successfully choped\n",
      "INFO:root:database/Krystian/vsKrystian2 : 73 : successfully choped\n",
      "INFO:root:database/Krystian/vsKrystian2 : 74 : successfully choped\n",
      "INFO:root:database/Krystian/vsKrystian2 : 75 : successfully choped\n",
      "INFO:root:database/Krystian/vsKrystian2 : 76 : successfully choped\n",
      "INFO:root:database/Krystian/vsKrystian2 : 77 : NOISE!\n",
      "INFO:root:database/Krystian/vsKrystian2 : 78 : successfully choped\n",
      "INFO:root:database/Krystian/vsKrystian2 : 79 : successfully choped\n",
      "INFO:root:database/Krystian/vsKrystian2 : 80 : successfully choped\n",
      "INFO:root:database/Krystian/vsKrystian2 : 81 : successfully choped\n",
      "INFO:root:database/Krystian/vsKrystian2 : 82 : successfully choped\n",
      "INFO:root:database/Krystian/vsKrystian2 : 83 : successfully choped\n",
      "INFO:root:database/Krystian/vsKrystian2 : 84 : successfully choped\n",
      "INFO:root:database/Krystian/vsKrystian2 : 85 : successfully choped\n",
      "INFO:root:database/Krystian/vsKrystian2 : 86 : successfully choped\n",
      "INFO:root:database/Krystian/vsKrystian2 : 87 : successfully choped\n",
      "INFO:root:database/Krystian/vsKrystian2 : 88 : successfully choped\n",
      "INFO:root:database/Krystian/vsKrystian2 : 89 : successfully choped\n",
      "INFO:root:database/Krystian/vsKrystian2 : 90 : successfully choped\n",
      "INFO:root:database/Krystian/vsKrystian2 : 91 : successfully choped\n",
      "INFO:root:database/Krystian/vsKrystian2 : 92 : successfully choped\n",
      "INFO:root:database/Krystian/vsKrystian2 : 93 : successfully choped\n",
      "INFO:root:database/Krystian/vsKrystian2 : 94 : successfully choped\n",
      "INFO:root:database/Krystian/vsKrystian2 : 95 : successfully choped\n",
      "INFO:root:database/Krystian/vsKrystian2 : 96 : successfully choped\n",
      "INFO:root:database/Krystian/vsKrystian2 : 97 : successfully choped\n",
      "INFO:root:database/Krystian/vsKrystian2 : 98 : successfully choped\n",
      "INFO:root:database/Krystian/vsKrystian2 : 99 : successfully choped\n",
      "INFO:root:database/Krystian/vsKrystian2 : 100 : successfully choped\n",
      "INFO:root:database/Krystian/vsKrystian2 : 101 : successfully choped\n",
      "INFO:root:database/Krystian/vsKrystian2 : 102 : successfully choped\n"
     ]
    },
    {
     "name": "stderr",
     "output_type": "stream",
     "text": [
      "INFO:root:database/Krystian/vsKrystian2 : 103 : successfully choped\n",
      "INFO:root:database/Krystian/vsKrystian2 : 104 : successfully choped\n",
      "INFO:root:database/Krystian/vsKrystian2 : 105 : successfully choped\n",
      "INFO:root:database/Krystian/vsKrystian2 : 106 : successfully choped\n",
      "INFO:root:database/Krystian/vsKrystian2 : 107 : NOISE!\n",
      "INFO:root:database/Krystian/vsKrystian2 : 108 : successfully choped\n",
      "INFO:root:database/Krystian/vsKrystian2 : 109 : successfully choped\n",
      "INFO:root:database/Krystian/vsKrystian2 : 110 : successfully choped\n",
      "INFO:root:database/Krystian/vsKrystian2 : 111 : successfully choped\n",
      "INFO:root:database/Krystian/vsKrystian2 : 112 : successfully choped\n",
      "INFO:root:database/Krystian/vsKrystian2 : 113 : successfully choped\n",
      "INFO:root:database/Krystian/vsKrystian2 : 114 : successfully choped\n",
      "INFO:root:database/Krystian/vsKrystian2 : 115 : successfully choped\n",
      "INFO:root:database/Krystian/vsKrystian2 : 116 : successfully choped\n",
      "INFO:root:database/Krystian/vsKrystian2 : 117 : successfully choped\n",
      "INFO:root:database/Krystian/vsKrystian2 : 118 : successfully choped\n",
      "INFO:root:database/Krystian/vsKrystian2 : 119 : successfully choped\n",
      "INFO:root:database/Krystian/vsKrystian2 : 120 : successfully choped\n",
      "INFO:root:database/Krystian/vsKrystian2 : 121 : successfully choped\n",
      "INFO:root:database/Krystian/vsKrystian2 : 122 : successfully choped\n",
      "INFO:root:database/Krystian/vsKrystian2 : 123 : successfully choped\n",
      "INFO:root:database/Krystian/vsKrystian2 : 124 : successfully choped\n",
      "INFO:root:database/Krystian/vsKrystian2 : 125 : successfully choped\n",
      "INFO:root:database/Krystian/vsKrystian2 : 126 : successfully choped\n",
      "INFO:root:database/Krystian/vsKrystian2 : 127 : successfully choped\n",
      "INFO:root:database/Krystian/vsKrystian2 : 128 : successfully choped\n",
      "INFO:root:database/Krystian/vsKrystian2 : 129 : successfully choped\n",
      "INFO:root:database/Krystian/vsKrystian2 : 130 : successfully choped\n",
      "INFO:root:database/Krystian/vsKrystian2 : 131 : successfully choped\n",
      "INFO:root:database/Krystian/vsKrystian2 : 132 : successfully choped\n",
      "INFO:root:database/Krystian/vsKrystian2 : 133 : successfully choped\n",
      "INFO:root:database/Krystian/vsKrystian2 : 134 : successfully choped\n",
      "INFO:root:database/Krystian/vsKrystian2 : 135 : successfully choped\n",
      "INFO:root:Sucessfully choped all loaded signals and eliminated the noise!\n",
      "INFO:root: database/Krystian/ : ChopedSample 0 :  : converted to tensor\n",
      "INFO:root: database/Krystian/ : ChopedSample 1 :  : converted to tensor\n",
      "INFO:root: database/Krystian/ : ChopedSample 2 :  : converted to tensor\n",
      "INFO:root: database/Krystian/ : ChopedSample 3 :  : converted to tensor\n",
      "INFO:root: database/Krystian/ : ChopedSample 4 :  : converted to tensor\n",
      "INFO:root: database/Krystian/ : ChopedSample 5 :  : converted to tensor\n",
      "INFO:root: database/Krystian/ : ChopedSample 6 :  : converted to tensor\n",
      "INFO:root: database/Krystian/ : ChopedSample 7 :  : converted to tensor\n",
      "INFO:root: database/Krystian/ : ChopedSample 8 :  : converted to tensor\n",
      "INFO:root: database/Krystian/ : ChopedSample 9 :  : converted to tensor\n",
      "INFO:root: database/Krystian/ : ChopedSample 10 :  : converted to tensor\n",
      "INFO:root: database/Krystian/ : ChopedSample 11 :  : converted to tensor\n",
      "INFO:root: database/Krystian/ : ChopedSample 12 :  : converted to tensor\n",
      "INFO:root: database/Krystian/ : ChopedSample 13 :  : converted to tensor\n",
      "INFO:root: database/Krystian/ : ChopedSample 14 :  : converted to tensor\n",
      "INFO:root: database/Krystian/ : ChopedSample 15 :  : converted to tensor\n",
      "INFO:root: database/Krystian/ : ChopedSample 16 :  : converted to tensor\n",
      "INFO:root: database/Krystian/ : ChopedSample 17 :  : converted to tensor\n",
      "INFO:root: database/Krystian/ : ChopedSample 18 :  : converted to tensor\n",
      "INFO:root: database/Krystian/ : ChopedSample 19 :  : converted to tensor\n",
      "INFO:root: database/Krystian/ : ChopedSample 20 :  : converted to tensor\n",
      "INFO:root: database/Krystian/ : ChopedSample 21 :  : converted to tensor\n",
      "INFO:root: database/Krystian/ : ChopedSample 22 :  : converted to tensor\n",
      "INFO:root: database/Krystian/ : ChopedSample 23 :  : converted to tensor\n",
      "INFO:root: database/Krystian/ : ChopedSample 24 :  : converted to tensor\n",
      "INFO:root: database/Krystian/ : ChopedSample 25 :  : converted to tensor\n",
      "INFO:root: database/Krystian/ : ChopedSample 26 :  : converted to tensor\n",
      "INFO:root: database/Krystian/ : ChopedSample 27 :  : converted to tensor\n",
      "INFO:root: database/Krystian/ : ChopedSample 28 :  : converted to tensor\n",
      "INFO:root: database/Krystian/ : ChopedSample 29 :  : converted to tensor\n",
      "INFO:root: database/Krystian/ : ChopedSample 30 :  : converted to tensor\n",
      "INFO:root: database/Krystian/ : ChopedSample 31 :  : converted to tensor\n",
      "INFO:root: database/Krystian/ : ChopedSample 32 :  : converted to tensor\n",
      "INFO:root: database/Krystian/ : ChopedSample 33 :  : converted to tensor\n",
      "INFO:root: database/Krystian/ : ChopedSample 34 :  : converted to tensor\n",
      "INFO:root: database/Krystian/ : ChopedSample 35 :  : converted to tensor\n",
      "INFO:root: database/Krystian/ : ChopedSample 36 :  : converted to tensor\n",
      "INFO:root: database/Krystian/ : ChopedSample 37 :  : converted to tensor\n",
      "INFO:root: database/Krystian/ : ChopedSample 38 :  : converted to tensor\n",
      "INFO:root: database/Krystian/ : ChopedSample 39 :  : converted to tensor\n",
      "INFO:root: database/Krystian/ : ChopedSample 40 :  : converted to tensor\n",
      "INFO:root: database/Krystian/ : ChopedSample 41 :  : converted to tensor\n",
      "INFO:root: database/Krystian/ : ChopedSample 42 :  : converted to tensor\n",
      "INFO:root: database/Krystian/ : ChopedSample 43 :  : converted to tensor\n",
      "INFO:root: database/Krystian/ : ChopedSample 44 :  : converted to tensor\n",
      "INFO:root: database/Krystian/ : ChopedSample 45 :  : converted to tensor\n",
      "INFO:root: database/Krystian/ : ChopedSample 46 :  : converted to tensor\n",
      "INFO:root: database/Krystian/ : ChopedSample 47 :  : converted to tensor\n",
      "INFO:root: database/Krystian/ : ChopedSample 48 :  : converted to tensor\n",
      "INFO:root: database/Krystian/ : ChopedSample 49 :  : converted to tensor\n",
      "INFO:root: database/Krystian/ : ChopedSample 50 :  : converted to tensor\n",
      "INFO:root: database/Krystian/ : ChopedSample 51 :  : converted to tensor\n",
      "INFO:root: database/Krystian/ : ChopedSample 52 :  : converted to tensor\n",
      "INFO:root: database/Krystian/ : ChopedSample 53 :  : converted to tensor\n",
      "INFO:root: database/Krystian/ : ChopedSample 54 :  : converted to tensor\n",
      "INFO:root: database/Krystian/ : ChopedSample 55 :  : converted to tensor\n",
      "INFO:root: database/Krystian/ : ChopedSample 56 :  : converted to tensor\n",
      "INFO:root: database/Krystian/ : ChopedSample 57 :  : converted to tensor\n",
      "INFO:root: database/Krystian/ : ChopedSample 58 :  : converted to tensor\n",
      "INFO:root: database/Krystian/ : ChopedSample 59 :  : converted to tensor\n",
      "INFO:root: database/Krystian/ : ChopedSample 60 :  : converted to tensor\n",
      "INFO:root: database/Krystian/ : ChopedSample 61 :  : converted to tensor\n",
      "INFO:root: database/Krystian/ : ChopedSample 62 :  : converted to tensor\n",
      "INFO:root: database/Krystian/ : ChopedSample 63 :  : converted to tensor\n",
      "INFO:root: database/Krystian/ : ChopedSample 64 :  : converted to tensor\n",
      "INFO:root: database/Krystian/ : ChopedSample 65 :  : converted to tensor\n",
      "INFO:root: database/Krystian/ : ChopedSample 66 :  : converted to tensor\n",
      "INFO:root: database/Krystian/ : ChopedSample 67 :  : converted to tensor\n",
      "INFO:root: database/Krystian/ : ChopedSample 68 :  : converted to tensor\n",
      "INFO:root: database/Krystian/ : ChopedSample 69 :  : converted to tensor\n",
      "INFO:root: database/Krystian/ : ChopedSample 70 :  : converted to tensor\n",
      "INFO:root: database/Krystian/ : ChopedSample 71 :  : converted to tensor\n",
      "INFO:root: database/Krystian/ : ChopedSample 72 :  : converted to tensor\n",
      "INFO:root: database/Krystian/ : ChopedSample 73 :  : converted to tensor\n",
      "INFO:root: database/Krystian/ : ChopedSample 74 :  : converted to tensor\n",
      "INFO:root: database/Krystian/ : ChopedSample 75 :  : converted to tensor\n",
      "INFO:root: database/Krystian/ : ChopedSample 76 :  : converted to tensor\n",
      "INFO:root: database/Krystian/ : ChopedSample 77 :  : converted to tensor\n",
      "INFO:root: database/Krystian/ : ChopedSample 78 :  : converted to tensor\n",
      "INFO:root: database/Krystian/ : ChopedSample 79 :  : converted to tensor\n",
      "INFO:root: database/Krystian/ : ChopedSample 80 :  : converted to tensor\n"
     ]
    },
    {
     "name": "stderr",
     "output_type": "stream",
     "text": [
      "INFO:root: database/Krystian/ : ChopedSample 81 :  : converted to tensor\n",
      "INFO:root: database/Krystian/ : ChopedSample 82 :  : converted to tensor\n",
      "INFO:root: database/Krystian/ : ChopedSample 83 :  : converted to tensor\n",
      "INFO:root: database/Krystian/ : ChopedSample 84 :  : converted to tensor\n",
      "INFO:root: database/Krystian/ : ChopedSample 85 :  : converted to tensor\n",
      "INFO:root: database/Krystian/ : ChopedSample 86 :  : converted to tensor\n",
      "INFO:root: database/Krystian/ : ChopedSample 87 :  : converted to tensor\n",
      "INFO:root: database/Krystian/ : ChopedSample 88 :  : converted to tensor\n",
      "INFO:root: database/Krystian/ : ChopedSample 89 :  : converted to tensor\n",
      "INFO:root: database/Krystian/ : ChopedSample 90 :  : converted to tensor\n",
      "INFO:root: database/Krystian/ : ChopedSample 91 :  : converted to tensor\n",
      "INFO:root: database/Krystian/ : ChopedSample 92 :  : converted to tensor\n",
      "INFO:root: database/Krystian/ : ChopedSample 93 :  : converted to tensor\n",
      "INFO:root: database/Krystian/ : ChopedSample 94 :  : converted to tensor\n",
      "INFO:root: database/Krystian/ : ChopedSample 95 :  : converted to tensor\n",
      "INFO:root: database/Krystian/ : ChopedSample 96 :  : converted to tensor\n",
      "INFO:root: database/Krystian/ : ChopedSample 97 :  : converted to tensor\n",
      "INFO:root: database/Krystian/ : ChopedSample 98 :  : converted to tensor\n",
      "INFO:root: database/Krystian/ : ChopedSample 99 :  : converted to tensor\n",
      "INFO:root: database/Krystian/ : ChopedSample 100 :  : converted to tensor\n",
      "INFO:root: database/Krystian/ : ChopedSample 101 :  : converted to tensor\n",
      "INFO:root: database/Krystian/ : ChopedSample 102 :  : converted to tensor\n",
      "INFO:root: database/Krystian/ : ChopedSample 103 :  : converted to tensor\n",
      "INFO:root: database/Krystian/ : ChopedSample 104 :  : converted to tensor\n",
      "INFO:root: database/Krystian/ : ChopedSample 105 :  : converted to tensor\n",
      "INFO:root: database/Krystian/ : ChopedSample 106 :  : converted to tensor\n",
      "INFO:root: database/Krystian/ : ChopedSample 107 :  : converted to tensor\n",
      "INFO:root: database/Krystian/ : ChopedSample 108 :  : converted to tensor\n",
      "INFO:root: database/Krystian/ : ChopedSample 109 :  : converted to tensor\n",
      "INFO:root: database/Krystian/ : ChopedSample 110 :  : converted to tensor\n",
      "INFO:root: database/Krystian/ : ChopedSample 111 :  : converted to tensor\n",
      "INFO:root: database/Krystian/ : ChopedSample 112 :  : converted to tensor\n",
      "INFO:root: database/Krystian/ : ChopedSample 113 :  : converted to tensor\n",
      "INFO:root: database/Krystian/ : ChopedSample 114 :  : converted to tensor\n",
      "INFO:root: database/Krystian/ : ChopedSample 115 :  : converted to tensor\n",
      "INFO:root: database/Krystian/ : ChopedSample 116 :  : converted to tensor\n",
      "INFO:root: database/Krystian/ : ChopedSample 117 :  : converted to tensor\n",
      "INFO:root: database/Krystian/ : ChopedSample 118 :  : converted to tensor\n",
      "INFO:root: database/Krystian/ : ChopedSample 119 :  : converted to tensor\n",
      "INFO:root: database/Krystian/ : ChopedSample 120 :  : converted to tensor\n",
      "INFO:root: database/Krystian/ : ChopedSample 121 :  : converted to tensor\n",
      "INFO:root: database/Krystian/ : ChopedSample 122 :  : converted to tensor\n",
      "INFO:root: database/Krystian/ : ChopedSample 123 :  : converted to tensor\n",
      "INFO:root: database/Krystian/ : ChopedSample 124 :  : converted to tensor\n",
      "INFO:root: database/Krystian/ : ChopedSample 125 :  : converted to tensor\n",
      "INFO:root: database/Krystian/ : ChopedSample 126 :  : converted to tensor\n",
      "INFO:root: database/Krystian/ : ChopedSample 127 :  : converted to tensor\n",
      "INFO:root: database/Krystian/ : ChopedSample 128 :  : converted to tensor\n",
      "INFO:root: database/Krystian/ : ChopedSample 129 :  : converted to tensor\n",
      "INFO:root: database/Krystian/ : ChopedSample 130 :  : converted to tensor\n",
      "INFO:root: database/Krystian/ : ChopedSample 131 :  : converted to tensor\n",
      "INFO:root: database/Krystian/ : ChopedSample 132 :  : converted to tensor\n",
      "INFO:root: database/Krystian/ : ChopedSample 133 :  : converted to tensor\n",
      "INFO:root: database/Krystian/ : ChopedSample 134 :  : converted to tensor\n",
      "INFO:root: database/Krystian/ : ChopedSample 135 :  : converted to tensor\n",
      "INFO:root: database/Krystian/ : ChopedSample 136 :  : converted to tensor\n",
      "INFO:root: database/Krystian/ : ChopedSample 137 :  : converted to tensor\n",
      "INFO:root: database/Krystian/ : ChopedSample 138 :  : converted to tensor\n",
      "INFO:root: database/Krystian/ : ChopedSample 139 :  : converted to tensor\n",
      "INFO:root: database/Krystian/ : ChopedSample 140 :  : converted to tensor\n",
      "INFO:root: database/Krystian/ : ChopedSample 141 :  : converted to tensor\n",
      "INFO:root: database/Krystian/ : ChopedSample 142 :  : converted to tensor\n",
      "INFO:root:Sucessfully converted all ChopedSamples to Tensors!\n",
      "INFO:root: VoiceSamples Object successfully created \n",
      "INFO:root: Sample : database/Nicia/vsNicia1 : successfully added\n",
      "INFO:root: Sample : database/Nicia/vsNicia2 : successfully added\n",
      "INFO:root:That's the end of database : 2 : Samples added\n",
      "INFO:root:database/Nicia/vsNicia1 : 1 : successfully choped\n",
      "INFO:root:database/Nicia/vsNicia1 : 2 : successfully choped\n",
      "INFO:root:database/Nicia/vsNicia1 : 3 : successfully choped\n",
      "INFO:root:database/Nicia/vsNicia1 : 4 : successfully choped\n",
      "INFO:root:database/Nicia/vsNicia1 : 5 : successfully choped\n",
      "INFO:root:database/Nicia/vsNicia1 : 6 : successfully choped\n",
      "INFO:root:database/Nicia/vsNicia1 : 7 : successfully choped\n",
      "INFO:root:database/Nicia/vsNicia1 : 8 : successfully choped\n",
      "INFO:root:database/Nicia/vsNicia1 : 9 : successfully choped\n",
      "INFO:root:database/Nicia/vsNicia1 : 10 : successfully choped\n",
      "INFO:root:database/Nicia/vsNicia1 : 11 : successfully choped\n",
      "INFO:root:database/Nicia/vsNicia1 : 12 : successfully choped\n",
      "INFO:root:database/Nicia/vsNicia1 : 13 : successfully choped\n",
      "INFO:root:database/Nicia/vsNicia1 : 14 : successfully choped\n",
      "INFO:root:database/Nicia/vsNicia1 : 15 : successfully choped\n",
      "INFO:root:database/Nicia/vsNicia1 : 16 : successfully choped\n",
      "INFO:root:database/Nicia/vsNicia1 : 17 : successfully choped\n",
      "INFO:root:database/Nicia/vsNicia1 : 18 : successfully choped\n",
      "INFO:root:database/Nicia/vsNicia1 : 19 : successfully choped\n",
      "INFO:root:database/Nicia/vsNicia1 : 20 : successfully choped\n",
      "INFO:root:database/Nicia/vsNicia1 : 21 : successfully choped\n",
      "INFO:root:database/Nicia/vsNicia1 : 22 : successfully choped\n",
      "INFO:root:database/Nicia/vsNicia1 : 23 : successfully choped\n",
      "INFO:root:database/Nicia/vsNicia1 : 24 : successfully choped\n",
      "INFO:root:database/Nicia/vsNicia1 : 25 : successfully choped\n",
      "INFO:root:database/Nicia/vsNicia1 : 26 : successfully choped\n",
      "INFO:root:database/Nicia/vsNicia1 : 27 : successfully choped\n",
      "INFO:root:database/Nicia/vsNicia1 : 28 : successfully choped\n",
      "INFO:root:database/Nicia/vsNicia1 : 29 : successfully choped\n",
      "INFO:root:database/Nicia/vsNicia1 : 30 : successfully choped\n",
      "INFO:root:database/Nicia/vsNicia1 : 31 : successfully choped\n",
      "INFO:root:database/Nicia/vsNicia1 : 32 : successfully choped\n",
      "INFO:root:database/Nicia/vsNicia1 : 33 : successfully choped\n",
      "INFO:root:database/Nicia/vsNicia1 : 34 : successfully choped\n",
      "INFO:root:database/Nicia/vsNicia1 : 35 : successfully choped\n",
      "INFO:root:database/Nicia/vsNicia1 : 36 : successfully choped\n",
      "INFO:root:database/Nicia/vsNicia1 : 37 : successfully choped\n",
      "INFO:root:database/Nicia/vsNicia1 : 38 : successfully choped\n",
      "INFO:root:database/Nicia/vsNicia1 : 39 : successfully choped\n",
      "INFO:root:database/Nicia/vsNicia1 : 40 : successfully choped\n",
      "INFO:root:database/Nicia/vsNicia1 : 41 : successfully choped\n",
      "INFO:root:database/Nicia/vsNicia1 : 42 : successfully choped\n",
      "INFO:root:database/Nicia/vsNicia1 : 43 : successfully choped\n",
      "INFO:root:database/Nicia/vsNicia1 : 44 : successfully choped\n",
      "INFO:root:database/Nicia/vsNicia1 : 45 : successfully choped\n",
      "INFO:root:database/Nicia/vsNicia1 : 46 : successfully choped\n",
      "INFO:root:database/Nicia/vsNicia1 : 47 : successfully choped\n",
      "INFO:root:database/Nicia/vsNicia1 : 48 : successfully choped\n",
      "INFO:root:database/Nicia/vsNicia1 : 49 : successfully choped\n",
      "INFO:root:database/Nicia/vsNicia1 : 50 : successfully choped\n",
      "INFO:root:database/Nicia/vsNicia1 : 51 : successfully choped\n",
      "INFO:root:database/Nicia/vsNicia1 : 52 : successfully choped\n",
      "INFO:root:database/Nicia/vsNicia1 : 53 : successfully choped\n",
      "INFO:root:database/Nicia/vsNicia1 : 54 : successfully choped\n",
      "INFO:root:database/Nicia/vsNicia1 : 55 : successfully choped\n"
     ]
    },
    {
     "name": "stderr",
     "output_type": "stream",
     "text": [
      "INFO:root:database/Nicia/vsNicia1 : 56 : successfully choped\n",
      "INFO:root:database/Nicia/vsNicia1 : 57 : successfully choped\n",
      "INFO:root:database/Nicia/vsNicia1 : 58 : successfully choped\n",
      "INFO:root:database/Nicia/vsNicia1 : 59 : successfully choped\n",
      "INFO:root:database/Nicia/vsNicia1 : 60 : successfully choped\n",
      "INFO:root:database/Nicia/vsNicia1 : 61 : successfully choped\n",
      "INFO:root:database/Nicia/vsNicia1 : 62 : successfully choped\n",
      "INFO:root:database/Nicia/vsNicia1 : 63 : successfully choped\n",
      "INFO:root:database/Nicia/vsNicia1 : 64 : successfully choped\n",
      "INFO:root:database/Nicia/vsNicia1 : 65 : successfully choped\n",
      "INFO:root:database/Nicia/vsNicia1 : 66 : successfully choped\n",
      "INFO:root:database/Nicia/vsNicia1 : 67 : successfully choped\n",
      "INFO:root:database/Nicia/vsNicia1 : 68 : successfully choped\n",
      "INFO:root:database/Nicia/vsNicia1 : 69 : successfully choped\n",
      "INFO:root:database/Nicia/vsNicia1 : 70 : successfully choped\n",
      "INFO:root:database/Nicia/vsNicia1 : 71 : successfully choped\n",
      "INFO:root:database/Nicia/vsNicia1 : 72 : successfully choped\n",
      "INFO:root:database/Nicia/vsNicia1 : 73 : successfully choped\n",
      "INFO:root:database/Nicia/vsNicia1 : 74 : successfully choped\n",
      "INFO:root:database/Nicia/vsNicia1 : 75 : NOISE!\n",
      "INFO:root:database/Nicia/vsNicia1 : 76 : successfully choped\n",
      "INFO:root:database/Nicia/vsNicia1 : 77 : successfully choped\n",
      "INFO:root:database/Nicia/vsNicia1 : 78 : successfully choped\n",
      "INFO:root:database/Nicia/vsNicia1 : 78 : NOISE!\n",
      "INFO:root:database/Nicia/vsNicia2 : 1 : NOISE!\n",
      "INFO:root:database/Nicia/vsNicia2 : 2 : NOISE!\n",
      "INFO:root:database/Nicia/vsNicia2 : 3 : NOISE!\n",
      "INFO:root:database/Nicia/vsNicia2 : 4 : successfully choped\n",
      "INFO:root:database/Nicia/vsNicia2 : 5 : successfully choped\n",
      "INFO:root:database/Nicia/vsNicia2 : 6 : successfully choped\n",
      "INFO:root:database/Nicia/vsNicia2 : 7 : successfully choped\n",
      "INFO:root:database/Nicia/vsNicia2 : 8 : successfully choped\n",
      "INFO:root:database/Nicia/vsNicia2 : 9 : successfully choped\n",
      "INFO:root:database/Nicia/vsNicia2 : 10 : successfully choped\n",
      "INFO:root:database/Nicia/vsNicia2 : 11 : successfully choped\n",
      "INFO:root:database/Nicia/vsNicia2 : 12 : successfully choped\n",
      "INFO:root:database/Nicia/vsNicia2 : 13 : successfully choped\n",
      "INFO:root:database/Nicia/vsNicia2 : 14 : successfully choped\n",
      "INFO:root:database/Nicia/vsNicia2 : 15 : NOISE!\n",
      "INFO:root:database/Nicia/vsNicia2 : 16 : successfully choped\n",
      "INFO:root:database/Nicia/vsNicia2 : 17 : successfully choped\n",
      "INFO:root:database/Nicia/vsNicia2 : 18 : successfully choped\n",
      "INFO:root:database/Nicia/vsNicia2 : 19 : successfully choped\n",
      "INFO:root:database/Nicia/vsNicia2 : 20 : successfully choped\n",
      "INFO:root:database/Nicia/vsNicia2 : 21 : successfully choped\n",
      "INFO:root:database/Nicia/vsNicia2 : 22 : successfully choped\n",
      "INFO:root:database/Nicia/vsNicia2 : 23 : successfully choped\n",
      "INFO:root:database/Nicia/vsNicia2 : 24 : successfully choped\n",
      "INFO:root:database/Nicia/vsNicia2 : 25 : successfully choped\n",
      "INFO:root:database/Nicia/vsNicia2 : 26 : successfully choped\n",
      "INFO:root:database/Nicia/vsNicia2 : 27 : successfully choped\n",
      "INFO:root:database/Nicia/vsNicia2 : 28 : successfully choped\n",
      "INFO:root:database/Nicia/vsNicia2 : 29 : successfully choped\n",
      "INFO:root:database/Nicia/vsNicia2 : 30 : successfully choped\n",
      "INFO:root:database/Nicia/vsNicia2 : 31 : successfully choped\n",
      "INFO:root:database/Nicia/vsNicia2 : 32 : successfully choped\n",
      "INFO:root:database/Nicia/vsNicia2 : 33 : successfully choped\n",
      "INFO:root:database/Nicia/vsNicia2 : 34 : successfully choped\n",
      "INFO:root:database/Nicia/vsNicia2 : 35 : successfully choped\n",
      "INFO:root:database/Nicia/vsNicia2 : 36 : successfully choped\n",
      "INFO:root:database/Nicia/vsNicia2 : 37 : successfully choped\n",
      "INFO:root:database/Nicia/vsNicia2 : 38 : successfully choped\n",
      "INFO:root:database/Nicia/vsNicia2 : 39 : successfully choped\n",
      "INFO:root:database/Nicia/vsNicia2 : 40 : successfully choped\n",
      "INFO:root:database/Nicia/vsNicia2 : 41 : successfully choped\n",
      "INFO:root:database/Nicia/vsNicia2 : 42 : successfully choped\n",
      "INFO:root:database/Nicia/vsNicia2 : 43 : successfully choped\n",
      "INFO:root:database/Nicia/vsNicia2 : 44 : successfully choped\n",
      "INFO:root:database/Nicia/vsNicia2 : 45 : successfully choped\n",
      "INFO:root:database/Nicia/vsNicia2 : 46 : successfully choped\n",
      "INFO:root:database/Nicia/vsNicia2 : 47 : successfully choped\n",
      "INFO:root:database/Nicia/vsNicia2 : 48 : successfully choped\n",
      "INFO:root:database/Nicia/vsNicia2 : 49 : successfully choped\n",
      "INFO:root:database/Nicia/vsNicia2 : 50 : successfully choped\n",
      "INFO:root:database/Nicia/vsNicia2 : 51 : successfully choped\n",
      "INFO:root:database/Nicia/vsNicia2 : 52 : successfully choped\n",
      "INFO:root:database/Nicia/vsNicia2 : 53 : successfully choped\n",
      "INFO:root:database/Nicia/vsNicia2 : 54 : successfully choped\n",
      "INFO:root:database/Nicia/vsNicia2 : 55 : successfully choped\n",
      "INFO:root:database/Nicia/vsNicia2 : 56 : successfully choped\n",
      "INFO:root:database/Nicia/vsNicia2 : 57 : successfully choped\n",
      "INFO:root:database/Nicia/vsNicia2 : 58 : successfully choped\n",
      "INFO:root:database/Nicia/vsNicia2 : 59 : successfully choped\n",
      "INFO:root:database/Nicia/vsNicia2 : 60 : successfully choped\n",
      "INFO:root:database/Nicia/vsNicia2 : 61 : successfully choped\n",
      "INFO:root:database/Nicia/vsNicia2 : 62 : successfully choped\n",
      "INFO:root:database/Nicia/vsNicia2 : 63 : successfully choped\n",
      "INFO:root:database/Nicia/vsNicia2 : 64 : successfully choped\n",
      "INFO:root:database/Nicia/vsNicia2 : 65 : successfully choped\n",
      "INFO:root:database/Nicia/vsNicia2 : 66 : successfully choped\n",
      "INFO:root:database/Nicia/vsNicia2 : 67 : successfully choped\n",
      "INFO:root:database/Nicia/vsNicia2 : 68 : successfully choped\n",
      "INFO:root:database/Nicia/vsNicia2 : 69 : successfully choped\n",
      "INFO:root:database/Nicia/vsNicia2 : 70 : successfully choped\n",
      "INFO:root:database/Nicia/vsNicia2 : 71 : successfully choped\n",
      "INFO:root:database/Nicia/vsNicia2 : 72 : successfully choped\n",
      "INFO:root:database/Nicia/vsNicia2 : 73 : successfully choped\n",
      "INFO:root:database/Nicia/vsNicia2 : 74 : successfully choped\n",
      "INFO:root:database/Nicia/vsNicia2 : 75 : successfully choped\n",
      "INFO:root:database/Nicia/vsNicia2 : 76 : successfully choped\n",
      "INFO:root:database/Nicia/vsNicia2 : 77 : successfully choped\n",
      "INFO:root:database/Nicia/vsNicia2 : 78 : successfully choped\n",
      "INFO:root:database/Nicia/vsNicia2 : 79 : successfully choped\n",
      "INFO:root:database/Nicia/vsNicia2 : 80 : successfully choped\n",
      "INFO:root:database/Nicia/vsNicia2 : 81 : successfully choped\n",
      "INFO:root:database/Nicia/vsNicia2 : 82 : successfully choped\n",
      "INFO:root:database/Nicia/vsNicia2 : 83 : successfully choped\n",
      "INFO:root:database/Nicia/vsNicia2 : 84 : successfully choped\n",
      "INFO:root:database/Nicia/vsNicia2 : 85 : successfully choped\n",
      "INFO:root:database/Nicia/vsNicia2 : 86 : successfully choped\n",
      "INFO:root:database/Nicia/vsNicia2 : 87 : successfully choped\n",
      "INFO:root:database/Nicia/vsNicia2 : 88 : successfully choped\n",
      "INFO:root:database/Nicia/vsNicia2 : 89 : successfully choped\n",
      "INFO:root:database/Nicia/vsNicia2 : 90 : successfully choped\n",
      "INFO:root:database/Nicia/vsNicia2 : 91 : successfully choped\n",
      "INFO:root:database/Nicia/vsNicia2 : 92 : successfully choped\n",
      "INFO:root:database/Nicia/vsNicia2 : 93 : successfully choped\n",
      "INFO:root:database/Nicia/vsNicia2 : 94 : successfully choped\n",
      "INFO:root:database/Nicia/vsNicia2 : 95 : successfully choped\n",
      "INFO:root:database/Nicia/vsNicia2 : 96 : successfully choped\n",
      "INFO:root:database/Nicia/vsNicia2 : 97 : successfully choped\n",
      "INFO:root:database/Nicia/vsNicia2 : 98 : successfully choped\n",
      "INFO:root:database/Nicia/vsNicia2 : 99 : successfully choped\n",
      "INFO:root:database/Nicia/vsNicia2 : 100 : successfully choped\n",
      "INFO:root:database/Nicia/vsNicia2 : 101 : successfully choped\n",
      "INFO:root:database/Nicia/vsNicia2 : 102 : successfully choped\n",
      "INFO:root:database/Nicia/vsNicia2 : 103 : successfully choped\n",
      "INFO:root:database/Nicia/vsNicia2 : 104 : successfully choped\n",
      "INFO:root:database/Nicia/vsNicia2 : 105 : successfully choped\n",
      "INFO:root:database/Nicia/vsNicia2 : 106 : successfully choped\n",
      "INFO:root:database/Nicia/vsNicia2 : 107 : successfully choped\n",
      "INFO:root:database/Nicia/vsNicia2 : 108 : successfully choped\n",
      "INFO:root:database/Nicia/vsNicia2 : 109 : successfully choped\n",
      "INFO:root:database/Nicia/vsNicia2 : 110 : successfully choped\n",
      "INFO:root:database/Nicia/vsNicia2 : 111 : successfully choped\n",
      "INFO:root:database/Nicia/vsNicia2 : 112 : successfully choped\n"
     ]
    },
    {
     "name": "stderr",
     "output_type": "stream",
     "text": [
      "INFO:root:database/Nicia/vsNicia2 : 113 : successfully choped\n",
      "INFO:root:database/Nicia/vsNicia2 : 114 : successfully choped\n",
      "INFO:root:database/Nicia/vsNicia2 : 115 : successfully choped\n",
      "INFO:root:database/Nicia/vsNicia2 : 116 : successfully choped\n",
      "INFO:root:database/Nicia/vsNicia2 : 117 : successfully choped\n",
      "INFO:root:database/Nicia/vsNicia2 : 118 : successfully choped\n",
      "INFO:root:database/Nicia/vsNicia2 : 119 : successfully choped\n",
      "INFO:root:database/Nicia/vsNicia2 : 120 : successfully choped\n",
      "INFO:root:database/Nicia/vsNicia2 : 121 : successfully choped\n",
      "INFO:root:database/Nicia/vsNicia2 : 122 : successfully choped\n",
      "INFO:root:database/Nicia/vsNicia2 : 123 : successfully choped\n",
      "INFO:root:database/Nicia/vsNicia2 : 124 : successfully choped\n",
      "INFO:root:database/Nicia/vsNicia2 : 125 : successfully choped\n",
      "INFO:root:database/Nicia/vsNicia2 : 126 : successfully choped\n",
      "INFO:root:database/Nicia/vsNicia2 : 127 : successfully choped\n",
      "INFO:root:database/Nicia/vsNicia2 : 128 : successfully choped\n",
      "INFO:root:database/Nicia/vsNicia2 : 129 : successfully choped\n",
      "INFO:root:database/Nicia/vsNicia2 : 130 : successfully choped\n",
      "INFO:root:database/Nicia/vsNicia2 : 131 : successfully choped\n",
      "INFO:root:database/Nicia/vsNicia2 : 132 : successfully choped\n",
      "INFO:root:database/Nicia/vsNicia2 : 133 : successfully choped\n",
      "INFO:root:database/Nicia/vsNicia2 : 134 : successfully choped\n",
      "INFO:root:database/Nicia/vsNicia2 : 135 : successfully choped\n",
      "INFO:root:database/Nicia/vsNicia2 : 136 : successfully choped\n",
      "INFO:root:database/Nicia/vsNicia2 : 137 : successfully choped\n",
      "INFO:root:database/Nicia/vsNicia2 : 138 : successfully choped\n",
      "INFO:root:database/Nicia/vsNicia2 : 139 : NOISE!\n",
      "INFO:root:database/Nicia/vsNicia2 : 140 : NOISE!\n",
      "INFO:root:database/Nicia/vsNicia2 : 141 : successfully choped\n",
      "INFO:root:database/Nicia/vsNicia2 : 142 : NOISE!\n",
      "INFO:root:database/Nicia/vsNicia2 : 143 : NOISE!\n",
      "INFO:root:database/Nicia/vsNicia2 : 144 : successfully choped\n",
      "INFO:root:database/Nicia/vsNicia2 : 145 : successfully choped\n",
      "INFO:root:database/Nicia/vsNicia2 : 146 : successfully choped\n",
      "INFO:root:database/Nicia/vsNicia2 : 147 : successfully choped\n",
      "INFO:root:database/Nicia/vsNicia2 : 148 : successfully choped\n",
      "INFO:root:database/Nicia/vsNicia2 : 149 : successfully choped\n",
      "INFO:root:database/Nicia/vsNicia2 : 150 : successfully choped\n",
      "INFO:root:database/Nicia/vsNicia2 : 151 : successfully choped\n",
      "INFO:root:database/Nicia/vsNicia2 : 152 : successfully choped\n",
      "INFO:root:database/Nicia/vsNicia2 : 153 : successfully choped\n",
      "INFO:root:database/Nicia/vsNicia2 : 154 : successfully choped\n",
      "INFO:root:database/Nicia/vsNicia2 : 155 : successfully choped\n",
      "INFO:root:database/Nicia/vsNicia2 : 156 : successfully choped\n",
      "INFO:root:database/Nicia/vsNicia2 : 157 : successfully choped\n",
      "INFO:root:database/Nicia/vsNicia2 : 158 : successfully choped\n",
      "INFO:root:database/Nicia/vsNicia2 : 159 : successfully choped\n",
      "INFO:root:database/Nicia/vsNicia2 : 160 : successfully choped\n",
      "INFO:root:database/Nicia/vsNicia2 : 161 : successfully choped\n",
      "INFO:root:database/Nicia/vsNicia2 : 162 : successfully choped\n",
      "INFO:root:database/Nicia/vsNicia2 : 163 : successfully choped\n",
      "INFO:root:database/Nicia/vsNicia2 : 164 : successfully choped\n",
      "INFO:root:database/Nicia/vsNicia2 : 165 : successfully choped\n",
      "INFO:root:database/Nicia/vsNicia2 : 166 : successfully choped\n",
      "INFO:root:database/Nicia/vsNicia2 : 167 : successfully choped\n",
      "INFO:root:database/Nicia/vsNicia2 : 168 : successfully choped\n",
      "INFO:root:database/Nicia/vsNicia2 : 169 : successfully choped\n",
      "INFO:root:database/Nicia/vsNicia2 : 170 : successfully choped\n",
      "INFO:root:database/Nicia/vsNicia2 : 171 : successfully choped\n",
      "INFO:root:database/Nicia/vsNicia2 : 172 : successfully choped\n",
      "INFO:root:database/Nicia/vsNicia2 : 173 : successfully choped\n",
      "INFO:root:database/Nicia/vsNicia2 : 174 : NOISE!\n",
      "INFO:root:database/Nicia/vsNicia2 : 175 : successfully choped\n",
      "INFO:root:database/Nicia/vsNicia2 : 176 : successfully choped\n",
      "INFO:root:database/Nicia/vsNicia2 : 177 : successfully choped\n",
      "INFO:root:database/Nicia/vsNicia2 : 178 : successfully choped\n",
      "INFO:root:database/Nicia/vsNicia2 : 179 : successfully choped\n",
      "INFO:root:database/Nicia/vsNicia2 : 180 : successfully choped\n",
      "INFO:root:database/Nicia/vsNicia2 : 181 : successfully choped\n",
      "INFO:root:database/Nicia/vsNicia2 : 182 : successfully choped\n",
      "INFO:root:database/Nicia/vsNicia2 : 183 : successfully choped\n",
      "INFO:root:database/Nicia/vsNicia2 : 184 : successfully choped\n",
      "INFO:root:database/Nicia/vsNicia2 : 185 : successfully choped\n",
      "INFO:root:database/Nicia/vsNicia2 : 186 : successfully choped\n",
      "INFO:root:database/Nicia/vsNicia2 : 187 : successfully choped\n",
      "INFO:root:database/Nicia/vsNicia2 : 188 : successfully choped\n",
      "INFO:root:database/Nicia/vsNicia2 : 189 : successfully choped\n",
      "INFO:root:database/Nicia/vsNicia2 : 190 : successfully choped\n",
      "INFO:root:database/Nicia/vsNicia2 : 191 : successfully choped\n",
      "INFO:root:database/Nicia/vsNicia2 : 192 : successfully choped\n",
      "INFO:root:database/Nicia/vsNicia2 : 193 : successfully choped\n",
      "INFO:root:database/Nicia/vsNicia2 : 194 : successfully choped\n",
      "INFO:root:database/Nicia/vsNicia2 : 195 : successfully choped\n",
      "INFO:root:Sucessfully choped all loaded signals and eliminated the noise!\n",
      "INFO:root: database/Nicia/ : ChopedSample 0 :  : converted to tensor\n",
      "INFO:root: database/Nicia/ : ChopedSample 1 :  : converted to tensor\n",
      "INFO:root: database/Nicia/ : ChopedSample 2 :  : converted to tensor\n",
      "INFO:root: database/Nicia/ : ChopedSample 3 :  : converted to tensor\n",
      "INFO:root: database/Nicia/ : ChopedSample 4 :  : converted to tensor\n",
      "INFO:root: database/Nicia/ : ChopedSample 5 :  : converted to tensor\n",
      "INFO:root: database/Nicia/ : ChopedSample 6 :  : converted to tensor\n",
      "INFO:root: database/Nicia/ : ChopedSample 7 :  : converted to tensor\n",
      "INFO:root: database/Nicia/ : ChopedSample 8 :  : converted to tensor\n",
      "INFO:root: database/Nicia/ : ChopedSample 9 :  : converted to tensor\n",
      "INFO:root: database/Nicia/ : ChopedSample 10 :  : converted to tensor\n",
      "INFO:root: database/Nicia/ : ChopedSample 11 :  : converted to tensor\n",
      "INFO:root: database/Nicia/ : ChopedSample 12 :  : converted to tensor\n",
      "INFO:root: database/Nicia/ : ChopedSample 13 :  : converted to tensor\n",
      "INFO:root: database/Nicia/ : ChopedSample 14 :  : converted to tensor\n",
      "INFO:root: database/Nicia/ : ChopedSample 15 :  : converted to tensor\n",
      "INFO:root: database/Nicia/ : ChopedSample 16 :  : converted to tensor\n",
      "INFO:root: database/Nicia/ : ChopedSample 17 :  : converted to tensor\n",
      "INFO:root: database/Nicia/ : ChopedSample 18 :  : converted to tensor\n",
      "INFO:root: database/Nicia/ : ChopedSample 19 :  : converted to tensor\n",
      "INFO:root: database/Nicia/ : ChopedSample 20 :  : converted to tensor\n",
      "INFO:root: database/Nicia/ : ChopedSample 21 :  : converted to tensor\n",
      "INFO:root: database/Nicia/ : ChopedSample 22 :  : converted to tensor\n",
      "INFO:root: database/Nicia/ : ChopedSample 23 :  : converted to tensor\n",
      "INFO:root: database/Nicia/ : ChopedSample 24 :  : converted to tensor\n",
      "INFO:root: database/Nicia/ : ChopedSample 25 :  : converted to tensor\n",
      "INFO:root: database/Nicia/ : ChopedSample 26 :  : converted to tensor\n",
      "INFO:root: database/Nicia/ : ChopedSample 27 :  : converted to tensor\n",
      "INFO:root: database/Nicia/ : ChopedSample 28 :  : converted to tensor\n",
      "INFO:root: database/Nicia/ : ChopedSample 29 :  : converted to tensor\n",
      "INFO:root: database/Nicia/ : ChopedSample 30 :  : converted to tensor\n",
      "INFO:root: database/Nicia/ : ChopedSample 31 :  : converted to tensor\n",
      "INFO:root: database/Nicia/ : ChopedSample 32 :  : converted to tensor\n",
      "INFO:root: database/Nicia/ : ChopedSample 33 :  : converted to tensor\n",
      "INFO:root: database/Nicia/ : ChopedSample 34 :  : converted to tensor\n",
      "INFO:root: database/Nicia/ : ChopedSample 35 :  : converted to tensor\n",
      "INFO:root: database/Nicia/ : ChopedSample 36 :  : converted to tensor\n",
      "INFO:root: database/Nicia/ : ChopedSample 37 :  : converted to tensor\n",
      "INFO:root: database/Nicia/ : ChopedSample 38 :  : converted to tensor\n",
      "INFO:root: database/Nicia/ : ChopedSample 39 :  : converted to tensor\n",
      "INFO:root: database/Nicia/ : ChopedSample 40 :  : converted to tensor\n",
      "INFO:root: database/Nicia/ : ChopedSample 41 :  : converted to tensor\n",
      "INFO:root: database/Nicia/ : ChopedSample 42 :  : converted to tensor\n",
      "INFO:root: database/Nicia/ : ChopedSample 43 :  : converted to tensor\n"
     ]
    },
    {
     "name": "stderr",
     "output_type": "stream",
     "text": [
      "INFO:root: database/Nicia/ : ChopedSample 44 :  : converted to tensor\n",
      "INFO:root: database/Nicia/ : ChopedSample 45 :  : converted to tensor\n",
      "INFO:root: database/Nicia/ : ChopedSample 46 :  : converted to tensor\n",
      "INFO:root: database/Nicia/ : ChopedSample 47 :  : converted to tensor\n",
      "INFO:root: database/Nicia/ : ChopedSample 48 :  : converted to tensor\n",
      "INFO:root: database/Nicia/ : ChopedSample 49 :  : converted to tensor\n",
      "INFO:root: database/Nicia/ : ChopedSample 50 :  : converted to tensor\n",
      "INFO:root: database/Nicia/ : ChopedSample 51 :  : converted to tensor\n",
      "INFO:root: database/Nicia/ : ChopedSample 52 :  : converted to tensor\n",
      "INFO:root: database/Nicia/ : ChopedSample 53 :  : converted to tensor\n",
      "INFO:root: database/Nicia/ : ChopedSample 54 :  : converted to tensor\n",
      "INFO:root: database/Nicia/ : ChopedSample 55 :  : converted to tensor\n",
      "INFO:root: database/Nicia/ : ChopedSample 56 :  : converted to tensor\n",
      "INFO:root: database/Nicia/ : ChopedSample 57 :  : converted to tensor\n",
      "INFO:root: database/Nicia/ : ChopedSample 58 :  : converted to tensor\n",
      "INFO:root: database/Nicia/ : ChopedSample 59 :  : converted to tensor\n",
      "INFO:root: database/Nicia/ : ChopedSample 60 :  : converted to tensor\n",
      "INFO:root: database/Nicia/ : ChopedSample 61 :  : converted to tensor\n",
      "INFO:root: database/Nicia/ : ChopedSample 62 :  : converted to tensor\n",
      "INFO:root: database/Nicia/ : ChopedSample 63 :  : converted to tensor\n",
      "INFO:root: database/Nicia/ : ChopedSample 64 :  : converted to tensor\n",
      "INFO:root: database/Nicia/ : ChopedSample 65 :  : converted to tensor\n",
      "INFO:root: database/Nicia/ : ChopedSample 66 :  : converted to tensor\n",
      "INFO:root: database/Nicia/ : ChopedSample 67 :  : converted to tensor\n",
      "INFO:root: database/Nicia/ : ChopedSample 68 :  : converted to tensor\n",
      "INFO:root: database/Nicia/ : ChopedSample 69 :  : converted to tensor\n",
      "INFO:root: database/Nicia/ : ChopedSample 70 :  : converted to tensor\n",
      "INFO:root: database/Nicia/ : ChopedSample 71 :  : converted to tensor\n",
      "INFO:root: database/Nicia/ : ChopedSample 72 :  : converted to tensor\n",
      "INFO:root: database/Nicia/ : ChopedSample 73 :  : converted to tensor\n",
      "INFO:root: database/Nicia/ : ChopedSample 74 :  : converted to tensor\n",
      "INFO:root: database/Nicia/ : ChopedSample 75 :  : converted to tensor\n",
      "INFO:root: database/Nicia/ : ChopedSample 76 :  : converted to tensor\n",
      "INFO:root: database/Nicia/ : ChopedSample 77 :  : converted to tensor\n",
      "INFO:root: database/Nicia/ : ChopedSample 78 :  : converted to tensor\n",
      "INFO:root: database/Nicia/ : ChopedSample 79 :  : converted to tensor\n",
      "INFO:root: database/Nicia/ : ChopedSample 80 :  : converted to tensor\n",
      "INFO:root: database/Nicia/ : ChopedSample 81 :  : converted to tensor\n",
      "INFO:root: database/Nicia/ : ChopedSample 82 :  : converted to tensor\n",
      "INFO:root: database/Nicia/ : ChopedSample 83 :  : converted to tensor\n",
      "INFO:root: database/Nicia/ : ChopedSample 84 :  : converted to tensor\n",
      "INFO:root: database/Nicia/ : ChopedSample 85 :  : converted to tensor\n",
      "INFO:root: database/Nicia/ : ChopedSample 86 :  : converted to tensor\n",
      "INFO:root: database/Nicia/ : ChopedSample 87 :  : converted to tensor\n",
      "INFO:root: database/Nicia/ : ChopedSample 88 :  : converted to tensor\n",
      "INFO:root: database/Nicia/ : ChopedSample 89 :  : converted to tensor\n",
      "INFO:root: database/Nicia/ : ChopedSample 90 :  : converted to tensor\n",
      "INFO:root: database/Nicia/ : ChopedSample 91 :  : converted to tensor\n",
      "INFO:root: database/Nicia/ : ChopedSample 92 :  : converted to tensor\n",
      "INFO:root: database/Nicia/ : ChopedSample 93 :  : converted to tensor\n",
      "INFO:root: database/Nicia/ : ChopedSample 94 :  : converted to tensor\n",
      "INFO:root: database/Nicia/ : ChopedSample 95 :  : converted to tensor\n",
      "INFO:root: database/Nicia/ : ChopedSample 96 :  : converted to tensor\n",
      "INFO:root: database/Nicia/ : ChopedSample 97 :  : converted to tensor\n",
      "INFO:root: database/Nicia/ : ChopedSample 98 :  : converted to tensor\n",
      "INFO:root: database/Nicia/ : ChopedSample 99 :  : converted to tensor\n",
      "INFO:root: database/Nicia/ : ChopedSample 100 :  : converted to tensor\n",
      "INFO:root: database/Nicia/ : ChopedSample 101 :  : converted to tensor\n",
      "INFO:root: database/Nicia/ : ChopedSample 102 :  : converted to tensor\n",
      "INFO:root: database/Nicia/ : ChopedSample 103 :  : converted to tensor\n",
      "INFO:root: database/Nicia/ : ChopedSample 104 :  : converted to tensor\n",
      "INFO:root: database/Nicia/ : ChopedSample 105 :  : converted to tensor\n",
      "INFO:root: database/Nicia/ : ChopedSample 106 :  : converted to tensor\n",
      "INFO:root: database/Nicia/ : ChopedSample 107 :  : converted to tensor\n",
      "INFO:root: database/Nicia/ : ChopedSample 108 :  : converted to tensor\n",
      "INFO:root: database/Nicia/ : ChopedSample 109 :  : converted to tensor\n",
      "INFO:root: database/Nicia/ : ChopedSample 110 :  : converted to tensor\n",
      "INFO:root: database/Nicia/ : ChopedSample 111 :  : converted to tensor\n",
      "INFO:root: database/Nicia/ : ChopedSample 112 :  : converted to tensor\n",
      "INFO:root: database/Nicia/ : ChopedSample 113 :  : converted to tensor\n",
      "INFO:root: database/Nicia/ : ChopedSample 114 :  : converted to tensor\n",
      "INFO:root: database/Nicia/ : ChopedSample 115 :  : converted to tensor\n",
      "INFO:root: database/Nicia/ : ChopedSample 116 :  : converted to tensor\n",
      "INFO:root: database/Nicia/ : ChopedSample 117 :  : converted to tensor\n",
      "INFO:root: database/Nicia/ : ChopedSample 118 :  : converted to tensor\n",
      "INFO:root: database/Nicia/ : ChopedSample 119 :  : converted to tensor\n",
      "INFO:root: database/Nicia/ : ChopedSample 120 :  : converted to tensor\n",
      "INFO:root: database/Nicia/ : ChopedSample 121 :  : converted to tensor\n",
      "INFO:root: database/Nicia/ : ChopedSample 122 :  : converted to tensor\n",
      "INFO:root: database/Nicia/ : ChopedSample 123 :  : converted to tensor\n",
      "INFO:root: database/Nicia/ : ChopedSample 124 :  : converted to tensor\n",
      "INFO:root: database/Nicia/ : ChopedSample 125 :  : converted to tensor\n",
      "INFO:root: database/Nicia/ : ChopedSample 126 :  : converted to tensor\n",
      "INFO:root: database/Nicia/ : ChopedSample 127 :  : converted to tensor\n",
      "INFO:root: database/Nicia/ : ChopedSample 128 :  : converted to tensor\n",
      "INFO:root: database/Nicia/ : ChopedSample 129 :  : converted to tensor\n",
      "INFO:root: database/Nicia/ : ChopedSample 130 :  : converted to tensor\n",
      "INFO:root: database/Nicia/ : ChopedSample 131 :  : converted to tensor\n",
      "INFO:root: database/Nicia/ : ChopedSample 132 :  : converted to tensor\n",
      "INFO:root: database/Nicia/ : ChopedSample 133 :  : converted to tensor\n",
      "INFO:root: database/Nicia/ : ChopedSample 134 :  : converted to tensor\n",
      "INFO:root: database/Nicia/ : ChopedSample 135 :  : converted to tensor\n",
      "INFO:root: database/Nicia/ : ChopedSample 136 :  : converted to tensor\n",
      "INFO:root: database/Nicia/ : ChopedSample 137 :  : converted to tensor\n",
      "INFO:root: database/Nicia/ : ChopedSample 138 :  : converted to tensor\n",
      "INFO:root: database/Nicia/ : ChopedSample 139 :  : converted to tensor\n",
      "INFO:root: database/Nicia/ : ChopedSample 140 :  : converted to tensor\n",
      "INFO:root: database/Nicia/ : ChopedSample 141 :  : converted to tensor\n",
      "INFO:root: database/Nicia/ : ChopedSample 142 :  : converted to tensor\n",
      "INFO:root: database/Nicia/ : ChopedSample 143 :  : converted to tensor\n",
      "INFO:root: database/Nicia/ : ChopedSample 144 :  : converted to tensor\n",
      "INFO:root: database/Nicia/ : ChopedSample 145 :  : converted to tensor\n",
      "INFO:root: database/Nicia/ : ChopedSample 146 :  : converted to tensor\n",
      "INFO:root: database/Nicia/ : ChopedSample 147 :  : converted to tensor\n",
      "INFO:root: database/Nicia/ : ChopedSample 148 :  : converted to tensor\n",
      "INFO:root: database/Nicia/ : ChopedSample 149 :  : converted to tensor\n",
      "INFO:root: database/Nicia/ : ChopedSample 150 :  : converted to tensor\n",
      "INFO:root: database/Nicia/ : ChopedSample 151 :  : converted to tensor\n",
      "INFO:root: database/Nicia/ : ChopedSample 152 :  : converted to tensor\n",
      "INFO:root: database/Nicia/ : ChopedSample 153 :  : converted to tensor\n",
      "INFO:root: database/Nicia/ : ChopedSample 154 :  : converted to tensor\n",
      "INFO:root: database/Nicia/ : ChopedSample 155 :  : converted to tensor\n",
      "INFO:root: database/Nicia/ : ChopedSample 156 :  : converted to tensor\n",
      "INFO:root: database/Nicia/ : ChopedSample 157 :  : converted to tensor\n",
      "INFO:root: database/Nicia/ : ChopedSample 158 :  : converted to tensor\n",
      "INFO:root: database/Nicia/ : ChopedSample 159 :  : converted to tensor\n",
      "INFO:root: database/Nicia/ : ChopedSample 160 :  : converted to tensor\n"
     ]
    },
    {
     "name": "stderr",
     "output_type": "stream",
     "text": [
      "INFO:root: database/Nicia/ : ChopedSample 161 :  : converted to tensor\n",
      "INFO:root: database/Nicia/ : ChopedSample 162 :  : converted to tensor\n",
      "INFO:root: database/Nicia/ : ChopedSample 163 :  : converted to tensor\n",
      "INFO:root: database/Nicia/ : ChopedSample 164 :  : converted to tensor\n",
      "INFO:root: database/Nicia/ : ChopedSample 165 :  : converted to tensor\n",
      "INFO:root: database/Nicia/ : ChopedSample 166 :  : converted to tensor\n",
      "INFO:root: database/Nicia/ : ChopedSample 167 :  : converted to tensor\n",
      "INFO:root: database/Nicia/ : ChopedSample 168 :  : converted to tensor\n",
      "INFO:root: database/Nicia/ : ChopedSample 169 :  : converted to tensor\n",
      "INFO:root: database/Nicia/ : ChopedSample 170 :  : converted to tensor\n",
      "INFO:root: database/Nicia/ : ChopedSample 171 :  : converted to tensor\n",
      "INFO:root: database/Nicia/ : ChopedSample 172 :  : converted to tensor\n",
      "INFO:root: database/Nicia/ : ChopedSample 173 :  : converted to tensor\n",
      "INFO:root: database/Nicia/ : ChopedSample 174 :  : converted to tensor\n",
      "INFO:root: database/Nicia/ : ChopedSample 175 :  : converted to tensor\n",
      "INFO:root: database/Nicia/ : ChopedSample 176 :  : converted to tensor\n",
      "INFO:root: database/Nicia/ : ChopedSample 177 :  : converted to tensor\n",
      "INFO:root: database/Nicia/ : ChopedSample 178 :  : converted to tensor\n",
      "INFO:root: database/Nicia/ : ChopedSample 179 :  : converted to tensor\n",
      "INFO:root: database/Nicia/ : ChopedSample 180 :  : converted to tensor\n",
      "INFO:root: database/Nicia/ : ChopedSample 181 :  : converted to tensor\n",
      "INFO:root: database/Nicia/ : ChopedSample 182 :  : converted to tensor\n",
      "INFO:root: database/Nicia/ : ChopedSample 183 :  : converted to tensor\n",
      "INFO:root: database/Nicia/ : ChopedSample 184 :  : converted to tensor\n",
      "INFO:root: database/Nicia/ : ChopedSample 185 :  : converted to tensor\n",
      "INFO:root: database/Nicia/ : ChopedSample 186 :  : converted to tensor\n",
      "INFO:root: database/Nicia/ : ChopedSample 187 :  : converted to tensor\n",
      "INFO:root: database/Nicia/ : ChopedSample 188 :  : converted to tensor\n",
      "INFO:root: database/Nicia/ : ChopedSample 189 :  : converted to tensor\n",
      "INFO:root: database/Nicia/ : ChopedSample 190 :  : converted to tensor\n",
      "INFO:root: database/Nicia/ : ChopedSample 191 :  : converted to tensor\n",
      "INFO:root: database/Nicia/ : ChopedSample 192 :  : converted to tensor\n",
      "INFO:root: database/Nicia/ : ChopedSample 193 :  : converted to tensor\n",
      "INFO:root: database/Nicia/ : ChopedSample 194 :  : converted to tensor\n",
      "INFO:root: database/Nicia/ : ChopedSample 195 :  : converted to tensor\n",
      "INFO:root: database/Nicia/ : ChopedSample 196 :  : converted to tensor\n",
      "INFO:root: database/Nicia/ : ChopedSample 197 :  : converted to tensor\n",
      "INFO:root: database/Nicia/ : ChopedSample 198 :  : converted to tensor\n",
      "INFO:root: database/Nicia/ : ChopedSample 199 :  : converted to tensor\n",
      "INFO:root: database/Nicia/ : ChopedSample 200 :  : converted to tensor\n",
      "INFO:root: database/Nicia/ : ChopedSample 201 :  : converted to tensor\n",
      "INFO:root: database/Nicia/ : ChopedSample 202 :  : converted to tensor\n",
      "INFO:root: database/Nicia/ : ChopedSample 203 :  : converted to tensor\n",
      "INFO:root: database/Nicia/ : ChopedSample 204 :  : converted to tensor\n",
      "INFO:root: database/Nicia/ : ChopedSample 205 :  : converted to tensor\n",
      "INFO:root: database/Nicia/ : ChopedSample 206 :  : converted to tensor\n",
      "INFO:root: database/Nicia/ : ChopedSample 207 :  : converted to tensor\n",
      "INFO:root: database/Nicia/ : ChopedSample 208 :  : converted to tensor\n",
      "INFO:root: database/Nicia/ : ChopedSample 209 :  : converted to tensor\n",
      "INFO:root: database/Nicia/ : ChopedSample 210 :  : converted to tensor\n",
      "INFO:root: database/Nicia/ : ChopedSample 211 :  : converted to tensor\n",
      "INFO:root: database/Nicia/ : ChopedSample 212 :  : converted to tensor\n",
      "INFO:root: database/Nicia/ : ChopedSample 213 :  : converted to tensor\n",
      "INFO:root: database/Nicia/ : ChopedSample 214 :  : converted to tensor\n",
      "INFO:root: database/Nicia/ : ChopedSample 215 :  : converted to tensor\n",
      "INFO:root: database/Nicia/ : ChopedSample 216 :  : converted to tensor\n",
      "INFO:root: database/Nicia/ : ChopedSample 217 :  : converted to tensor\n",
      "INFO:root: database/Nicia/ : ChopedSample 218 :  : converted to tensor\n",
      "INFO:root: database/Nicia/ : ChopedSample 219 :  : converted to tensor\n",
      "INFO:root: database/Nicia/ : ChopedSample 220 :  : converted to tensor\n",
      "INFO:root: database/Nicia/ : ChopedSample 221 :  : converted to tensor\n",
      "INFO:root: database/Nicia/ : ChopedSample 222 :  : converted to tensor\n",
      "INFO:root: database/Nicia/ : ChopedSample 223 :  : converted to tensor\n",
      "INFO:root: database/Nicia/ : ChopedSample 224 :  : converted to tensor\n",
      "INFO:root: database/Nicia/ : ChopedSample 225 :  : converted to tensor\n",
      "INFO:root: database/Nicia/ : ChopedSample 226 :  : converted to tensor\n",
      "INFO:root: database/Nicia/ : ChopedSample 227 :  : converted to tensor\n",
      "INFO:root: database/Nicia/ : ChopedSample 228 :  : converted to tensor\n",
      "INFO:root: database/Nicia/ : ChopedSample 229 :  : converted to tensor\n",
      "INFO:root: database/Nicia/ : ChopedSample 230 :  : converted to tensor\n",
      "INFO:root: database/Nicia/ : ChopedSample 231 :  : converted to tensor\n",
      "INFO:root: database/Nicia/ : ChopedSample 232 :  : converted to tensor\n",
      "INFO:root: database/Nicia/ : ChopedSample 233 :  : converted to tensor\n",
      "INFO:root: database/Nicia/ : ChopedSample 234 :  : converted to tensor\n",
      "INFO:root: database/Nicia/ : ChopedSample 235 :  : converted to tensor\n",
      "INFO:root: database/Nicia/ : ChopedSample 236 :  : converted to tensor\n",
      "INFO:root: database/Nicia/ : ChopedSample 237 :  : converted to tensor\n",
      "INFO:root: database/Nicia/ : ChopedSample 238 :  : converted to tensor\n",
      "INFO:root: database/Nicia/ : ChopedSample 239 :  : converted to tensor\n",
      "INFO:root: database/Nicia/ : ChopedSample 240 :  : converted to tensor\n",
      "INFO:root: database/Nicia/ : ChopedSample 241 :  : converted to tensor\n",
      "INFO:root: database/Nicia/ : ChopedSample 242 :  : converted to tensor\n",
      "INFO:root: database/Nicia/ : ChopedSample 243 :  : converted to tensor\n",
      "INFO:root: database/Nicia/ : ChopedSample 244 :  : converted to tensor\n",
      "INFO:root: database/Nicia/ : ChopedSample 245 :  : converted to tensor\n",
      "INFO:root: database/Nicia/ : ChopedSample 246 :  : converted to tensor\n",
      "INFO:root: database/Nicia/ : ChopedSample 247 :  : converted to tensor\n",
      "INFO:root: database/Nicia/ : ChopedSample 248 :  : converted to tensor\n",
      "INFO:root: database/Nicia/ : ChopedSample 249 :  : converted to tensor\n",
      "INFO:root: database/Nicia/ : ChopedSample 250 :  : converted to tensor\n",
      "INFO:root: database/Nicia/ : ChopedSample 251 :  : converted to tensor\n",
      "INFO:root: database/Nicia/ : ChopedSample 252 :  : converted to tensor\n",
      "INFO:root: database/Nicia/ : ChopedSample 253 :  : converted to tensor\n",
      "INFO:root: database/Nicia/ : ChopedSample 254 :  : converted to tensor\n",
      "INFO:root: database/Nicia/ : ChopedSample 255 :  : converted to tensor\n",
      "INFO:root: database/Nicia/ : ChopedSample 256 :  : converted to tensor\n",
      "INFO:root: database/Nicia/ : ChopedSample 257 :  : converted to tensor\n",
      "INFO:root: database/Nicia/ : ChopedSample 258 :  : converted to tensor\n",
      "INFO:root: database/Nicia/ : ChopedSample 259 :  : converted to tensor\n",
      "INFO:root: database/Nicia/ : ChopedSample 260 :  : converted to tensor\n",
      "INFO:root: database/Nicia/ : ChopedSample 261 :  : converted to tensor\n",
      "INFO:root: database/Nicia/ : ChopedSample 262 :  : converted to tensor\n",
      "INFO:root:Sucessfully converted all ChopedSamples to Tensors!\n"
     ]
    }
   ],
   "source": [
    "import torch.optim as optim\n",
    "\n",
    "# create dataset : loading and processing samples to tensors\n",
    "vsInput = VoiceSamplesInput()\n"
   ]
  },
  {
   "cell_type": "code",
   "execution_count": 9,
   "metadata": {},
   "outputs": [],
   "source": [
    "# create net from VoiceRecogModel\n",
    "net = VoiceRecogModel()\n",
    "\n",
    "# loss function (using function implemented in pytorch)\n",
    "criterion = nn.MSELoss()\n",
    "\n",
    "# create your optimizer (basic optimizer)\n",
    "# setting learning rate \n",
    "optimizer = optim.SGD(net.parameters(), lr=0.001)"
   ]
  },
  {
   "cell_type": "code",
   "execution_count": 10,
   "metadata": {},
   "outputs": [
    {
     "name": "stdout",
     "output_type": "stream",
     "text": [
      "tensor([[1., 0.]])\n",
      "tensor([[-0.1174, -0.7282]], grad_fn=<AddmmBackward>)\n",
      "tensor(0.8894, grad_fn=<MseLossBackward>)\n"
     ]
    },
    {
     "name": "stderr",
     "output_type": "stream",
     "text": [
      "INFO:root:Training 0/286 done\n"
     ]
    },
    {
     "name": "stdout",
     "output_type": "stream",
     "text": [
      "tensor([[0., 1.]])\n",
      "tensor([[13.4370,  3.5886]], grad_fn=<AddmmBackward>)\n",
      "tensor(93.6269, grad_fn=<MseLossBackward>)\n"
     ]
    },
    {
     "name": "stderr",
     "output_type": "stream",
     "text": [
      "INFO:root:Training 1/286 done\n"
     ]
    },
    {
     "name": "stdout",
     "output_type": "stream",
     "text": [
      "tensor([[1., 0.]])\n",
      "tensor([[-3.0865, -0.0514]], grad_fn=<AddmmBackward>)\n",
      "tensor(8.3511, grad_fn=<MseLossBackward>)\n"
     ]
    },
    {
     "name": "stderr",
     "output_type": "stream",
     "text": [
      "INFO:root:Training 2/286 done\n"
     ]
    },
    {
     "name": "stdout",
     "output_type": "stream",
     "text": [
      "tensor([[0., 1.]])\n",
      "tensor([[-0.4667,  0.0167]], grad_fn=<AddmmBackward>)\n",
      "tensor(0.5923, grad_fn=<MseLossBackward>)\n"
     ]
    },
    {
     "name": "stderr",
     "output_type": "stream",
     "text": [
      "INFO:root:Training 3/286 done\n"
     ]
    },
    {
     "name": "stdout",
     "output_type": "stream",
     "text": [
      "tensor([[1., 0.]])\n",
      "tensor([[-0.4853,  0.0249]], grad_fn=<AddmmBackward>)\n",
      "tensor(1.1034, grad_fn=<MseLossBackward>)\n"
     ]
    },
    {
     "name": "stderr",
     "output_type": "stream",
     "text": [
      "INFO:root:Training 4/286 done\n"
     ]
    },
    {
     "name": "stdout",
     "output_type": "stream",
     "text": [
      "tensor([[0., 1.]])\n",
      "tensor([[-0.3895,  0.0279]], grad_fn=<AddmmBackward>)\n",
      "tensor(0.5483, grad_fn=<MseLossBackward>)\n"
     ]
    },
    {
     "name": "stderr",
     "output_type": "stream",
     "text": [
      "INFO:root:Training 5/286 done\n"
     ]
    },
    {
     "name": "stdout",
     "output_type": "stream",
     "text": [
      "tensor([[1., 0.]])\n",
      "tensor([[-0.4461,  0.0246]], grad_fn=<AddmmBackward>)\n",
      "tensor(1.0458, grad_fn=<MseLossBackward>)\n"
     ]
    },
    {
     "name": "stderr",
     "output_type": "stream",
     "text": [
      "INFO:root:Training 6/286 done\n"
     ]
    },
    {
     "name": "stdout",
     "output_type": "stream",
     "text": [
      "tensor([[0., 1.]])\n",
      "tensor([[-0.3461,  0.0448]], grad_fn=<AddmmBackward>)\n",
      "tensor(0.5161, grad_fn=<MseLossBackward>)\n"
     ]
    },
    {
     "name": "stderr",
     "output_type": "stream",
     "text": [
      "INFO:root:Training 7/286 done\n"
     ]
    },
    {
     "name": "stdout",
     "output_type": "stream",
     "text": [
      "tensor([[1., 0.]])\n",
      "tensor([[-0.3944,  0.0411]], grad_fn=<AddmmBackward>)\n",
      "tensor(0.9730, grad_fn=<MseLossBackward>)\n"
     ]
    },
    {
     "name": "stderr",
     "output_type": "stream",
     "text": [
      "INFO:root:Training 8/286 done\n"
     ]
    },
    {
     "name": "stdout",
     "output_type": "stream",
     "text": [
      "tensor([[0., 1.]])\n",
      "tensor([[-0.2947,  0.0357]], grad_fn=<AddmmBackward>)\n",
      "tensor(0.5084, grad_fn=<MseLossBackward>)\n"
     ]
    },
    {
     "name": "stderr",
     "output_type": "stream",
     "text": [
      "INFO:root:Training 9/286 done\n"
     ]
    },
    {
     "name": "stdout",
     "output_type": "stream",
     "text": [
      "tensor([[1., 0.]])\n",
      "tensor([[-0.2878,  0.0468]], grad_fn=<AddmmBackward>)\n",
      "tensor(0.8303, grad_fn=<MseLossBackward>)\n"
     ]
    },
    {
     "name": "stderr",
     "output_type": "stream",
     "text": [
      "INFO:root:Training 10/286 done\n"
     ]
    },
    {
     "name": "stdout",
     "output_type": "stream",
     "text": [
      "tensor([[0., 1.]])\n",
      "tensor([[-0.2670,  0.0510]], grad_fn=<AddmmBackward>)\n",
      "tensor(0.4860, grad_fn=<MseLossBackward>)\n"
     ]
    },
    {
     "name": "stderr",
     "output_type": "stream",
     "text": [
      "INFO:root:Training 11/286 done\n"
     ]
    },
    {
     "name": "stdout",
     "output_type": "stream",
     "text": [
      "tensor([[1., 0.]])\n",
      "tensor([[-0.2390,  0.0570]], grad_fn=<AddmmBackward>)\n",
      "tensor(0.7692, grad_fn=<MseLossBackward>)\n"
     ]
    },
    {
     "name": "stderr",
     "output_type": "stream",
     "text": [
      "INFO:root:Training 12/286 done\n"
     ]
    },
    {
     "name": "stdout",
     "output_type": "stream",
     "text": [
      "tensor([[0., 1.]])\n",
      "tensor([[-0.2369,  0.0540]], grad_fn=<AddmmBackward>)\n",
      "tensor(0.4755, grad_fn=<MseLossBackward>)\n"
     ]
    },
    {
     "name": "stderr",
     "output_type": "stream",
     "text": [
      "INFO:root:Training 13/286 done\n"
     ]
    },
    {
     "name": "stdout",
     "output_type": "stream",
     "text": [
      "tensor([[1., 0.]])\n",
      "tensor([[-0.2169,  0.0671]], grad_fn=<AddmmBackward>)\n",
      "tensor(0.7426, grad_fn=<MseLossBackward>)\n"
     ]
    },
    {
     "name": "stderr",
     "output_type": "stream",
     "text": [
      "INFO:root:Training 14/286 done\n"
     ]
    },
    {
     "name": "stdout",
     "output_type": "stream",
     "text": [
      "tensor([[0., 1.]])\n",
      "tensor([[-0.2211,  0.0702]], grad_fn=<AddmmBackward>)\n",
      "tensor(0.4568, grad_fn=<MseLossBackward>)\n"
     ]
    },
    {
     "name": "stderr",
     "output_type": "stream",
     "text": [
      "INFO:root:Training 15/286 done\n"
     ]
    },
    {
     "name": "stdout",
     "output_type": "stream",
     "text": [
      "tensor([[1., 0.]])\n",
      "tensor([[-0.1968,  0.0711]], grad_fn=<AddmmBackward>)\n",
      "tensor(0.7187, grad_fn=<MseLossBackward>)\n"
     ]
    },
    {
     "name": "stderr",
     "output_type": "stream",
     "text": [
      "INFO:root:Training 16/286 done\n"
     ]
    },
    {
     "name": "stdout",
     "output_type": "stream",
     "text": [
      "tensor([[0., 1.]])\n",
      "tensor([[-0.1842,  0.0766]], grad_fn=<AddmmBackward>)\n",
      "tensor(0.4433, grad_fn=<MseLossBackward>)\n"
     ]
    },
    {
     "name": "stderr",
     "output_type": "stream",
     "text": [
      "INFO:root:Training 17/286 done\n"
     ]
    },
    {
     "name": "stdout",
     "output_type": "stream",
     "text": [
      "tensor([[1., 0.]])\n",
      "tensor([[-0.2256,  0.0807]], grad_fn=<AddmmBackward>)\n",
      "tensor(0.7543, grad_fn=<MseLossBackward>)\n"
     ]
    },
    {
     "name": "stderr",
     "output_type": "stream",
     "text": [
      "INFO:root:Training 18/286 done\n"
     ]
    },
    {
     "name": "stdout",
     "output_type": "stream",
     "text": [
      "tensor([[0., 1.]])\n",
      "tensor([[-0.1229,  0.0945]], grad_fn=<AddmmBackward>)\n",
      "tensor(0.4175, grad_fn=<MseLossBackward>)\n"
     ]
    },
    {
     "name": "stderr",
     "output_type": "stream",
     "text": [
      "INFO:root:Training 19/286 done\n"
     ]
    },
    {
     "name": "stdout",
     "output_type": "stream",
     "text": [
      "tensor([[1., 0.]])\n",
      "tensor([[-0.1655,  0.0812]], grad_fn=<AddmmBackward>)\n",
      "tensor(0.6826, grad_fn=<MseLossBackward>)\n"
     ]
    },
    {
     "name": "stderr",
     "output_type": "stream",
     "text": [
      "INFO:root:Training 20/286 done\n"
     ]
    },
    {
     "name": "stdout",
     "output_type": "stream",
     "text": [
      "tensor([[0., 1.]])\n",
      "tensor([[-0.1377,  0.1043]], grad_fn=<AddmmBackward>)\n",
      "tensor(0.4106, grad_fn=<MseLossBackward>)\n"
     ]
    },
    {
     "name": "stderr",
     "output_type": "stream",
     "text": [
      "INFO:root:Training 21/286 done\n"
     ]
    },
    {
     "name": "stdout",
     "output_type": "stream",
     "text": [
      "tensor([[1., 0.]])\n",
      "tensor([[-0.1464,  0.0864]], grad_fn=<AddmmBackward>)\n",
      "tensor(0.6609, grad_fn=<MseLossBackward>)\n"
     ]
    },
    {
     "name": "stderr",
     "output_type": "stream",
     "text": [
      "INFO:root:Training 22/286 done\n"
     ]
    },
    {
     "name": "stdout",
     "output_type": "stream",
     "text": [
      "tensor([[0., 1.]])\n",
      "tensor([[-0.1211,  0.0998]], grad_fn=<AddmmBackward>)\n",
      "tensor(0.4125, grad_fn=<MseLossBackward>)\n"
     ]
    },
    {
     "name": "stderr",
     "output_type": "stream",
     "text": [
      "INFO:root:Training 23/286 done\n"
     ]
    },
    {
     "name": "stdout",
     "output_type": "stream",
     "text": [
      "tensor([[1., 0.]])\n",
      "tensor([[-0.1383,  0.0869]], grad_fn=<AddmmBackward>)\n",
      "tensor(0.6516, grad_fn=<MseLossBackward>)\n"
     ]
    },
    {
     "name": "stderr",
     "output_type": "stream",
     "text": [
      "INFO:root:Training 24/286 done\n"
     ]
    },
    {
     "name": "stdout",
     "output_type": "stream",
     "text": [
      "tensor([[0., 1.]])\n",
      "tensor([[-0.0909,  0.1141]], grad_fn=<AddmmBackward>)\n",
      "tensor(0.3966, grad_fn=<MseLossBackward>)\n"
     ]
    },
    {
     "name": "stderr",
     "output_type": "stream",
     "text": [
      "INFO:root:Training 25/286 done\n"
     ]
    },
    {
     "name": "stdout",
     "output_type": "stream",
     "text": [
      "tensor([[1., 0.]])\n",
      "tensor([[-0.1396,  0.0840]], grad_fn=<AddmmBackward>)\n",
      "tensor(0.6529, grad_fn=<MseLossBackward>)\n"
     ]
    },
    {
     "name": "stderr",
     "output_type": "stream",
     "text": [
      "INFO:root:Training 26/286 done\n"
     ]
    },
    {
     "name": "stdout",
     "output_type": "stream",
     "text": [
      "tensor([[0., 1.]])\n",
      "tensor([[-0.1029,  0.1076]], grad_fn=<AddmmBackward>)\n",
      "tensor(0.4035, grad_fn=<MseLossBackward>)\n"
     ]
    },
    {
     "name": "stderr",
     "output_type": "stream",
     "text": [
      "INFO:root:Training 27/286 done\n"
     ]
    },
    {
     "name": "stdout",
     "output_type": "stream",
     "text": [
      "tensor([[1., 0.]])\n",
      "tensor([[-0.1326,  0.0892]], grad_fn=<AddmmBackward>)\n",
      "tensor(0.6454, grad_fn=<MseLossBackward>)\n"
     ]
    },
    {
     "name": "stderr",
     "output_type": "stream",
     "text": [
      "INFO:root:Training 28/286 done\n"
     ]
    },
    {
     "name": "stdout",
     "output_type": "stream",
     "text": [
      "tensor([[0., 1.]])\n",
      "tensor([[-0.0947,  0.1062]], grad_fn=<AddmmBackward>)\n",
      "tensor(0.4039, grad_fn=<MseLossBackward>)\n"
     ]
    },
    {
     "name": "stderr",
     "output_type": "stream",
     "text": [
      "INFO:root:Training 29/286 done\n"
     ]
    },
    {
     "name": "stdout",
     "output_type": "stream",
     "text": [
      "tensor([[1., 0.]])\n",
      "tensor([[-0.0873,  0.1078]], grad_fn=<AddmmBackward>)\n",
      "tensor(0.5969, grad_fn=<MseLossBackward>)\n"
     ]
    },
    {
     "name": "stderr",
     "output_type": "stream",
     "text": [
      "INFO:root:Training 30/286 done\n"
     ]
    },
    {
     "name": "stdout",
     "output_type": "stream",
     "text": [
      "tensor([[0., 1.]])\n",
      "tensor([[-0.0957,  0.1134]], grad_fn=<AddmmBackward>)\n",
      "tensor(0.3976, grad_fn=<MseLossBackward>)\n"
     ]
    },
    {
     "name": "stderr",
     "output_type": "stream",
     "text": [
      "INFO:root:Training 31/286 done\n"
     ]
    },
    {
     "name": "stdout",
     "output_type": "stream",
     "text": [
      "tensor([[1., 0.]])\n",
      "tensor([[-0.0849,  0.1241]], grad_fn=<AddmmBackward>)\n",
      "tensor(0.5962, grad_fn=<MseLossBackward>)\n"
     ]
    },
    {
     "name": "stderr",
     "output_type": "stream",
     "text": [
      "INFO:root:Training 32/286 done\n"
     ]
    },
    {
     "name": "stdout",
     "output_type": "stream",
     "text": [
      "tensor([[0., 1.]])\n",
      "tensor([[-0.0492,  0.1272]], grad_fn=<AddmmBackward>)\n",
      "tensor(0.3821, grad_fn=<MseLossBackward>)\n"
     ]
    },
    {
     "name": "stderr",
     "output_type": "stream",
     "text": [
      "INFO:root:Training 33/286 done\n"
     ]
    },
    {
     "name": "stdout",
     "output_type": "stream",
     "text": [
      "tensor([[1., 0.]])\n",
      "tensor([[-0.0723,  0.1143]], grad_fn=<AddmmBackward>)\n",
      "tensor(0.5815, grad_fn=<MseLossBackward>)\n"
     ]
    },
    {
     "name": "stderr",
     "output_type": "stream",
     "text": [
      "INFO:root:Training 34/286 done\n"
     ]
    },
    {
     "name": "stdout",
     "output_type": "stream",
     "text": [
      "tensor([[0., 1.]])\n",
      "tensor([[-0.0611,  0.1173]], grad_fn=<AddmmBackward>)\n",
      "tensor(0.3915, grad_fn=<MseLossBackward>)\n"
     ]
    },
    {
     "name": "stderr",
     "output_type": "stream",
     "text": [
      "INFO:root:Training 35/286 done\n"
     ]
    },
    {
     "name": "stdout",
     "output_type": "stream",
     "text": [
      "tensor([[1., 0.]])\n",
      "tensor([[-0.0748,  0.1134]], grad_fn=<AddmmBackward>)\n",
      "tensor(0.5840, grad_fn=<MseLossBackward>)\n"
     ]
    },
    {
     "name": "stderr",
     "output_type": "stream",
     "text": [
      "INFO:root:Training 36/286 done\n"
     ]
    },
    {
     "name": "stdout",
     "output_type": "stream",
     "text": [
      "tensor([[0., 1.]])\n",
      "tensor([[-0.0795,  0.0959]], grad_fn=<AddmmBackward>)\n",
      "tensor(0.4119, grad_fn=<MseLossBackward>)\n"
     ]
    },
    {
     "name": "stderr",
     "output_type": "stream",
     "text": [
      "INFO:root:Training 37/286 done\n"
     ]
    },
    {
     "name": "stdout",
     "output_type": "stream",
     "text": [
      "tensor([[1., 0.]])\n",
      "tensor([[-0.0694,  0.1235]], grad_fn=<AddmmBackward>)\n",
      "tensor(0.5794, grad_fn=<MseLossBackward>)\n"
     ]
    },
    {
     "name": "stderr",
     "output_type": "stream",
     "text": [
      "INFO:root:Training 38/286 done\n"
     ]
    },
    {
     "name": "stdout",
     "output_type": "stream",
     "text": [
      "tensor([[0., 1.]])\n",
      "tensor([[-0.0374,  0.1082]], grad_fn=<AddmmBackward>)\n",
      "tensor(0.3984, grad_fn=<MseLossBackward>)\n"
     ]
    },
    {
     "name": "stderr",
     "output_type": "stream",
     "text": [
      "INFO:root:Training 39/286 done\n"
     ]
    },
    {
     "name": "stdout",
     "output_type": "stream",
     "text": [
      "tensor([[1., 0.]])\n",
      "tensor([[-0.0526,  0.1142]], grad_fn=<AddmmBackward>)\n",
      "tensor(0.5605, grad_fn=<MseLossBackward>)\n"
     ]
    },
    {
     "name": "stderr",
     "output_type": "stream",
     "text": [
      "INFO:root:Training 40/286 done\n"
     ]
    },
    {
     "name": "stdout",
     "output_type": "stream",
     "text": [
      "tensor([[0., 1.]])\n",
      "tensor([[-0.0544,  0.1207]], grad_fn=<AddmmBackward>)\n",
      "tensor(0.3881, grad_fn=<MseLossBackward>)\n"
     ]
    },
    {
     "name": "stderr",
     "output_type": "stream",
     "text": [
      "INFO:root:Training 41/286 done\n"
     ]
    },
    {
     "name": "stdout",
     "output_type": "stream",
     "text": [
      "tensor([[1., 0.]])\n",
      "tensor([[-0.0466,  0.1171]], grad_fn=<AddmmBackward>)\n",
      "tensor(0.5545, grad_fn=<MseLossBackward>)\n"
     ]
    },
    {
     "name": "stderr",
     "output_type": "stream",
     "text": [
      "INFO:root:Training 42/286 done\n"
     ]
    },
    {
     "name": "stdout",
     "output_type": "stream",
     "text": [
      "tensor([[0., 1.]])\n",
      "tensor([[-0.0465,  0.1222]], grad_fn=<AddmmBackward>)\n",
      "tensor(0.3864, grad_fn=<MseLossBackward>)\n"
     ]
    },
    {
     "name": "stderr",
     "output_type": "stream",
     "text": [
      "INFO:root:Training 43/286 done\n"
     ]
    },
    {
     "name": "stdout",
     "output_type": "stream",
     "text": [
      "tensor([[1., 0.]])\n",
      "tensor([[-0.0397,  0.1328]], grad_fn=<AddmmBackward>)\n",
      "tensor(0.5493, grad_fn=<MseLossBackward>)\n"
     ]
    },
    {
     "name": "stderr",
     "output_type": "stream",
     "text": [
      "INFO:root:Training 44/286 done\n"
     ]
    },
    {
     "name": "stdout",
     "output_type": "stream",
     "text": [
      "tensor([[0., 1.]])\n",
      "tensor([[-0.0276,  0.1174]], grad_fn=<AddmmBackward>)\n",
      "tensor(0.3899, grad_fn=<MseLossBackward>)\n"
     ]
    },
    {
     "name": "stderr",
     "output_type": "stream",
     "text": [
      "INFO:root:Training 45/286 done\n"
     ]
    },
    {
     "name": "stdout",
     "output_type": "stream",
     "text": [
      "tensor([[1., 0.]])\n",
      "tensor([[-0.0423,  0.1123]], grad_fn=<AddmmBackward>)\n",
      "tensor(0.5495, grad_fn=<MseLossBackward>)\n"
     ]
    },
    {
     "name": "stderr",
     "output_type": "stream",
     "text": [
      "INFO:root:Training 46/286 done\n"
     ]
    },
    {
     "name": "stdout",
     "output_type": "stream",
     "text": [
      "tensor([[0., 1.]])\n",
      "tensor([[-0.0018,  0.1292]], grad_fn=<AddmmBackward>)\n",
      "tensor(0.3791, grad_fn=<MseLossBackward>)\n"
     ]
    },
    {
     "name": "stderr",
     "output_type": "stream",
     "text": [
      "INFO:root:Training 47/286 done\n"
     ]
    },
    {
     "name": "stdout",
     "output_type": "stream",
     "text": [
      "tensor([[1., 0.]])\n",
      "tensor([[-0.0398,  0.1299]], grad_fn=<AddmmBackward>)\n",
      "tensor(0.5490, grad_fn=<MseLossBackward>)\n"
     ]
    },
    {
     "name": "stderr",
     "output_type": "stream",
     "text": [
      "INFO:root:Training 48/286 done\n"
     ]
    },
    {
     "name": "stdout",
     "output_type": "stream",
     "text": [
      "tensor([[0., 1.]])\n",
      "tensor([[0.0052, 0.1394]], grad_fn=<AddmmBackward>)\n",
      "tensor(0.3703, grad_fn=<MseLossBackward>)\n"
     ]
    },
    {
     "name": "stderr",
     "output_type": "stream",
     "text": [
      "INFO:root:Training 49/286 done\n"
     ]
    },
    {
     "name": "stdout",
     "output_type": "stream",
     "text": [
      "tensor([[1., 0.]])\n",
      "tensor([[-0.0087,  0.1290]], grad_fn=<AddmmBackward>)\n",
      "tensor(0.5171, grad_fn=<MseLossBackward>)\n"
     ]
    },
    {
     "name": "stderr",
     "output_type": "stream",
     "text": [
      "INFO:root:Training 50/286 done\n"
     ]
    },
    {
     "name": "stdout",
     "output_type": "stream",
     "text": [
      "tensor([[0., 1.]])\n",
      "tensor([[-0.0088,  0.1305]], grad_fn=<AddmmBackward>)\n",
      "tensor(0.3781, grad_fn=<MseLossBackward>)\n"
     ]
    },
    {
     "name": "stderr",
     "output_type": "stream",
     "text": [
      "INFO:root:Training 51/286 done\n"
     ]
    },
    {
     "name": "stdout",
     "output_type": "stream",
     "text": [
      "tensor([[1., 0.]])\n",
      "tensor([[0.0133, 0.1326]], grad_fn=<AddmmBackward>)\n",
      "tensor(0.4956, grad_fn=<MseLossBackward>)\n"
     ]
    },
    {
     "name": "stderr",
     "output_type": "stream",
     "text": [
      "INFO:root:Training 52/286 done\n"
     ]
    },
    {
     "name": "stdout",
     "output_type": "stream",
     "text": [
      "tensor([[0., 1.]])\n",
      "tensor([[-0.0064,  0.1391]], grad_fn=<AddmmBackward>)\n",
      "tensor(0.3706, grad_fn=<MseLossBackward>)\n"
     ]
    },
    {
     "name": "stderr",
     "output_type": "stream",
     "text": [
      "INFO:root:Training 53/286 done\n"
     ]
    },
    {
     "name": "stdout",
     "output_type": "stream",
     "text": [
      "tensor([[1., 0.]])\n",
      "tensor([[0.0071, 0.1379]], grad_fn=<AddmmBackward>)\n",
      "tensor(0.5024, grad_fn=<MseLossBackward>)\n"
     ]
    },
    {
     "name": "stderr",
     "output_type": "stream",
     "text": [
      "INFO:root:Training 54/286 done\n"
     ]
    },
    {
     "name": "stdout",
     "output_type": "stream",
     "text": [
      "tensor([[0., 1.]])\n",
      "tensor([[0.0145, 0.1535]], grad_fn=<AddmmBackward>)\n",
      "tensor(0.3584, grad_fn=<MseLossBackward>)\n"
     ]
    },
    {
     "name": "stderr",
     "output_type": "stream",
     "text": [
      "INFO:root:Training 55/286 done\n"
     ]
    },
    {
     "name": "stdout",
     "output_type": "stream",
     "text": [
      "tensor([[1., 0.]])\n",
      "tensor([[-0.0171,  0.1161]], grad_fn=<AddmmBackward>)\n",
      "tensor(0.5240, grad_fn=<MseLossBackward>)\n"
     ]
    },
    {
     "name": "stderr",
     "output_type": "stream",
     "text": [
      "INFO:root:Training 56/286 done\n"
     ]
    },
    {
     "name": "stdout",
     "output_type": "stream",
     "text": [
      "tensor([[0., 1.]])\n",
      "tensor([[0.0050, 0.1577]], grad_fn=<AddmmBackward>)\n",
      "tensor(0.3547, grad_fn=<MseLossBackward>)\n"
     ]
    },
    {
     "name": "stderr",
     "output_type": "stream",
     "text": [
      "INFO:root:Training 57/286 done\n"
     ]
    },
    {
     "name": "stdout",
     "output_type": "stream",
     "text": [
      "tensor([[1., 0.]])\n",
      "tensor([[0.0085, 0.1274]], grad_fn=<AddmmBackward>)\n",
      "tensor(0.4996, grad_fn=<MseLossBackward>)\n"
     ]
    },
    {
     "name": "stderr",
     "output_type": "stream",
     "text": [
      "INFO:root:Training 58/286 done\n"
     ]
    },
    {
     "name": "stdout",
     "output_type": "stream",
     "text": [
      "tensor([[0., 1.]])\n",
      "tensor([[0.0251, 0.1565]], grad_fn=<AddmmBackward>)\n",
      "tensor(0.3560, grad_fn=<MseLossBackward>)\n"
     ]
    },
    {
     "name": "stderr",
     "output_type": "stream",
     "text": [
      "INFO:root:Training 59/286 done\n"
     ]
    },
    {
     "name": "stdout",
     "output_type": "stream",
     "text": [
      "tensor([[1., 0.]])\n",
      "tensor([[0.0122, 0.1372]], grad_fn=<AddmmBackward>)\n",
      "tensor(0.4973, grad_fn=<MseLossBackward>)\n"
     ]
    },
    {
     "name": "stderr",
     "output_type": "stream",
     "text": [
      "INFO:root:Training 60/286 done\n"
     ]
    },
    {
     "name": "stdout",
     "output_type": "stream",
     "text": [
      "tensor([[0., 1.]])\n",
      "tensor([[0.0126, 0.1482]], grad_fn=<AddmmBackward>)\n",
      "tensor(0.3629, grad_fn=<MseLossBackward>)\n"
     ]
    },
    {
     "name": "stderr",
     "output_type": "stream",
     "text": [
      "INFO:root:Training 61/286 done\n"
     ]
    },
    {
     "name": "stdout",
     "output_type": "stream",
     "text": [
      "tensor([[1., 0.]])\n",
      "tensor([[0.0096, 0.1387]], grad_fn=<AddmmBackward>)\n",
      "tensor(0.5001, grad_fn=<MseLossBackward>)\n"
     ]
    },
    {
     "name": "stderr",
     "output_type": "stream",
     "text": [
      "INFO:root:Training 62/286 done\n"
     ]
    },
    {
     "name": "stdout",
     "output_type": "stream",
     "text": [
      "tensor([[0., 1.]])\n",
      "tensor([[0.0166, 0.1431]], grad_fn=<AddmmBackward>)\n",
      "tensor(0.3673, grad_fn=<MseLossBackward>)\n"
     ]
    },
    {
     "name": "stderr",
     "output_type": "stream",
     "text": [
      "INFO:root:Training 63/286 done\n"
     ]
    },
    {
     "name": "stdout",
     "output_type": "stream",
     "text": [
      "tensor([[1., 0.]])\n",
      "tensor([[0.0063, 0.1340]], grad_fn=<AddmmBackward>)\n",
      "tensor(0.5027, grad_fn=<MseLossBackward>)\n"
     ]
    },
    {
     "name": "stderr",
     "output_type": "stream",
     "text": [
      "INFO:root:Training 64/286 done\n"
     ]
    },
    {
     "name": "stdout",
     "output_type": "stream",
     "text": [
      "tensor([[0., 1.]])\n",
      "tensor([[0.0342, 0.1485]], grad_fn=<AddmmBackward>)\n",
      "tensor(0.3631, grad_fn=<MseLossBackward>)\n"
     ]
    },
    {
     "name": "stderr",
     "output_type": "stream",
     "text": [
      "INFO:root:Training 65/286 done\n"
     ]
    },
    {
     "name": "stdout",
     "output_type": "stream",
     "text": [
      "tensor([[1., 0.]])\n",
      "tensor([[0.0362, 0.1451]], grad_fn=<AddmmBackward>)\n",
      "tensor(0.4750, grad_fn=<MseLossBackward>)\n"
     ]
    },
    {
     "name": "stderr",
     "output_type": "stream",
     "text": [
      "INFO:root:Training 66/286 done\n"
     ]
    },
    {
     "name": "stdout",
     "output_type": "stream",
     "text": [
      "tensor([[0., 1.]])\n",
      "tensor([[0.0385, 0.1668]], grad_fn=<AddmmBackward>)\n",
      "tensor(0.3478, grad_fn=<MseLossBackward>)\n"
     ]
    },
    {
     "name": "stderr",
     "output_type": "stream",
     "text": [
      "INFO:root:Training 67/286 done\n"
     ]
    },
    {
     "name": "stdout",
     "output_type": "stream",
     "text": [
      "tensor([[1., 0.]])\n",
      "tensor([[0.0258, 0.1430]], grad_fn=<AddmmBackward>)\n",
      "tensor(0.4847, grad_fn=<MseLossBackward>)\n"
     ]
    },
    {
     "name": "stderr",
     "output_type": "stream",
     "text": [
      "INFO:root:Training 68/286 done\n"
     ]
    },
    {
     "name": "stdout",
     "output_type": "stream",
     "text": [
      "tensor([[0., 1.]])\n",
      "tensor([[0.0538, 0.1670]], grad_fn=<AddmmBackward>)\n",
      "tensor(0.3484, grad_fn=<MseLossBackward>)\n"
     ]
    },
    {
     "name": "stderr",
     "output_type": "stream",
     "text": [
      "INFO:root:Training 69/286 done\n"
     ]
    },
    {
     "name": "stdout",
     "output_type": "stream",
     "text": [
      "tensor([[1., 0.]])\n",
      "tensor([[0.0524, 0.1436]], grad_fn=<AddmmBackward>)\n",
      "tensor(0.4593, grad_fn=<MseLossBackward>)\n"
     ]
    },
    {
     "name": "stderr",
     "output_type": "stream",
     "text": [
      "INFO:root:Training 70/286 done\n"
     ]
    },
    {
     "name": "stdout",
     "output_type": "stream",
     "text": [
      "tensor([[0., 1.]])\n",
      "tensor([[0.0465, 0.1579]], grad_fn=<AddmmBackward>)\n",
      "tensor(0.3557, grad_fn=<MseLossBackward>)\n"
     ]
    },
    {
     "name": "stderr",
     "output_type": "stream",
     "text": [
      "INFO:root:Training 71/286 done\n"
     ]
    },
    {
     "name": "stdout",
     "output_type": "stream",
     "text": [
      "tensor([[1., 0.]])\n",
      "tensor([[0.0640, 0.1506]], grad_fn=<AddmmBackward>)\n",
      "tensor(0.4494, grad_fn=<MseLossBackward>)\n"
     ]
    },
    {
     "name": "stderr",
     "output_type": "stream",
     "text": [
      "INFO:root:Training 72/286 done\n"
     ]
    },
    {
     "name": "stdout",
     "output_type": "stream",
     "text": [
      "tensor([[0., 1.]])\n",
      "tensor([[0.0641, 0.1812]], grad_fn=<AddmmBackward>)\n",
      "tensor(0.3373, grad_fn=<MseLossBackward>)\n"
     ]
    },
    {
     "name": "stderr",
     "output_type": "stream",
     "text": [
      "INFO:root:Training 73/286 done\n"
     ]
    },
    {
     "name": "stdout",
     "output_type": "stream",
     "text": [
      "tensor([[1., 0.]])\n",
      "tensor([[0.0468, 0.1632]], grad_fn=<AddmmBackward>)\n",
      "tensor(0.4676, grad_fn=<MseLossBackward>)\n"
     ]
    },
    {
     "name": "stderr",
     "output_type": "stream",
     "text": [
      "INFO:root:Training 74/286 done\n"
     ]
    },
    {
     "name": "stdout",
     "output_type": "stream",
     "text": [
      "tensor([[0., 1.]])\n",
      "tensor([[0.0920, 0.1848]], grad_fn=<AddmmBackward>)\n",
      "tensor(0.3365, grad_fn=<MseLossBackward>)\n"
     ]
    },
    {
     "name": "stderr",
     "output_type": "stream",
     "text": [
      "INFO:root:Training 75/286 done\n"
     ]
    },
    {
     "name": "stdout",
     "output_type": "stream",
     "text": [
      "tensor([[1., 0.]])\n",
      "tensor([[0.0866, 0.1887]], grad_fn=<AddmmBackward>)\n",
      "tensor(0.4350, grad_fn=<MseLossBackward>)\n"
     ]
    },
    {
     "name": "stderr",
     "output_type": "stream",
     "text": [
      "INFO:root:Training 76/286 done\n"
     ]
    },
    {
     "name": "stdout",
     "output_type": "stream",
     "text": [
      "tensor([[0., 1.]])\n",
      "tensor([[0.0908, 0.1961]], grad_fn=<AddmmBackward>)\n",
      "tensor(0.3272, grad_fn=<MseLossBackward>)\n"
     ]
    },
    {
     "name": "stderr",
     "output_type": "stream",
     "text": [
      "INFO:root:Training 77/286 done\n"
     ]
    },
    {
     "name": "stdout",
     "output_type": "stream",
     "text": [
      "tensor([[1., 0.]])\n",
      "tensor([[0.0635, 0.1626]], grad_fn=<AddmmBackward>)\n",
      "tensor(0.4517, grad_fn=<MseLossBackward>)\n"
     ]
    },
    {
     "name": "stderr",
     "output_type": "stream",
     "text": [
      "INFO:root:Training 78/286 done\n"
     ]
    },
    {
     "name": "stdout",
     "output_type": "stream",
     "text": [
      "tensor([[0., 1.]])\n",
      "tensor([[0.0743, 0.1882]], grad_fn=<AddmmBackward>)\n",
      "tensor(0.3323, grad_fn=<MseLossBackward>)\n"
     ]
    },
    {
     "name": "stderr",
     "output_type": "stream",
     "text": [
      "INFO:root:Training 79/286 done\n"
     ]
    },
    {
     "name": "stdout",
     "output_type": "stream",
     "text": [
      "tensor([[1., 0.]])\n",
      "tensor([[0.0820, 0.1642]], grad_fn=<AddmmBackward>)\n",
      "tensor(0.4349, grad_fn=<MseLossBackward>)\n"
     ]
    },
    {
     "name": "stderr",
     "output_type": "stream",
     "text": [
      "INFO:root:Training 80/286 done\n"
     ]
    },
    {
     "name": "stdout",
     "output_type": "stream",
     "text": [
      "tensor([[0., 1.]])\n",
      "tensor([[0.0766, 0.1969]], grad_fn=<AddmmBackward>)\n",
      "tensor(0.3254, grad_fn=<MseLossBackward>)\n"
     ]
    },
    {
     "name": "stderr",
     "output_type": "stream",
     "text": [
      "INFO:root:Training 81/286 done\n"
     ]
    },
    {
     "name": "stdout",
     "output_type": "stream",
     "text": [
      "tensor([[1., 0.]])\n",
      "tensor([[0.1079, 0.1794]], grad_fn=<AddmmBackward>)\n",
      "tensor(0.4140, grad_fn=<MseLossBackward>)\n"
     ]
    },
    {
     "name": "stderr",
     "output_type": "stream",
     "text": [
      "INFO:root:Training 82/286 done\n"
     ]
    },
    {
     "name": "stdout",
     "output_type": "stream",
     "text": [
      "tensor([[0., 1.]])\n",
      "tensor([[0.0940, 0.2375]], grad_fn=<AddmmBackward>)\n",
      "tensor(0.2951, grad_fn=<MseLossBackward>)\n"
     ]
    },
    {
     "name": "stderr",
     "output_type": "stream",
     "text": [
      "INFO:root:Training 83/286 done\n"
     ]
    },
    {
     "name": "stdout",
     "output_type": "stream",
     "text": [
      "tensor([[1., 0.]])\n",
      "tensor([[0.1128, 0.1904]], grad_fn=<AddmmBackward>)\n",
      "tensor(0.4117, grad_fn=<MseLossBackward>)\n"
     ]
    },
    {
     "name": "stderr",
     "output_type": "stream",
     "text": [
      "INFO:root:Training 84/286 done\n"
     ]
    },
    {
     "name": "stdout",
     "output_type": "stream",
     "text": [
      "tensor([[0., 1.]])\n",
      "tensor([[0.0864, 0.2360]], grad_fn=<AddmmBackward>)\n",
      "tensor(0.2956, grad_fn=<MseLossBackward>)\n"
     ]
    },
    {
     "name": "stderr",
     "output_type": "stream",
     "text": [
      "INFO:root:Training 85/286 done\n"
     ]
    },
    {
     "name": "stdout",
     "output_type": "stream",
     "text": [
      "tensor([[1., 0.]])\n",
      "tensor([[0.0739, 0.1771]], grad_fn=<AddmmBackward>)\n",
      "tensor(0.4445, grad_fn=<MseLossBackward>)\n"
     ]
    },
    {
     "name": "stderr",
     "output_type": "stream",
     "text": [
      "INFO:root:Training 86/286 done\n"
     ]
    },
    {
     "name": "stdout",
     "output_type": "stream",
     "text": [
      "tensor([[0., 1.]])\n",
      "tensor([[0.1048, 0.2317]], grad_fn=<AddmmBackward>)\n",
      "tensor(0.3007, grad_fn=<MseLossBackward>)\n"
     ]
    },
    {
     "name": "stderr",
     "output_type": "stream",
     "text": [
      "INFO:root:Training 87/286 done\n"
     ]
    },
    {
     "name": "stdout",
     "output_type": "stream",
     "text": [
      "tensor([[1., 0.]])\n",
      "tensor([[0.0825, 0.1752]], grad_fn=<AddmmBackward>)\n",
      "tensor(0.4363, grad_fn=<MseLossBackward>)\n"
     ]
    },
    {
     "name": "stderr",
     "output_type": "stream",
     "text": [
      "INFO:root:Training 88/286 done\n"
     ]
    },
    {
     "name": "stdout",
     "output_type": "stream",
     "text": [
      "tensor([[0., 1.]])\n",
      "tensor([[0.1125, 0.2268]], grad_fn=<AddmmBackward>)\n",
      "tensor(0.3052, grad_fn=<MseLossBackward>)\n"
     ]
    },
    {
     "name": "stderr",
     "output_type": "stream",
     "text": [
      "INFO:root:Training 89/286 done\n"
     ]
    },
    {
     "name": "stdout",
     "output_type": "stream",
     "text": [
      "tensor([[1., 0.]])\n",
      "tensor([[0.1203, 0.1966]], grad_fn=<AddmmBackward>)\n",
      "tensor(0.4063, grad_fn=<MseLossBackward>)\n"
     ]
    },
    {
     "name": "stderr",
     "output_type": "stream",
     "text": [
      "INFO:root:Training 90/286 done\n"
     ]
    },
    {
     "name": "stdout",
     "output_type": "stream",
     "text": [
      "tensor([[0., 1.]])\n",
      "tensor([[0.1080, 0.2101]], grad_fn=<AddmmBackward>)\n",
      "tensor(0.3178, grad_fn=<MseLossBackward>)\n"
     ]
    },
    {
     "name": "stderr",
     "output_type": "stream",
     "text": [
      "INFO:root:Training 91/286 done\n"
     ]
    },
    {
     "name": "stdout",
     "output_type": "stream",
     "text": [
      "tensor([[1., 0.]])\n",
      "tensor([[0.1164, 0.1928]], grad_fn=<AddmmBackward>)\n",
      "tensor(0.4090, grad_fn=<MseLossBackward>)\n"
     ]
    },
    {
     "name": "stderr",
     "output_type": "stream",
     "text": [
      "INFO:root:Training 92/286 done\n"
     ]
    },
    {
     "name": "stdout",
     "output_type": "stream",
     "text": [
      "tensor([[0., 1.]])\n",
      "tensor([[0.1112, 0.2296]], grad_fn=<AddmmBackward>)\n",
      "tensor(0.3029, grad_fn=<MseLossBackward>)\n"
     ]
    },
    {
     "name": "stderr",
     "output_type": "stream",
     "text": [
      "INFO:root:Training 93/286 done\n"
     ]
    },
    {
     "name": "stdout",
     "output_type": "stream",
     "text": [
      "tensor([[1., 0.]])\n",
      "tensor([[0.0616, 0.1790]], grad_fn=<AddmmBackward>)\n",
      "tensor(0.4563, grad_fn=<MseLossBackward>)\n"
     ]
    },
    {
     "name": "stderr",
     "output_type": "stream",
     "text": [
      "INFO:root:Training 94/286 done\n"
     ]
    },
    {
     "name": "stdout",
     "output_type": "stream",
     "text": [
      "tensor([[0., 1.]])\n",
      "tensor([[0.0913, 0.2189]], grad_fn=<AddmmBackward>)\n",
      "tensor(0.3092, grad_fn=<MseLossBackward>)\n"
     ]
    },
    {
     "name": "stderr",
     "output_type": "stream",
     "text": [
      "INFO:root:Training 95/286 done\n"
     ]
    },
    {
     "name": "stdout",
     "output_type": "stream",
     "text": [
      "tensor([[1., 0.]])\n",
      "tensor([[0.1104, 0.1826]], grad_fn=<AddmmBackward>)\n",
      "tensor(0.4124, grad_fn=<MseLossBackward>)\n"
     ]
    },
    {
     "name": "stderr",
     "output_type": "stream",
     "text": [
      "INFO:root:Training 96/286 done\n"
     ]
    },
    {
     "name": "stdout",
     "output_type": "stream",
     "text": [
      "tensor([[0., 1.]])\n",
      "tensor([[0.1108, 0.2564]], grad_fn=<AddmmBackward>)\n",
      "tensor(0.2826, grad_fn=<MseLossBackward>)\n"
     ]
    },
    {
     "name": "stderr",
     "output_type": "stream",
     "text": [
      "INFO:root:Training 97/286 done\n"
     ]
    },
    {
     "name": "stdout",
     "output_type": "stream",
     "text": [
      "tensor([[1., 0.]])\n",
      "tensor([[0.1403, 0.2212]], grad_fn=<AddmmBackward>)\n",
      "tensor(0.3940, grad_fn=<MseLossBackward>)\n"
     ]
    },
    {
     "name": "stderr",
     "output_type": "stream",
     "text": [
      "INFO:root:Training 98/286 done\n"
     ]
    },
    {
     "name": "stdout",
     "output_type": "stream",
     "text": [
      "tensor([[0., 1.]])\n",
      "tensor([[0.0818, 0.2383]], grad_fn=<AddmmBackward>)\n",
      "tensor(0.2934, grad_fn=<MseLossBackward>)\n"
     ]
    },
    {
     "name": "stderr",
     "output_type": "stream",
     "text": [
      "INFO:root:Training 99/286 done\n"
     ]
    },
    {
     "name": "stdout",
     "output_type": "stream",
     "text": [
      "tensor([[1., 0.]])\n",
      "tensor([[0.1008, 0.2174]], grad_fn=<AddmmBackward>)\n",
      "tensor(0.4279, grad_fn=<MseLossBackward>)\n"
     ]
    },
    {
     "name": "stderr",
     "output_type": "stream",
     "text": [
      "INFO:root:Training 100/286 done\n"
     ]
    },
    {
     "name": "stdout",
     "output_type": "stream",
     "text": [
      "tensor([[0., 1.]])\n",
      "tensor([[0.0626, 0.1903]], grad_fn=<AddmmBackward>)\n",
      "tensor(0.3298, grad_fn=<MseLossBackward>)\n"
     ]
    },
    {
     "name": "stderr",
     "output_type": "stream",
     "text": [
      "INFO:root:Training 101/286 done\n"
     ]
    },
    {
     "name": "stdout",
     "output_type": "stream",
     "text": [
      "tensor([[1., 0.]])\n",
      "tensor([[0.1300, 0.2321]], grad_fn=<AddmmBackward>)\n",
      "tensor(0.4054, grad_fn=<MseLossBackward>)\n"
     ]
    },
    {
     "name": "stderr",
     "output_type": "stream",
     "text": [
      "INFO:root:Training 102/286 done\n"
     ]
    },
    {
     "name": "stdout",
     "output_type": "stream",
     "text": [
      "tensor([[0., 1.]])\n",
      "tensor([[0.1278, 0.2252]], grad_fn=<AddmmBackward>)\n",
      "tensor(0.3083, grad_fn=<MseLossBackward>)\n"
     ]
    },
    {
     "name": "stderr",
     "output_type": "stream",
     "text": [
      "INFO:root:Training 103/286 done\n"
     ]
    },
    {
     "name": "stdout",
     "output_type": "stream",
     "text": [
      "tensor([[1., 0.]])\n",
      "tensor([[0.1487, 0.2298]], grad_fn=<AddmmBackward>)\n",
      "tensor(0.3887, grad_fn=<MseLossBackward>)\n"
     ]
    },
    {
     "name": "stderr",
     "output_type": "stream",
     "text": [
      "INFO:root:Training 104/286 done\n"
     ]
    },
    {
     "name": "stdout",
     "output_type": "stream",
     "text": [
      "tensor([[0., 1.]])\n",
      "tensor([[0.1232, 0.2619]], grad_fn=<AddmmBackward>)\n",
      "tensor(0.2800, grad_fn=<MseLossBackward>)\n"
     ]
    },
    {
     "name": "stderr",
     "output_type": "stream",
     "text": [
      "INFO:root:Training 105/286 done\n"
     ]
    },
    {
     "name": "stdout",
     "output_type": "stream",
     "text": [
      "tensor([[1., 0.]])\n",
      "tensor([[0.1450, 0.2198]], grad_fn=<AddmmBackward>)\n",
      "tensor(0.3896, grad_fn=<MseLossBackward>)\n"
     ]
    },
    {
     "name": "stderr",
     "output_type": "stream",
     "text": [
      "INFO:root:Training 106/286 done\n"
     ]
    },
    {
     "name": "stdout",
     "output_type": "stream",
     "text": [
      "tensor([[0., 1.]])\n",
      "tensor([[0.1595, 0.3009]], grad_fn=<AddmmBackward>)\n",
      "tensor(0.2571, grad_fn=<MseLossBackward>)\n"
     ]
    },
    {
     "name": "stderr",
     "output_type": "stream",
     "text": [
      "INFO:root:Training 107/286 done\n"
     ]
    },
    {
     "name": "stdout",
     "output_type": "stream",
     "text": [
      "tensor([[1., 0.]])\n",
      "tensor([[0.1407, 0.2231]], grad_fn=<AddmmBackward>)\n",
      "tensor(0.3941, grad_fn=<MseLossBackward>)\n"
     ]
    },
    {
     "name": "stderr",
     "output_type": "stream",
     "text": [
      "INFO:root:Training 108/286 done\n"
     ]
    },
    {
     "name": "stdout",
     "output_type": "stream",
     "text": [
      "tensor([[0., 1.]])\n",
      "tensor([[0.1466, 0.2823]], grad_fn=<AddmmBackward>)\n",
      "tensor(0.2683, grad_fn=<MseLossBackward>)\n"
     ]
    },
    {
     "name": "stderr",
     "output_type": "stream",
     "text": [
      "INFO:root:Training 109/286 done\n"
     ]
    },
    {
     "name": "stdout",
     "output_type": "stream",
     "text": [
      "tensor([[1., 0.]])\n",
      "tensor([[0.1463, 0.2257]], grad_fn=<AddmmBackward>)\n",
      "tensor(0.3899, grad_fn=<MseLossBackward>)\n"
     ]
    },
    {
     "name": "stderr",
     "output_type": "stream",
     "text": [
      "INFO:root:Training 110/286 done\n"
     ]
    },
    {
     "name": "stdout",
     "output_type": "stream",
     "text": [
      "tensor([[0., 1.]])\n",
      "tensor([[0.1919, 0.2965]], grad_fn=<AddmmBackward>)\n",
      "tensor(0.2659, grad_fn=<MseLossBackward>)\n"
     ]
    },
    {
     "name": "stderr",
     "output_type": "stream",
     "text": [
      "INFO:root:Training 111/286 done\n"
     ]
    },
    {
     "name": "stdout",
     "output_type": "stream",
     "text": [
      "tensor([[1., 0.]])\n",
      "tensor([[0.1348, 0.2261]], grad_fn=<AddmmBackward>)\n",
      "tensor(0.3998, grad_fn=<MseLossBackward>)\n"
     ]
    },
    {
     "name": "stderr",
     "output_type": "stream",
     "text": [
      "INFO:root:Training 112/286 done\n"
     ]
    },
    {
     "name": "stdout",
     "output_type": "stream",
     "text": [
      "tensor([[0., 1.]])\n",
      "tensor([[0.1448, 0.2721]], grad_fn=<AddmmBackward>)\n",
      "tensor(0.2754, grad_fn=<MseLossBackward>)\n"
     ]
    },
    {
     "name": "stderr",
     "output_type": "stream",
     "text": [
      "INFO:root:Training 113/286 done\n"
     ]
    },
    {
     "name": "stdout",
     "output_type": "stream",
     "text": [
      "tensor([[1., 0.]])\n",
      "tensor([[0.1475, 0.2221]], grad_fn=<AddmmBackward>)\n",
      "tensor(0.3880, grad_fn=<MseLossBackward>)\n"
     ]
    },
    {
     "name": "stderr",
     "output_type": "stream",
     "text": [
      "INFO:root:Training 114/286 done\n"
     ]
    },
    {
     "name": "stdout",
     "output_type": "stream",
     "text": [
      "tensor([[0., 1.]])\n",
      "tensor([[0.1425, 0.2877]], grad_fn=<AddmmBackward>)\n",
      "tensor(0.2638, grad_fn=<MseLossBackward>)\n"
     ]
    },
    {
     "name": "stderr",
     "output_type": "stream",
     "text": [
      "INFO:root:Training 115/286 done\n"
     ]
    },
    {
     "name": "stdout",
     "output_type": "stream",
     "text": [
      "tensor([[1., 0.]])\n",
      "tensor([[0.1658, 0.2358]], grad_fn=<AddmmBackward>)\n",
      "tensor(0.3757, grad_fn=<MseLossBackward>)\n"
     ]
    },
    {
     "name": "stderr",
     "output_type": "stream",
     "text": [
      "INFO:root:Training 116/286 done\n"
     ]
    },
    {
     "name": "stdout",
     "output_type": "stream",
     "text": [
      "tensor([[0., 1.]])\n",
      "tensor([[0.1563, 0.3301]], grad_fn=<AddmmBackward>)\n",
      "tensor(0.2366, grad_fn=<MseLossBackward>)\n"
     ]
    },
    {
     "name": "stderr",
     "output_type": "stream",
     "text": [
      "INFO:root:Training 117/286 done\n"
     ]
    },
    {
     "name": "stdout",
     "output_type": "stream",
     "text": [
      "tensor([[1., 0.]])\n",
      "tensor([[0.1529, 0.2357]], grad_fn=<AddmmBackward>)\n",
      "tensor(0.3866, grad_fn=<MseLossBackward>)\n"
     ]
    },
    {
     "name": "stderr",
     "output_type": "stream",
     "text": [
      "INFO:root:Training 118/286 done\n"
     ]
    },
    {
     "name": "stdout",
     "output_type": "stream",
     "text": [
      "tensor([[0., 1.]])\n",
      "tensor([[0.1800, 0.3247]], grad_fn=<AddmmBackward>)\n",
      "tensor(0.2442, grad_fn=<MseLossBackward>)\n"
     ]
    },
    {
     "name": "stderr",
     "output_type": "stream",
     "text": [
      "INFO:root:Training 119/286 done\n"
     ]
    },
    {
     "name": "stdout",
     "output_type": "stream",
     "text": [
      "tensor([[1., 0.]])\n",
      "tensor([[0.1681, 0.2461]], grad_fn=<AddmmBackward>)\n",
      "tensor(0.3763, grad_fn=<MseLossBackward>)\n"
     ]
    },
    {
     "name": "stderr",
     "output_type": "stream",
     "text": [
      "INFO:root:Training 120/286 done\n"
     ]
    },
    {
     "name": "stdout",
     "output_type": "stream",
     "text": [
      "tensor([[0., 1.]])\n",
      "tensor([[0.2246, 0.3925]], grad_fn=<AddmmBackward>)\n",
      "tensor(0.2098, grad_fn=<MseLossBackward>)\n"
     ]
    },
    {
     "name": "stderr",
     "output_type": "stream",
     "text": [
      "INFO:root:Training 121/286 done\n"
     ]
    },
    {
     "name": "stdout",
     "output_type": "stream",
     "text": [
      "tensor([[1., 0.]])\n",
      "tensor([[0.1596, 0.2472]], grad_fn=<AddmmBackward>)\n",
      "tensor(0.3837, grad_fn=<MseLossBackward>)\n"
     ]
    },
    {
     "name": "stderr",
     "output_type": "stream",
     "text": [
      "INFO:root:Training 122/286 done\n"
     ]
    },
    {
     "name": "stdout",
     "output_type": "stream",
     "text": [
      "tensor([[0., 1.]])\n",
      "tensor([[0.1911, 0.3367]], grad_fn=<AddmmBackward>)\n",
      "tensor(0.2382, grad_fn=<MseLossBackward>)\n"
     ]
    },
    {
     "name": "stderr",
     "output_type": "stream",
     "text": [
      "INFO:root:Training 123/286 done\n"
     ]
    },
    {
     "name": "stdout",
     "output_type": "stream",
     "text": [
      "tensor([[1., 0.]])\n",
      "tensor([[0.1610, 0.2325]], grad_fn=<AddmmBackward>)\n",
      "tensor(0.3790, grad_fn=<MseLossBackward>)\n"
     ]
    },
    {
     "name": "stderr",
     "output_type": "stream",
     "text": [
      "INFO:root:Training 124/286 done\n"
     ]
    },
    {
     "name": "stdout",
     "output_type": "stream",
     "text": [
      "tensor([[0., 1.]])\n",
      "tensor([[0.1536, 0.2948]], grad_fn=<AddmmBackward>)\n",
      "tensor(0.2605, grad_fn=<MseLossBackward>)\n"
     ]
    },
    {
     "name": "stderr",
     "output_type": "stream",
     "text": [
      "INFO:root:Training 125/286 done\n"
     ]
    },
    {
     "name": "stdout",
     "output_type": "stream",
     "text": [
      "tensor([[1., 0.]])\n",
      "tensor([[0.1968, 0.2567]], grad_fn=<AddmmBackward>)\n",
      "tensor(0.3555, grad_fn=<MseLossBackward>)\n"
     ]
    },
    {
     "name": "stderr",
     "output_type": "stream",
     "text": [
      "INFO:root:Training 126/286 done\n"
     ]
    },
    {
     "name": "stdout",
     "output_type": "stream",
     "text": [
      "tensor([[0., 1.]])\n",
      "tensor([[0.1894, 0.3520]], grad_fn=<AddmmBackward>)\n",
      "tensor(0.2279, grad_fn=<MseLossBackward>)\n"
     ]
    },
    {
     "name": "stderr",
     "output_type": "stream",
     "text": [
      "INFO:root:Training 127/286 done\n"
     ]
    },
    {
     "name": "stdout",
     "output_type": "stream",
     "text": [
      "tensor([[1., 0.]])\n",
      "tensor([[0.1694, 0.2489]], grad_fn=<AddmmBackward>)\n",
      "tensor(0.3759, grad_fn=<MseLossBackward>)\n"
     ]
    },
    {
     "name": "stderr",
     "output_type": "stream",
     "text": [
      "INFO:root:Training 128/286 done\n"
     ]
    },
    {
     "name": "stdout",
     "output_type": "stream",
     "text": [
      "tensor([[0., 1.]])\n",
      "tensor([[0.2024, 0.3949]], grad_fn=<AddmmBackward>)\n",
      "tensor(0.2035, grad_fn=<MseLossBackward>)\n"
     ]
    },
    {
     "name": "stderr",
     "output_type": "stream",
     "text": [
      "INFO:root:Training 129/286 done\n"
     ]
    },
    {
     "name": "stdout",
     "output_type": "stream",
     "text": [
      "tensor([[1., 0.]])\n",
      "tensor([[0.2136, 0.2894]], grad_fn=<AddmmBackward>)\n",
      "tensor(0.3511, grad_fn=<MseLossBackward>)\n"
     ]
    },
    {
     "name": "stderr",
     "output_type": "stream",
     "text": [
      "INFO:root:Training 130/286 done\n"
     ]
    },
    {
     "name": "stdout",
     "output_type": "stream",
     "text": [
      "tensor([[0., 1.]])\n",
      "tensor([[0.1933, 0.3735]], grad_fn=<AddmmBackward>)\n",
      "tensor(0.2149, grad_fn=<MseLossBackward>)\n"
     ]
    },
    {
     "name": "stderr",
     "output_type": "stream",
     "text": [
      "INFO:root:Training 131/286 done\n"
     ]
    },
    {
     "name": "stdout",
     "output_type": "stream",
     "text": [
      "tensor([[1., 0.]])\n",
      "tensor([[0.2204, 0.2867]], grad_fn=<AddmmBackward>)\n",
      "tensor(0.3450, grad_fn=<MseLossBackward>)\n"
     ]
    },
    {
     "name": "stderr",
     "output_type": "stream",
     "text": [
      "INFO:root:Training 132/286 done\n"
     ]
    },
    {
     "name": "stdout",
     "output_type": "stream",
     "text": [
      "tensor([[0., 1.]])\n",
      "tensor([[0.2370, 0.4186]], grad_fn=<AddmmBackward>)\n",
      "tensor(0.1971, grad_fn=<MseLossBackward>)\n"
     ]
    },
    {
     "name": "stderr",
     "output_type": "stream",
     "text": [
      "INFO:root:Training 133/286 done\n"
     ]
    },
    {
     "name": "stdout",
     "output_type": "stream",
     "text": [
      "tensor([[1., 0.]])\n",
      "tensor([[0.2319, 0.2880]], grad_fn=<AddmmBackward>)\n",
      "tensor(0.3365, grad_fn=<MseLossBackward>)\n"
     ]
    },
    {
     "name": "stderr",
     "output_type": "stream",
     "text": [
      "INFO:root:Training 134/286 done\n"
     ]
    },
    {
     "name": "stdout",
     "output_type": "stream",
     "text": [
      "tensor([[0., 1.]])\n",
      "tensor([[0.1895, 0.3381]], grad_fn=<AddmmBackward>)\n",
      "tensor(0.2370, grad_fn=<MseLossBackward>)\n"
     ]
    },
    {
     "name": "stderr",
     "output_type": "stream",
     "text": [
      "INFO:root:Training 135/286 done\n"
     ]
    },
    {
     "name": "stdout",
     "output_type": "stream",
     "text": [
      "tensor([[1., 0.]])\n",
      "tensor([[0.2315, 0.3179]], grad_fn=<AddmmBackward>)\n",
      "tensor(0.3458, grad_fn=<MseLossBackward>)\n"
     ]
    },
    {
     "name": "stderr",
     "output_type": "stream",
     "text": [
      "INFO:root:Training 136/286 done\n"
     ]
    },
    {
     "name": "stdout",
     "output_type": "stream",
     "text": [
      "tensor([[0., 1.]])\n",
      "tensor([[0.1662, 0.3528]], grad_fn=<AddmmBackward>)\n",
      "tensor(0.2232, grad_fn=<MseLossBackward>)\n"
     ]
    },
    {
     "name": "stderr",
     "output_type": "stream",
     "text": [
      "INFO:root:Training 137/286 done\n"
     ]
    },
    {
     "name": "stdout",
     "output_type": "stream",
     "text": [
      "tensor([[1., 0.]])\n",
      "tensor([[0.2713, 0.3367]], grad_fn=<AddmmBackward>)\n",
      "tensor(0.3222, grad_fn=<MseLossBackward>)\n"
     ]
    },
    {
     "name": "stderr",
     "output_type": "stream",
     "text": [
      "INFO:root:Training 138/286 done\n"
     ]
    },
    {
     "name": "stdout",
     "output_type": "stream",
     "text": [
      "tensor([[0., 1.]])\n",
      "tensor([[0.1784, 0.4079]], grad_fn=<AddmmBackward>)\n",
      "tensor(0.1912, grad_fn=<MseLossBackward>)\n"
     ]
    },
    {
     "name": "stderr",
     "output_type": "stream",
     "text": [
      "INFO:root:Training 139/286 done\n"
     ]
    },
    {
     "name": "stdout",
     "output_type": "stream",
     "text": [
      "tensor([[1., 0.]])\n",
      "tensor([[0.2711, 0.3147]], grad_fn=<AddmmBackward>)\n",
      "tensor(0.3152, grad_fn=<MseLossBackward>)\n"
     ]
    },
    {
     "name": "stderr",
     "output_type": "stream",
     "text": [
      "INFO:root:Training 140/286 done\n"
     ]
    },
    {
     "name": "stdout",
     "output_type": "stream",
     "text": [
      "tensor([[0., 1.]])\n",
      "tensor([[0.2374, 0.3962]], grad_fn=<AddmmBackward>)\n",
      "tensor(0.2105, grad_fn=<MseLossBackward>)\n"
     ]
    },
    {
     "name": "stderr",
     "output_type": "stream",
     "text": [
      "INFO:root:Training 141/286 done\n"
     ]
    },
    {
     "name": "stdout",
     "output_type": "stream",
     "text": [
      "tensor([[1., 0.]])\n",
      "tensor([[0.1911, 0.2680]], grad_fn=<AddmmBackward>)\n",
      "tensor(0.3630, grad_fn=<MseLossBackward>)\n"
     ]
    },
    {
     "name": "stderr",
     "output_type": "stream",
     "text": [
      "INFO:root:Training 142/286 done\n"
     ]
    },
    {
     "name": "stdout",
     "output_type": "stream",
     "text": [
      "tensor([[0., 1.]])\n",
      "tensor([[0.2647, 0.4115]], grad_fn=<AddmmBackward>)\n",
      "tensor(0.2082, grad_fn=<MseLossBackward>)\n"
     ]
    },
    {
     "name": "stderr",
     "output_type": "stream",
     "text": [
      "INFO:root:Training 143/286 done\n"
     ]
    },
    {
     "name": "stdout",
     "output_type": "stream",
     "text": [
      "tensor([[1., 0.]])\n",
      "tensor([[0.1148, 0.2460]], grad_fn=<AddmmBackward>)\n",
      "tensor(0.4221, grad_fn=<MseLossBackward>)\n"
     ]
    },
    {
     "name": "stderr",
     "output_type": "stream",
     "text": [
      "INFO:root:Training 144/286 done\n"
     ]
    },
    {
     "name": "stdout",
     "output_type": "stream",
     "text": [
      "tensor([[0., 1.]])\n",
      "tensor([[0.2394, 0.3618]], grad_fn=<AddmmBackward>)\n",
      "tensor(0.2323, grad_fn=<MseLossBackward>)\n"
     ]
    },
    {
     "name": "stderr",
     "output_type": "stream",
     "text": [
      "INFO:root:Training 145/286 done\n"
     ]
    },
    {
     "name": "stdout",
     "output_type": "stream",
     "text": [
      "tensor([[1., 0.]])\n",
      "tensor([[0.2647, 0.3127]], grad_fn=<AddmmBackward>)\n",
      "tensor(0.3193, grad_fn=<MseLossBackward>)\n"
     ]
    },
    {
     "name": "stderr",
     "output_type": "stream",
     "text": [
      "INFO:root:Training 146/286 done\n"
     ]
    },
    {
     "name": "stdout",
     "output_type": "stream",
     "text": [
      "tensor([[0., 1.]])\n",
      "tensor([[0.2077, 0.4071]], grad_fn=<AddmmBackward>)\n",
      "tensor(0.1974, grad_fn=<MseLossBackward>)\n"
     ]
    },
    {
     "name": "stderr",
     "output_type": "stream",
     "text": [
      "INFO:root:Training 147/286 done\n"
     ]
    },
    {
     "name": "stdout",
     "output_type": "stream",
     "text": [
      "tensor([[1., 0.]])\n",
      "tensor([[0.3007, 0.3205]], grad_fn=<AddmmBackward>)\n",
      "tensor(0.2959, grad_fn=<MseLossBackward>)\n"
     ]
    },
    {
     "name": "stderr",
     "output_type": "stream",
     "text": [
      "INFO:root:Training 148/286 done\n"
     ]
    },
    {
     "name": "stdout",
     "output_type": "stream",
     "text": [
      "tensor([[0., 1.]])\n",
      "tensor([[0.2650, 0.5009]], grad_fn=<AddmmBackward>)\n",
      "tensor(0.1597, grad_fn=<MseLossBackward>)\n"
     ]
    },
    {
     "name": "stderr",
     "output_type": "stream",
     "text": [
      "INFO:root:Training 149/286 done\n"
     ]
    },
    {
     "name": "stdout",
     "output_type": "stream",
     "text": [
      "tensor([[1., 0.]])\n",
      "tensor([[0.2610, 0.3177]], grad_fn=<AddmmBackward>)\n",
      "tensor(0.3235, grad_fn=<MseLossBackward>)\n"
     ]
    },
    {
     "name": "stderr",
     "output_type": "stream",
     "text": [
      "INFO:root:Training 150/286 done\n"
     ]
    },
    {
     "name": "stdout",
     "output_type": "stream",
     "text": [
      "tensor([[0., 1.]])\n",
      "tensor([[0.1442, 0.3428]], grad_fn=<AddmmBackward>)\n",
      "tensor(0.2263, grad_fn=<MseLossBackward>)\n"
     ]
    },
    {
     "name": "stderr",
     "output_type": "stream",
     "text": [
      "INFO:root:Training 151/286 done\n"
     ]
    },
    {
     "name": "stdout",
     "output_type": "stream",
     "text": [
      "tensor([[1., 0.]])\n",
      "tensor([[0.2852, 0.3398]], grad_fn=<AddmmBackward>)\n",
      "tensor(0.3132, grad_fn=<MseLossBackward>)\n"
     ]
    },
    {
     "name": "stderr",
     "output_type": "stream",
     "text": [
      "INFO:root:Training 152/286 done\n"
     ]
    },
    {
     "name": "stdout",
     "output_type": "stream",
     "text": [
      "tensor([[0., 1.]])\n",
      "tensor([[0.2225, 0.4784]], grad_fn=<AddmmBackward>)\n",
      "tensor(0.1608, grad_fn=<MseLossBackward>)\n"
     ]
    },
    {
     "name": "stderr",
     "output_type": "stream",
     "text": [
      "INFO:root:Training 153/286 done\n"
     ]
    },
    {
     "name": "stdout",
     "output_type": "stream",
     "text": [
      "tensor([[1., 0.]])\n",
      "tensor([[0.3349, 0.3810]], grad_fn=<AddmmBackward>)\n",
      "tensor(0.2937, grad_fn=<MseLossBackward>)\n"
     ]
    },
    {
     "name": "stderr",
     "output_type": "stream",
     "text": [
      "INFO:root:Training 154/286 done\n"
     ]
    },
    {
     "name": "stdout",
     "output_type": "stream",
     "text": [
      "tensor([[0., 1.]])\n",
      "tensor([[0.3305, 0.6756]], grad_fn=<AddmmBackward>)\n",
      "tensor(0.1072, grad_fn=<MseLossBackward>)\n"
     ]
    },
    {
     "name": "stderr",
     "output_type": "stream",
     "text": [
      "INFO:root:Training 155/286 done\n"
     ]
    },
    {
     "name": "stdout",
     "output_type": "stream",
     "text": [
      "tensor([[1., 0.]])\n",
      "tensor([[0.3358, 0.3459]], grad_fn=<AddmmBackward>)\n",
      "tensor(0.2804, grad_fn=<MseLossBackward>)\n"
     ]
    },
    {
     "name": "stderr",
     "output_type": "stream",
     "text": [
      "INFO:root:Training 156/286 done\n"
     ]
    },
    {
     "name": "stdout",
     "output_type": "stream",
     "text": [
      "tensor([[0., 1.]])\n",
      "tensor([[0.3454, 0.5489]], grad_fn=<AddmmBackward>)\n",
      "tensor(0.1614, grad_fn=<MseLossBackward>)\n"
     ]
    },
    {
     "name": "stderr",
     "output_type": "stream",
     "text": [
      "INFO:root:Training 157/286 done\n"
     ]
    },
    {
     "name": "stdout",
     "output_type": "stream",
     "text": [
      "tensor([[1., 0.]])\n",
      "tensor([[0.2513, 0.3161]], grad_fn=<AddmmBackward>)\n",
      "tensor(0.3302, grad_fn=<MseLossBackward>)\n"
     ]
    },
    {
     "name": "stderr",
     "output_type": "stream",
     "text": [
      "INFO:root:Training 158/286 done\n"
     ]
    },
    {
     "name": "stdout",
     "output_type": "stream",
     "text": [
      "tensor([[0., 1.]])\n",
      "tensor([[0.3166, 0.6094]], grad_fn=<AddmmBackward>)\n",
      "tensor(0.1264, grad_fn=<MseLossBackward>)\n"
     ]
    },
    {
     "name": "stderr",
     "output_type": "stream",
     "text": [
      "INFO:root:Training 159/286 done\n"
     ]
    },
    {
     "name": "stdout",
     "output_type": "stream",
     "text": [
      "tensor([[1., 0.]])\n",
      "tensor([[0.1781, 0.2989]], grad_fn=<AddmmBackward>)\n",
      "tensor(0.3824, grad_fn=<MseLossBackward>)\n"
     ]
    },
    {
     "name": "stderr",
     "output_type": "stream",
     "text": [
      "INFO:root:Training 160/286 done\n"
     ]
    },
    {
     "name": "stdout",
     "output_type": "stream",
     "text": [
      "tensor([[0., 1.]])\n",
      "tensor([[0.2857, 0.6307]], grad_fn=<AddmmBackward>)\n",
      "tensor(0.1090, grad_fn=<MseLossBackward>)\n"
     ]
    },
    {
     "name": "stderr",
     "output_type": "stream",
     "text": [
      "INFO:root:Training 161/286 done\n"
     ]
    },
    {
     "name": "stdout",
     "output_type": "stream",
     "text": [
      "tensor([[1., 0.]])\n",
      "tensor([[0.3443, 0.4607]], grad_fn=<AddmmBackward>)\n",
      "tensor(0.3211, grad_fn=<MseLossBackward>)\n"
     ]
    },
    {
     "name": "stderr",
     "output_type": "stream",
     "text": [
      "INFO:root:Training 162/286 done\n"
     ]
    },
    {
     "name": "stdout",
     "output_type": "stream",
     "text": [
      "tensor([[0., 1.]])\n",
      "tensor([[0.2475, 0.4495]], grad_fn=<AddmmBackward>)\n",
      "tensor(0.1821, grad_fn=<MseLossBackward>)\n"
     ]
    },
    {
     "name": "stderr",
     "output_type": "stream",
     "text": [
      "INFO:root:Training 163/286 done\n"
     ]
    },
    {
     "name": "stdout",
     "output_type": "stream",
     "text": [
      "tensor([[1., 0.]])\n",
      "tensor([[0.4089, 0.4853]], grad_fn=<AddmmBackward>)\n",
      "tensor(0.2924, grad_fn=<MseLossBackward>)\n"
     ]
    },
    {
     "name": "stderr",
     "output_type": "stream",
     "text": [
      "INFO:root:Training 164/286 done\n"
     ]
    },
    {
     "name": "stdout",
     "output_type": "stream",
     "text": [
      "tensor([[0., 1.]])\n",
      "tensor([[0.3052, 0.4609]], grad_fn=<AddmmBackward>)\n",
      "tensor(0.1919, grad_fn=<MseLossBackward>)\n"
     ]
    },
    {
     "name": "stderr",
     "output_type": "stream",
     "text": [
      "INFO:root:Training 165/286 done\n"
     ]
    },
    {
     "name": "stdout",
     "output_type": "stream",
     "text": [
      "tensor([[1., 0.]])\n",
      "tensor([[0.3544, 0.3849]], grad_fn=<AddmmBackward>)\n",
      "tensor(0.2825, grad_fn=<MseLossBackward>)\n"
     ]
    },
    {
     "name": "stderr",
     "output_type": "stream",
     "text": [
      "INFO:root:Training 166/286 done\n"
     ]
    },
    {
     "name": "stdout",
     "output_type": "stream",
     "text": [
      "tensor([[0., 1.]])\n",
      "tensor([[0.3084, 0.6051]], grad_fn=<AddmmBackward>)\n",
      "tensor(0.1255, grad_fn=<MseLossBackward>)\n"
     ]
    },
    {
     "name": "stderr",
     "output_type": "stream",
     "text": [
      "INFO:root:Training 167/286 done\n"
     ]
    },
    {
     "name": "stdout",
     "output_type": "stream",
     "text": [
      "tensor([[1., 0.]])\n",
      "tensor([[0.3414, 0.3930]], grad_fn=<AddmmBackward>)\n",
      "tensor(0.2941, grad_fn=<MseLossBackward>)\n"
     ]
    },
    {
     "name": "stderr",
     "output_type": "stream",
     "text": [
      "INFO:root:Training 168/286 done\n"
     ]
    },
    {
     "name": "stdout",
     "output_type": "stream",
     "text": [
      "tensor([[0., 1.]])\n",
      "tensor([[0.3339, 0.6617]], grad_fn=<AddmmBackward>)\n",
      "tensor(0.1129, grad_fn=<MseLossBackward>)\n"
     ]
    },
    {
     "name": "stderr",
     "output_type": "stream",
     "text": [
      "INFO:root:Training 169/286 done\n"
     ]
    },
    {
     "name": "stdout",
     "output_type": "stream",
     "text": [
      "tensor([[1., 0.]])\n",
      "tensor([[0.2116, 0.3372]], grad_fn=<AddmmBackward>)\n",
      "tensor(0.3676, grad_fn=<MseLossBackward>)\n"
     ]
    },
    {
     "name": "stderr",
     "output_type": "stream",
     "text": [
      "INFO:root:Training 170/286 done\n"
     ]
    },
    {
     "name": "stdout",
     "output_type": "stream",
     "text": [
      "tensor([[0., 1.]])\n",
      "tensor([[0.3827, 0.5912]], grad_fn=<AddmmBackward>)\n",
      "tensor(0.1568, grad_fn=<MseLossBackward>)\n"
     ]
    },
    {
     "name": "stderr",
     "output_type": "stream",
     "text": [
      "INFO:root:Training 171/286 done\n"
     ]
    },
    {
     "name": "stdout",
     "output_type": "stream",
     "text": [
      "tensor([[1., 0.]])\n",
      "tensor([[0.2411, 0.3459]], grad_fn=<AddmmBackward>)\n",
      "tensor(0.3478, grad_fn=<MseLossBackward>)\n"
     ]
    },
    {
     "name": "stderr",
     "output_type": "stream",
     "text": [
      "INFO:root:Training 172/286 done\n"
     ]
    },
    {
     "name": "stdout",
     "output_type": "stream",
     "text": [
      "tensor([[0., 1.]])\n",
      "tensor([[0.2789, 0.4540]], grad_fn=<AddmmBackward>)\n",
      "tensor(0.1880, grad_fn=<MseLossBackward>)\n"
     ]
    },
    {
     "name": "stderr",
     "output_type": "stream",
     "text": [
      "INFO:root:Training 173/286 done\n"
     ]
    },
    {
     "name": "stdout",
     "output_type": "stream",
     "text": [
      "tensor([[1., 0.]])\n",
      "tensor([[0.3712, 0.4709]], grad_fn=<AddmmBackward>)\n",
      "tensor(0.3086, grad_fn=<MseLossBackward>)\n"
     ]
    },
    {
     "name": "stderr",
     "output_type": "stream",
     "text": [
      "INFO:root:Training 174/286 done\n"
     ]
    },
    {
     "name": "stdout",
     "output_type": "stream",
     "text": [
      "tensor([[0., 1.]])\n",
      "tensor([[0.1502, 0.2760]], grad_fn=<AddmmBackward>)\n",
      "tensor(0.2734, grad_fn=<MseLossBackward>)\n"
     ]
    },
    {
     "name": "stderr",
     "output_type": "stream",
     "text": [
      "INFO:root:Training 175/286 done\n"
     ]
    },
    {
     "name": "stdout",
     "output_type": "stream",
     "text": [
      "tensor([[1., 0.]])\n",
      "tensor([[0.3517, 0.4093]], grad_fn=<AddmmBackward>)\n",
      "tensor(0.2939, grad_fn=<MseLossBackward>)\n"
     ]
    },
    {
     "name": "stderr",
     "output_type": "stream",
     "text": [
      "INFO:root:Training 176/286 done\n"
     ]
    },
    {
     "name": "stdout",
     "output_type": "stream",
     "text": [
      "tensor([[0., 1.]])\n",
      "tensor([[0.2351, 0.4085]], grad_fn=<AddmmBackward>)\n",
      "tensor(0.2025, grad_fn=<MseLossBackward>)\n"
     ]
    },
    {
     "name": "stderr",
     "output_type": "stream",
     "text": [
      "INFO:root:Training 177/286 done\n"
     ]
    },
    {
     "name": "stdout",
     "output_type": "stream",
     "text": [
      "tensor([[1., 0.]])\n",
      "tensor([[0.3706, 0.3777]], grad_fn=<AddmmBackward>)\n",
      "tensor(0.2694, grad_fn=<MseLossBackward>)\n"
     ]
    },
    {
     "name": "stderr",
     "output_type": "stream",
     "text": [
      "INFO:root:Training 178/286 done\n"
     ]
    },
    {
     "name": "stdout",
     "output_type": "stream",
     "text": [
      "tensor([[0., 1.]])\n",
      "tensor([[0.3152, 0.4786]], grad_fn=<AddmmBackward>)\n",
      "tensor(0.1856, grad_fn=<MseLossBackward>)\n"
     ]
    },
    {
     "name": "stderr",
     "output_type": "stream",
     "text": [
      "INFO:root:Training 179/286 done\n"
     ]
    },
    {
     "name": "stdout",
     "output_type": "stream",
     "text": [
      "tensor([[1., 0.]])\n",
      "tensor([[0.4151, 0.4224]], grad_fn=<AddmmBackward>)\n",
      "tensor(0.2603, grad_fn=<MseLossBackward>)\n"
     ]
    },
    {
     "name": "stderr",
     "output_type": "stream",
     "text": [
      "INFO:root:Training 180/286 done\n"
     ]
    },
    {
     "name": "stdout",
     "output_type": "stream",
     "text": [
      "tensor([[0., 1.]])\n",
      "tensor([[0.3900, 0.4916]], grad_fn=<AddmmBackward>)\n",
      "tensor(0.2053, grad_fn=<MseLossBackward>)\n"
     ]
    },
    {
     "name": "stderr",
     "output_type": "stream",
     "text": [
      "INFO:root:Training 181/286 done\n"
     ]
    },
    {
     "name": "stdout",
     "output_type": "stream",
     "text": [
      "tensor([[1., 0.]])\n",
      "tensor([[0.4225, 0.4584]], grad_fn=<AddmmBackward>)\n",
      "tensor(0.2719, grad_fn=<MseLossBackward>)\n"
     ]
    },
    {
     "name": "stderr",
     "output_type": "stream",
     "text": [
      "INFO:root:Training 182/286 done\n"
     ]
    },
    {
     "name": "stdout",
     "output_type": "stream",
     "text": [
      "tensor([[0., 1.]])\n",
      "tensor([[0.2710, 0.3830]], grad_fn=<AddmmBackward>)\n",
      "tensor(0.2271, grad_fn=<MseLossBackward>)\n"
     ]
    },
    {
     "name": "stderr",
     "output_type": "stream",
     "text": [
      "INFO:root:Training 183/286 done\n"
     ]
    },
    {
     "name": "stdout",
     "output_type": "stream",
     "text": [
      "tensor([[1., 0.]])\n",
      "tensor([[0.3482, 0.3984]], grad_fn=<AddmmBackward>)\n",
      "tensor(0.2918, grad_fn=<MseLossBackward>)\n"
     ]
    },
    {
     "name": "stderr",
     "output_type": "stream",
     "text": [
      "INFO:root:Training 184/286 done\n"
     ]
    },
    {
     "name": "stdout",
     "output_type": "stream",
     "text": [
      "tensor([[0., 1.]])\n",
      "tensor([[0.2752, 0.3806]], grad_fn=<AddmmBackward>)\n",
      "tensor(0.2297, grad_fn=<MseLossBackward>)\n"
     ]
    },
    {
     "name": "stderr",
     "output_type": "stream",
     "text": [
      "INFO:root:Training 185/286 done\n"
     ]
    },
    {
     "name": "stdout",
     "output_type": "stream",
     "text": [
      "tensor([[1., 0.]])\n",
      "tensor([[0.3879, 0.4286]], grad_fn=<AddmmBackward>)\n",
      "tensor(0.2792, grad_fn=<MseLossBackward>)\n"
     ]
    },
    {
     "name": "stderr",
     "output_type": "stream",
     "text": [
      "INFO:root:Training 186/286 done\n"
     ]
    },
    {
     "name": "stdout",
     "output_type": "stream",
     "text": [
      "tensor([[0., 1.]])\n",
      "tensor([[0.3137, 0.4623]], grad_fn=<AddmmBackward>)\n",
      "tensor(0.1938, grad_fn=<MseLossBackward>)\n"
     ]
    },
    {
     "name": "stderr",
     "output_type": "stream",
     "text": [
      "INFO:root:Training 187/286 done\n"
     ]
    },
    {
     "name": "stdout",
     "output_type": "stream",
     "text": [
      "tensor([[1., 0.]])\n",
      "tensor([[0.5017, 0.4279]], grad_fn=<AddmmBackward>)\n",
      "tensor(0.2157, grad_fn=<MseLossBackward>)\n"
     ]
    },
    {
     "name": "stderr",
     "output_type": "stream",
     "text": [
      "INFO:root:Training 188/286 done\n"
     ]
    },
    {
     "name": "stdout",
     "output_type": "stream",
     "text": [
      "tensor([[0., 1.]])\n",
      "tensor([[0.3652, 0.5956]], grad_fn=<AddmmBackward>)\n",
      "tensor(0.1485, grad_fn=<MseLossBackward>)\n"
     ]
    },
    {
     "name": "stderr",
     "output_type": "stream",
     "text": [
      "INFO:root:Training 189/286 done\n"
     ]
    },
    {
     "name": "stdout",
     "output_type": "stream",
     "text": [
      "tensor([[1., 0.]])\n",
      "tensor([[0.4646, 0.4226]], grad_fn=<AddmmBackward>)\n",
      "tensor(0.2326, grad_fn=<MseLossBackward>)\n"
     ]
    },
    {
     "name": "stderr",
     "output_type": "stream",
     "text": [
      "INFO:root:Training 190/286 done\n"
     ]
    },
    {
     "name": "stdout",
     "output_type": "stream",
     "text": [
      "tensor([[0., 1.]])\n",
      "tensor([[0.4364, 0.8683]], grad_fn=<AddmmBackward>)\n",
      "tensor(0.1039, grad_fn=<MseLossBackward>)\n"
     ]
    },
    {
     "name": "stderr",
     "output_type": "stream",
     "text": [
      "INFO:root:Training 191/286 done\n"
     ]
    },
    {
     "name": "stdout",
     "output_type": "stream",
     "text": [
      "tensor([[1., 0.]])\n",
      "tensor([[0.4170, 0.3969]], grad_fn=<AddmmBackward>)\n",
      "tensor(0.2487, grad_fn=<MseLossBackward>)\n"
     ]
    },
    {
     "name": "stderr",
     "output_type": "stream",
     "text": [
      "INFO:root:Training 192/286 done\n"
     ]
    },
    {
     "name": "stdout",
     "output_type": "stream",
     "text": [
      "tensor([[0., 1.]])\n",
      "tensor([[0.3712, 0.8692]], grad_fn=<AddmmBackward>)\n",
      "tensor(0.0774, grad_fn=<MseLossBackward>)\n"
     ]
    },
    {
     "name": "stderr",
     "output_type": "stream",
     "text": [
      "INFO:root:Training 193/286 done\n"
     ]
    },
    {
     "name": "stdout",
     "output_type": "stream",
     "text": [
      "tensor([[1., 0.]])\n",
      "tensor([[0.3855, 0.3890]], grad_fn=<AddmmBackward>)\n",
      "tensor(0.2645, grad_fn=<MseLossBackward>)\n"
     ]
    },
    {
     "name": "stderr",
     "output_type": "stream",
     "text": [
      "INFO:root:Training 194/286 done\n"
     ]
    },
    {
     "name": "stdout",
     "output_type": "stream",
     "text": [
      "tensor([[0., 1.]])\n",
      "tensor([[0.3132, 0.7589]], grad_fn=<AddmmBackward>)\n",
      "tensor(0.0781, grad_fn=<MseLossBackward>)\n"
     ]
    },
    {
     "name": "stderr",
     "output_type": "stream",
     "text": [
      "INFO:root:Training 195/286 done\n"
     ]
    },
    {
     "name": "stdout",
     "output_type": "stream",
     "text": [
      "tensor([[1., 0.]])\n",
      "tensor([[0.4054, 0.4446]], grad_fn=<AddmmBackward>)\n",
      "tensor(0.2756, grad_fn=<MseLossBackward>)\n"
     ]
    },
    {
     "name": "stderr",
     "output_type": "stream",
     "text": [
      "INFO:root:Training 196/286 done\n"
     ]
    },
    {
     "name": "stdout",
     "output_type": "stream",
     "text": [
      "tensor([[0., 1.]])\n",
      "tensor([[0.3541, 0.6551]], grad_fn=<AddmmBackward>)\n",
      "tensor(0.1222, grad_fn=<MseLossBackward>)\n"
     ]
    },
    {
     "name": "stderr",
     "output_type": "stream",
     "text": [
      "INFO:root:Training 197/286 done\n"
     ]
    },
    {
     "name": "stdout",
     "output_type": "stream",
     "text": [
      "tensor([[1., 0.]])\n",
      "tensor([[0.4614, 0.4611]], grad_fn=<AddmmBackward>)\n",
      "tensor(0.2513, grad_fn=<MseLossBackward>)\n"
     ]
    },
    {
     "name": "stderr",
     "output_type": "stream",
     "text": [
      "INFO:root:Training 198/286 done\n"
     ]
    },
    {
     "name": "stdout",
     "output_type": "stream",
     "text": [
      "tensor([[0., 1.]])\n",
      "tensor([[0.3082, 0.4745]], grad_fn=<AddmmBackward>)\n",
      "tensor(0.1856, grad_fn=<MseLossBackward>)\n"
     ]
    },
    {
     "name": "stderr",
     "output_type": "stream",
     "text": [
      "INFO:root:Training 199/286 done\n"
     ]
    },
    {
     "name": "stdout",
     "output_type": "stream",
     "text": [
      "tensor([[1., 0.]])\n",
      "tensor([[0.4010, 0.4542]], grad_fn=<AddmmBackward>)\n",
      "tensor(0.2825, grad_fn=<MseLossBackward>)\n"
     ]
    },
    {
     "name": "stderr",
     "output_type": "stream",
     "text": [
      "INFO:root:Training 200/286 done\n"
     ]
    },
    {
     "name": "stdout",
     "output_type": "stream",
     "text": [
      "tensor([[0., 1.]])\n",
      "tensor([[0.2950, 0.6381]], grad_fn=<AddmmBackward>)\n",
      "tensor(0.1090, grad_fn=<MseLossBackward>)\n"
     ]
    },
    {
     "name": "stderr",
     "output_type": "stream",
     "text": [
      "INFO:root:Training 201/286 done\n"
     ]
    },
    {
     "name": "stdout",
     "output_type": "stream",
     "text": [
      "tensor([[1., 0.]])\n",
      "tensor([[0.4399, 0.3893]], grad_fn=<AddmmBackward>)\n",
      "tensor(0.2326, grad_fn=<MseLossBackward>)\n"
     ]
    },
    {
     "name": "stderr",
     "output_type": "stream",
     "text": [
      "INFO:root:Training 202/286 done\n"
     ]
    },
    {
     "name": "stdout",
     "output_type": "stream",
     "text": [
      "tensor([[0., 1.]])\n",
      "tensor([[0.2429, 0.5828]], grad_fn=<AddmmBackward>)\n",
      "tensor(0.1165, grad_fn=<MseLossBackward>)\n"
     ]
    },
    {
     "name": "stderr",
     "output_type": "stream",
     "text": [
      "INFO:root:Training 203/286 done\n"
     ]
    },
    {
     "name": "stdout",
     "output_type": "stream",
     "text": [
      "tensor([[1., 0.]])\n",
      "tensor([[0.4964, 0.3619]], grad_fn=<AddmmBackward>)\n",
      "tensor(0.1923, grad_fn=<MseLossBackward>)\n"
     ]
    },
    {
     "name": "stderr",
     "output_type": "stream",
     "text": [
      "INFO:root:Training 204/286 done\n"
     ]
    },
    {
     "name": "stdout",
     "output_type": "stream",
     "text": [
      "tensor([[0., 1.]])\n",
      "tensor([[0.3895, 0.5642]], grad_fn=<AddmmBackward>)\n",
      "tensor(0.1708, grad_fn=<MseLossBackward>)\n"
     ]
    },
    {
     "name": "stderr",
     "output_type": "stream",
     "text": [
      "INFO:root:Training 205/286 done\n"
     ]
    },
    {
     "name": "stdout",
     "output_type": "stream",
     "text": [
      "tensor([[1., 0.]])\n",
      "tensor([[0.3329, 0.3154]], grad_fn=<AddmmBackward>)\n",
      "tensor(0.2722, grad_fn=<MseLossBackward>)\n"
     ]
    },
    {
     "name": "stderr",
     "output_type": "stream",
     "text": [
      "INFO:root:Training 206/286 done\n"
     ]
    },
    {
     "name": "stdout",
     "output_type": "stream",
     "text": [
      "tensor([[0., 1.]])\n",
      "tensor([[0.2955, 0.5402]], grad_fn=<AddmmBackward>)\n",
      "tensor(0.1494, grad_fn=<MseLossBackward>)\n"
     ]
    },
    {
     "name": "stderr",
     "output_type": "stream",
     "text": [
      "INFO:root:Training 207/286 done\n"
     ]
    },
    {
     "name": "stdout",
     "output_type": "stream",
     "text": [
      "tensor([[1., 0.]])\n",
      "tensor([[0.3926, 0.3837]], grad_fn=<AddmmBackward>)\n",
      "tensor(0.2581, grad_fn=<MseLossBackward>)\n"
     ]
    },
    {
     "name": "stderr",
     "output_type": "stream",
     "text": [
      "INFO:root:Training 208/286 done\n"
     ]
    },
    {
     "name": "stdout",
     "output_type": "stream",
     "text": [
      "tensor([[0., 1.]])\n",
      "tensor([[0.3060, 0.5694]], grad_fn=<AddmmBackward>)\n",
      "tensor(0.1395, grad_fn=<MseLossBackward>)\n"
     ]
    },
    {
     "name": "stderr",
     "output_type": "stream",
     "text": [
      "INFO:root:Training 209/286 done\n"
     ]
    },
    {
     "name": "stdout",
     "output_type": "stream",
     "text": [
      "tensor([[1., 0.]])\n",
      "tensor([[0.4276, 0.4043]], grad_fn=<AddmmBackward>)\n",
      "tensor(0.2456, grad_fn=<MseLossBackward>)\n"
     ]
    },
    {
     "name": "stderr",
     "output_type": "stream",
     "text": [
      "INFO:root:Training 210/286 done\n"
     ]
    },
    {
     "name": "stdout",
     "output_type": "stream",
     "text": [
      "tensor([[0., 1.]])\n",
      "tensor([[0.3465, 0.7636]], grad_fn=<AddmmBackward>)\n",
      "tensor(0.0880, grad_fn=<MseLossBackward>)\n"
     ]
    },
    {
     "name": "stderr",
     "output_type": "stream",
     "text": [
      "INFO:root:Training 211/286 done\n"
     ]
    },
    {
     "name": "stdout",
     "output_type": "stream",
     "text": [
      "tensor([[1., 0.]])\n",
      "tensor([[0.3665, 0.3922]], grad_fn=<AddmmBackward>)\n",
      "tensor(0.2776, grad_fn=<MseLossBackward>)\n"
     ]
    },
    {
     "name": "stderr",
     "output_type": "stream",
     "text": [
      "INFO:root:Training 212/286 done\n"
     ]
    },
    {
     "name": "stdout",
     "output_type": "stream",
     "text": [
      "tensor([[0., 1.]])\n",
      "tensor([[0.2454, 0.6269]], grad_fn=<AddmmBackward>)\n",
      "tensor(0.0997, grad_fn=<MseLossBackward>)\n"
     ]
    },
    {
     "name": "stderr",
     "output_type": "stream",
     "text": [
      "INFO:root:Training 213/286 done\n"
     ]
    },
    {
     "name": "stdout",
     "output_type": "stream",
     "text": [
      "tensor([[1., 0.]])\n",
      "tensor([[0.4797, 0.4347]], grad_fn=<AddmmBackward>)\n",
      "tensor(0.2298, grad_fn=<MseLossBackward>)\n"
     ]
    },
    {
     "name": "stderr",
     "output_type": "stream",
     "text": [
      "INFO:root:Training 214/286 done\n"
     ]
    },
    {
     "name": "stdout",
     "output_type": "stream",
     "text": [
      "tensor([[0., 1.]])\n",
      "tensor([[0.2827, 0.8418]], grad_fn=<AddmmBackward>)\n",
      "tensor(0.0525, grad_fn=<MseLossBackward>)\n"
     ]
    },
    {
     "name": "stderr",
     "output_type": "stream",
     "text": [
      "INFO:root:Training 215/286 done\n"
     ]
    },
    {
     "name": "stdout",
     "output_type": "stream",
     "text": [
      "tensor([[1., 0.]])\n",
      "tensor([[0.5955, 0.6498]], grad_fn=<AddmmBackward>)\n",
      "tensor(0.2929, grad_fn=<MseLossBackward>)\n"
     ]
    },
    {
     "name": "stderr",
     "output_type": "stream",
     "text": [
      "INFO:root:Training 216/286 done\n"
     ]
    },
    {
     "name": "stdout",
     "output_type": "stream",
     "text": [
      "tensor([[0., 1.]])\n",
      "tensor([[0.3142, 0.8721]], grad_fn=<AddmmBackward>)\n",
      "tensor(0.0575, grad_fn=<MseLossBackward>)\n"
     ]
    },
    {
     "name": "stderr",
     "output_type": "stream",
     "text": [
      "INFO:root:Training 217/286 done\n"
     ]
    },
    {
     "name": "stdout",
     "output_type": "stream",
     "text": [
      "tensor([[1., 0.]])\n",
      "tensor([[0.4770, 0.4554]], grad_fn=<AddmmBackward>)\n",
      "tensor(0.2405, grad_fn=<MseLossBackward>)\n"
     ]
    },
    {
     "name": "stderr",
     "output_type": "stream",
     "text": [
      "INFO:root:Training 218/286 done\n"
     ]
    },
    {
     "name": "stdout",
     "output_type": "stream",
     "text": [
      "tensor([[0., 1.]])\n",
      "tensor([[0.3723, 0.5319]], grad_fn=<AddmmBackward>)\n",
      "tensor(0.1789, grad_fn=<MseLossBackward>)\n"
     ]
    },
    {
     "name": "stderr",
     "output_type": "stream",
     "text": [
      "INFO:root:Training 219/286 done\n"
     ]
    },
    {
     "name": "stdout",
     "output_type": "stream",
     "text": [
      "tensor([[1., 0.]])\n",
      "tensor([[0.5481, 0.4897]], grad_fn=<AddmmBackward>)\n",
      "tensor(0.2220, grad_fn=<MseLossBackward>)\n"
     ]
    },
    {
     "name": "stderr",
     "output_type": "stream",
     "text": [
      "INFO:root:Training 220/286 done\n"
     ]
    },
    {
     "name": "stdout",
     "output_type": "stream",
     "text": [
      "tensor([[0., 1.]])\n",
      "tensor([[0.5290, 0.6701]], grad_fn=<AddmmBackward>)\n",
      "tensor(0.1943, grad_fn=<MseLossBackward>)\n"
     ]
    },
    {
     "name": "stderr",
     "output_type": "stream",
     "text": [
      "INFO:root:Training 221/286 done\n"
     ]
    },
    {
     "name": "stdout",
     "output_type": "stream",
     "text": [
      "tensor([[1., 0.]])\n",
      "tensor([[0.5318, 0.3997]], grad_fn=<AddmmBackward>)\n",
      "tensor(0.1895, grad_fn=<MseLossBackward>)\n"
     ]
    },
    {
     "name": "stderr",
     "output_type": "stream",
     "text": [
      "INFO:root:Training 222/286 done\n"
     ]
    },
    {
     "name": "stdout",
     "output_type": "stream",
     "text": [
      "tensor([[0., 1.]])\n",
      "tensor([[0.5218, 0.7193]], grad_fn=<AddmmBackward>)\n",
      "tensor(0.1755, grad_fn=<MseLossBackward>)\n"
     ]
    },
    {
     "name": "stderr",
     "output_type": "stream",
     "text": [
      "INFO:root:Training 223/286 done\n"
     ]
    },
    {
     "name": "stdout",
     "output_type": "stream",
     "text": [
      "tensor([[1., 0.]])\n",
      "tensor([[0.5692, 0.4099]], grad_fn=<AddmmBackward>)\n",
      "tensor(0.1768, grad_fn=<MseLossBackward>)\n"
     ]
    },
    {
     "name": "stderr",
     "output_type": "stream",
     "text": [
      "INFO:root:Training 224/286 done\n"
     ]
    },
    {
     "name": "stdout",
     "output_type": "stream",
     "text": [
      "tensor([[0., 1.]])\n",
      "tensor([[0.3322, 0.4048]], grad_fn=<AddmmBackward>)\n",
      "tensor(0.2323, grad_fn=<MseLossBackward>)\n"
     ]
    },
    {
     "name": "stderr",
     "output_type": "stream",
     "text": [
      "INFO:root:Training 225/286 done\n"
     ]
    },
    {
     "name": "stdout",
     "output_type": "stream",
     "text": [
      "tensor([[1., 0.]])\n",
      "tensor([[0.5100, 0.4670]], grad_fn=<AddmmBackward>)\n",
      "tensor(0.2291, grad_fn=<MseLossBackward>)\n"
     ]
    },
    {
     "name": "stderr",
     "output_type": "stream",
     "text": [
      "INFO:root:Training 226/286 done\n"
     ]
    },
    {
     "name": "stdout",
     "output_type": "stream",
     "text": [
      "tensor([[0., 1.]])\n",
      "tensor([[0.3554, 0.5290]], grad_fn=<AddmmBackward>)\n",
      "tensor(0.1741, grad_fn=<MseLossBackward>)\n"
     ]
    },
    {
     "name": "stderr",
     "output_type": "stream",
     "text": [
      "INFO:root:Training 227/286 done\n"
     ]
    },
    {
     "name": "stdout",
     "output_type": "stream",
     "text": [
      "tensor([[1., 0.]])\n",
      "tensor([[0.5238, 0.5956]], grad_fn=<AddmmBackward>)\n",
      "tensor(0.2908, grad_fn=<MseLossBackward>)\n"
     ]
    },
    {
     "name": "stderr",
     "output_type": "stream",
     "text": [
      "INFO:root:Training 228/286 done\n"
     ]
    },
    {
     "name": "stdout",
     "output_type": "stream",
     "text": [
      "tensor([[0., 1.]])\n",
      "tensor([[0.3684, 1.0123]], grad_fn=<AddmmBackward>)\n",
      "tensor(0.0679, grad_fn=<MseLossBackward>)\n"
     ]
    },
    {
     "name": "stderr",
     "output_type": "stream",
     "text": [
      "INFO:root:Training 229/286 done\n"
     ]
    },
    {
     "name": "stdout",
     "output_type": "stream",
     "text": [
      "tensor([[1., 0.]])\n",
      "tensor([[0.3668, 0.3044]], grad_fn=<AddmmBackward>)\n",
      "tensor(0.2468, grad_fn=<MseLossBackward>)\n"
     ]
    },
    {
     "name": "stderr",
     "output_type": "stream",
     "text": [
      "INFO:root:Training 230/286 done\n"
     ]
    },
    {
     "name": "stdout",
     "output_type": "stream",
     "text": [
      "tensor([[0., 1.]])\n",
      "tensor([[0.3070, 0.9902]], grad_fn=<AddmmBackward>)\n",
      "tensor(0.0472, grad_fn=<MseLossBackward>)\n"
     ]
    },
    {
     "name": "stderr",
     "output_type": "stream",
     "text": [
      "INFO:root:Training 231/286 done\n"
     ]
    },
    {
     "name": "stdout",
     "output_type": "stream",
     "text": [
      "tensor([[1., 0.]])\n",
      "tensor([[0.5262, 0.3804]], grad_fn=<AddmmBackward>)\n",
      "tensor(0.1846, grad_fn=<MseLossBackward>)\n"
     ]
    },
    {
     "name": "stderr",
     "output_type": "stream",
     "text": [
      "INFO:root:Training 232/286 done\n"
     ]
    },
    {
     "name": "stdout",
     "output_type": "stream",
     "text": [
      "tensor([[0., 1.]])\n",
      "tensor([[0.2894, 0.6417]], grad_fn=<AddmmBackward>)\n",
      "tensor(0.1061, grad_fn=<MseLossBackward>)\n"
     ]
    },
    {
     "name": "stderr",
     "output_type": "stream",
     "text": [
      "INFO:root:Training 233/286 done\n"
     ]
    },
    {
     "name": "stdout",
     "output_type": "stream",
     "text": [
      "tensor([[1., 0.]])\n",
      "tensor([[0.5697, 0.4321]], grad_fn=<AddmmBackward>)\n",
      "tensor(0.1859, grad_fn=<MseLossBackward>)\n"
     ]
    },
    {
     "name": "stderr",
     "output_type": "stream",
     "text": [
      "INFO:root:Training 234/286 done\n"
     ]
    },
    {
     "name": "stdout",
     "output_type": "stream",
     "text": [
      "tensor([[0., 1.]])\n",
      "tensor([[0.3131, 0.5681]], grad_fn=<AddmmBackward>)\n",
      "tensor(0.1423, grad_fn=<MseLossBackward>)\n"
     ]
    },
    {
     "name": "stderr",
     "output_type": "stream",
     "text": [
      "INFO:root:Training 235/286 done\n"
     ]
    },
    {
     "name": "stdout",
     "output_type": "stream",
     "text": [
      "tensor([[1., 0.]])\n",
      "tensor([[0.6585, 0.4567]], grad_fn=<AddmmBackward>)\n",
      "tensor(0.1626, grad_fn=<MseLossBackward>)\n"
     ]
    },
    {
     "name": "stderr",
     "output_type": "stream",
     "text": [
      "INFO:root:Training 236/286 done\n"
     ]
    },
    {
     "name": "stdout",
     "output_type": "stream",
     "text": [
      "tensor([[0., 1.]])\n",
      "tensor([[0.4094, 0.8347]], grad_fn=<AddmmBackward>)\n",
      "tensor(0.0975, grad_fn=<MseLossBackward>)\n"
     ]
    },
    {
     "name": "stderr",
     "output_type": "stream",
     "text": [
      "INFO:root:Training 237/286 done\n"
     ]
    },
    {
     "name": "stdout",
     "output_type": "stream",
     "text": [
      "tensor([[1., 0.]])\n",
      "tensor([[0.6990, 0.4693]], grad_fn=<AddmmBackward>)\n",
      "tensor(0.1554, grad_fn=<MseLossBackward>)\n"
     ]
    },
    {
     "name": "stderr",
     "output_type": "stream",
     "text": [
      "INFO:root:Training 238/286 done\n"
     ]
    },
    {
     "name": "stdout",
     "output_type": "stream",
     "text": [
      "tensor([[0., 1.]])\n",
      "tensor([[0.4158, 0.8150]], grad_fn=<AddmmBackward>)\n",
      "tensor(0.1035, grad_fn=<MseLossBackward>)\n"
     ]
    },
    {
     "name": "stderr",
     "output_type": "stream",
     "text": [
      "INFO:root:Training 239/286 done\n"
     ]
    },
    {
     "name": "stdout",
     "output_type": "stream",
     "text": [
      "tensor([[1., 0.]])\n",
      "tensor([[0.6534, 0.4725]], grad_fn=<AddmmBackward>)\n",
      "tensor(0.1717, grad_fn=<MseLossBackward>)\n"
     ]
    },
    {
     "name": "stderr",
     "output_type": "stream",
     "text": [
      "INFO:root:Training 240/286 done\n"
     ]
    },
    {
     "name": "stdout",
     "output_type": "stream",
     "text": [
      "tensor([[0., 1.]])\n",
      "tensor([[0.3855, 0.6208]], grad_fn=<AddmmBackward>)\n",
      "tensor(0.1462, grad_fn=<MseLossBackward>)\n"
     ]
    },
    {
     "name": "stderr",
     "output_type": "stream",
     "text": [
      "INFO:root:Training 241/286 done\n"
     ]
    },
    {
     "name": "stdout",
     "output_type": "stream",
     "text": [
      "tensor([[1., 0.]])\n",
      "tensor([[0.5360, 0.3981]], grad_fn=<AddmmBackward>)\n",
      "tensor(0.1869, grad_fn=<MseLossBackward>)\n"
     ]
    },
    {
     "name": "stderr",
     "output_type": "stream",
     "text": [
      "INFO:root:Training 242/286 done\n"
     ]
    },
    {
     "name": "stdout",
     "output_type": "stream",
     "text": [
      "tensor([[0., 1.]])\n",
      "tensor([[0.3217, 0.7217]], grad_fn=<AddmmBackward>)\n",
      "tensor(0.0905, grad_fn=<MseLossBackward>)\n"
     ]
    },
    {
     "name": "stderr",
     "output_type": "stream",
     "text": [
      "INFO:root:Training 243/286 done\n"
     ]
    },
    {
     "name": "stdout",
     "output_type": "stream",
     "text": [
      "tensor([[1., 0.]])\n",
      "tensor([[0.4804, 0.3198]], grad_fn=<AddmmBackward>)\n",
      "tensor(0.1861, grad_fn=<MseLossBackward>)\n"
     ]
    },
    {
     "name": "stderr",
     "output_type": "stream",
     "text": [
      "INFO:root:Training 244/286 done\n"
     ]
    },
    {
     "name": "stdout",
     "output_type": "stream",
     "text": [
      "tensor([[0., 1.]])\n",
      "tensor([[0.2508, 0.6583]], grad_fn=<AddmmBackward>)\n",
      "tensor(0.0898, grad_fn=<MseLossBackward>)\n"
     ]
    },
    {
     "name": "stderr",
     "output_type": "stream",
     "text": [
      "INFO:root:Training 245/286 done\n"
     ]
    },
    {
     "name": "stdout",
     "output_type": "stream",
     "text": [
      "tensor([[1., 0.]])\n",
      "tensor([[0.6110, 0.3436]], grad_fn=<AddmmBackward>)\n",
      "tensor(0.1347, grad_fn=<MseLossBackward>)\n"
     ]
    },
    {
     "name": "stderr",
     "output_type": "stream",
     "text": [
      "INFO:root:Training 246/286 done\n"
     ]
    },
    {
     "name": "stdout",
     "output_type": "stream",
     "text": [
      "tensor([[0., 1.]])\n",
      "tensor([[0.2470, 0.7104]], grad_fn=<AddmmBackward>)\n",
      "tensor(0.0725, grad_fn=<MseLossBackward>)\n"
     ]
    },
    {
     "name": "stderr",
     "output_type": "stream",
     "text": [
      "INFO:root:Training 247/286 done\n"
     ]
    },
    {
     "name": "stdout",
     "output_type": "stream",
     "text": [
      "tensor([[1., 0.]])\n",
      "tensor([[0.8076, 0.5732]], grad_fn=<AddmmBackward>)\n",
      "tensor(0.1828, grad_fn=<MseLossBackward>)\n"
     ]
    },
    {
     "name": "stderr",
     "output_type": "stream",
     "text": [
      "INFO:root:Training 248/286 done\n"
     ]
    },
    {
     "name": "stdout",
     "output_type": "stream",
     "text": [
      "tensor([[0., 1.]])\n",
      "tensor([[0.3061, 0.7938]], grad_fn=<AddmmBackward>)\n",
      "tensor(0.0681, grad_fn=<MseLossBackward>)\n"
     ]
    },
    {
     "name": "stderr",
     "output_type": "stream",
     "text": [
      "INFO:root:Training 249/286 done\n"
     ]
    },
    {
     "name": "stdout",
     "output_type": "stream",
     "text": [
      "tensor([[1., 0.]])\n",
      "tensor([[0.6599, 0.4551]], grad_fn=<AddmmBackward>)\n",
      "tensor(0.1614, grad_fn=<MseLossBackward>)\n"
     ]
    },
    {
     "name": "stderr",
     "output_type": "stream",
     "text": [
      "INFO:root:Training 250/286 done\n"
     ]
    },
    {
     "name": "stdout",
     "output_type": "stream",
     "text": [
      "tensor([[0., 1.]])\n",
      "tensor([[0.3159, 0.8939]], grad_fn=<AddmmBackward>)\n",
      "tensor(0.0555, grad_fn=<MseLossBackward>)\n"
     ]
    },
    {
     "name": "stderr",
     "output_type": "stream",
     "text": [
      "INFO:root:Training 251/286 done\n"
     ]
    },
    {
     "name": "stdout",
     "output_type": "stream",
     "text": [
      "tensor([[1., 0.]])\n",
      "tensor([[0.5984, 0.3662]], grad_fn=<AddmmBackward>)\n",
      "tensor(0.1477, grad_fn=<MseLossBackward>)\n"
     ]
    },
    {
     "name": "stderr",
     "output_type": "stream",
     "text": [
      "INFO:root:Training 252/286 done\n"
     ]
    },
    {
     "name": "stdout",
     "output_type": "stream",
     "text": [
      "tensor([[0., 1.]])\n",
      "tensor([[0.2394, 0.6166]], grad_fn=<AddmmBackward>)\n",
      "tensor(0.1021, grad_fn=<MseLossBackward>)\n"
     ]
    },
    {
     "name": "stderr",
     "output_type": "stream",
     "text": [
      "INFO:root:Training 253/286 done\n"
     ]
    },
    {
     "name": "stdout",
     "output_type": "stream",
     "text": [
      "tensor([[1., 0.]])\n",
      "tensor([[0.6604, 0.4720]], grad_fn=<AddmmBackward>)\n",
      "tensor(0.1691, grad_fn=<MseLossBackward>)\n"
     ]
    },
    {
     "name": "stderr",
     "output_type": "stream",
     "text": [
      "INFO:root:Training 254/286 done\n"
     ]
    },
    {
     "name": "stdout",
     "output_type": "stream",
     "text": [
      "tensor([[0., 1.]])\n",
      "tensor([[0.3623, 0.5384]], grad_fn=<AddmmBackward>)\n",
      "tensor(0.1722, grad_fn=<MseLossBackward>)\n"
     ]
    },
    {
     "name": "stderr",
     "output_type": "stream",
     "text": [
      "INFO:root:Training 255/286 done\n"
     ]
    },
    {
     "name": "stdout",
     "output_type": "stream",
     "text": [
      "tensor([[1., 0.]])\n",
      "tensor([[0.7855, 0.4607]], grad_fn=<AddmmBackward>)\n",
      "tensor(0.1291, grad_fn=<MseLossBackward>)\n"
     ]
    },
    {
     "name": "stderr",
     "output_type": "stream",
     "text": [
      "INFO:root:Training 256/286 done\n"
     ]
    },
    {
     "name": "stdout",
     "output_type": "stream",
     "text": [
      "tensor([[0., 1.]])\n",
      "tensor([[0.3411, 0.9267]], grad_fn=<AddmmBackward>)\n",
      "tensor(0.0608, grad_fn=<MseLossBackward>)\n"
     ]
    },
    {
     "name": "stderr",
     "output_type": "stream",
     "text": [
      "INFO:root:Training 257/286 done\n"
     ]
    },
    {
     "name": "stdout",
     "output_type": "stream",
     "text": [
      "tensor([[1., 0.]])\n",
      "tensor([[0.7149, 0.3563]], grad_fn=<AddmmBackward>)\n",
      "tensor(0.1041, grad_fn=<MseLossBackward>)\n"
     ]
    },
    {
     "name": "stderr",
     "output_type": "stream",
     "text": [
      "INFO:root:Training 258/286 done\n"
     ]
    },
    {
     "name": "stdout",
     "output_type": "stream",
     "text": [
      "tensor([[0., 1.]])\n",
      "tensor([[0.3146, 0.8238]], grad_fn=<AddmmBackward>)\n",
      "tensor(0.0650, grad_fn=<MseLossBackward>)\n"
     ]
    },
    {
     "name": "stderr",
     "output_type": "stream",
     "text": [
      "INFO:root:Training 259/286 done\n"
     ]
    },
    {
     "name": "stdout",
     "output_type": "stream",
     "text": [
      "tensor([[1., 0.]])\n",
      "tensor([[0.5810, 0.3698]], grad_fn=<AddmmBackward>)\n",
      "tensor(0.1561, grad_fn=<MseLossBackward>)\n"
     ]
    },
    {
     "name": "stderr",
     "output_type": "stream",
     "text": [
      "INFO:root:Training 260/286 done\n"
     ]
    },
    {
     "name": "stdout",
     "output_type": "stream",
     "text": [
      "tensor([[0., 1.]])\n",
      "tensor([[0.3159, 0.8111]], grad_fn=<AddmmBackward>)\n",
      "tensor(0.0677, grad_fn=<MseLossBackward>)\n"
     ]
    },
    {
     "name": "stderr",
     "output_type": "stream",
     "text": [
      "INFO:root:Training 261/286 done\n"
     ]
    },
    {
     "name": "stdout",
     "output_type": "stream",
     "text": [
      "tensor([[1., 0.]])\n",
      "tensor([[0.5351, 0.6251]], grad_fn=<AddmmBackward>)\n",
      "tensor(0.3035, grad_fn=<MseLossBackward>)\n"
     ]
    },
    {
     "name": "stderr",
     "output_type": "stream",
     "text": [
      "INFO:root:Training 262/286 done\n"
     ]
    },
    {
     "name": "stdout",
     "output_type": "stream",
     "text": [
      "tensor([[0., 1.]])\n",
      "tensor([[0.3139, 0.5534]], grad_fn=<AddmmBackward>)\n",
      "tensor(0.1490, grad_fn=<MseLossBackward>)\n"
     ]
    },
    {
     "name": "stderr",
     "output_type": "stream",
     "text": [
      "INFO:root:Training 263/286 done\n"
     ]
    },
    {
     "name": "stdout",
     "output_type": "stream",
     "text": [
      "tensor([[1., 0.]])\n",
      "tensor([[0.4984, 0.5551]], grad_fn=<AddmmBackward>)\n",
      "tensor(0.2799, grad_fn=<MseLossBackward>)\n"
     ]
    },
    {
     "name": "stderr",
     "output_type": "stream",
     "text": [
      "INFO:root:Training 264/286 done\n"
     ]
    },
    {
     "name": "stdout",
     "output_type": "stream",
     "text": [
      "tensor([[0., 1.]])\n",
      "tensor([[0.3686, 0.4824]], grad_fn=<AddmmBackward>)\n",
      "tensor(0.2019, grad_fn=<MseLossBackward>)\n"
     ]
    },
    {
     "name": "stderr",
     "output_type": "stream",
     "text": [
      "INFO:root:Training 265/286 done\n"
     ]
    },
    {
     "name": "stdout",
     "output_type": "stream",
     "text": [
      "tensor([[1., 0.]])\n",
      "tensor([[0.5681, 0.3925]], grad_fn=<AddmmBackward>)\n",
      "tensor(0.1703, grad_fn=<MseLossBackward>)\n"
     ]
    },
    {
     "name": "stderr",
     "output_type": "stream",
     "text": [
      "INFO:root:Training 266/286 done\n"
     ]
    },
    {
     "name": "stdout",
     "output_type": "stream",
     "text": [
      "tensor([[0., 1.]])\n",
      "tensor([[0.3810, 0.5244]], grad_fn=<AddmmBackward>)\n",
      "tensor(0.1857, grad_fn=<MseLossBackward>)\n"
     ]
    },
    {
     "name": "stderr",
     "output_type": "stream",
     "text": [
      "INFO:root:Training 267/286 done\n"
     ]
    },
    {
     "name": "stdout",
     "output_type": "stream",
     "text": [
      "tensor([[1., 0.]])\n",
      "tensor([[0.6834, 0.3060]], grad_fn=<AddmmBackward>)\n",
      "tensor(0.0969, grad_fn=<MseLossBackward>)\n"
     ]
    },
    {
     "name": "stderr",
     "output_type": "stream",
     "text": [
      "INFO:root:Training 268/286 done\n"
     ]
    },
    {
     "name": "stdout",
     "output_type": "stream",
     "text": [
      "tensor([[0., 1.]])\n",
      "tensor([[0.3141, 0.4327]], grad_fn=<AddmmBackward>)\n",
      "tensor(0.2103, grad_fn=<MseLossBackward>)\n"
     ]
    },
    {
     "name": "stderr",
     "output_type": "stream",
     "text": [
      "INFO:root:Training 269/286 done\n"
     ]
    },
    {
     "name": "stdout",
     "output_type": "stream",
     "text": [
      "tensor([[1., 0.]])\n",
      "tensor([[0.7391, 0.2867]], grad_fn=<AddmmBackward>)\n",
      "tensor(0.0751, grad_fn=<MseLossBackward>)\n"
     ]
    },
    {
     "name": "stderr",
     "output_type": "stream",
     "text": [
      "INFO:root:Training 270/286 done\n"
     ]
    },
    {
     "name": "stdout",
     "output_type": "stream",
     "text": [
      "tensor([[0., 1.]])\n",
      "tensor([[0.2080, 0.7378]], grad_fn=<AddmmBackward>)\n",
      "tensor(0.0560, grad_fn=<MseLossBackward>)\n"
     ]
    },
    {
     "name": "stderr",
     "output_type": "stream",
     "text": [
      "INFO:root:Training 271/286 done\n"
     ]
    },
    {
     "name": "stdout",
     "output_type": "stream",
     "text": [
      "tensor([[1., 0.]])\n",
      "tensor([[0.7801, 0.2910]], grad_fn=<AddmmBackward>)\n",
      "tensor(0.0665, grad_fn=<MseLossBackward>)\n"
     ]
    },
    {
     "name": "stderr",
     "output_type": "stream",
     "text": [
      "INFO:root:Training 272/286 done\n"
     ]
    },
    {
     "name": "stdout",
     "output_type": "stream",
     "text": [
      "tensor([[0., 1.]])\n",
      "tensor([[0.2284, 0.9592]], grad_fn=<AddmmBackward>)\n",
      "tensor(0.0269, grad_fn=<MseLossBackward>)\n"
     ]
    },
    {
     "name": "stderr",
     "output_type": "stream",
     "text": [
      "INFO:root:Training 273/286 done\n"
     ]
    },
    {
     "name": "stdout",
     "output_type": "stream",
     "text": [
      "tensor([[1., 0.]])\n",
      "tensor([[0.7318, 0.2587]], grad_fn=<AddmmBackward>)\n",
      "tensor(0.0694, grad_fn=<MseLossBackward>)\n"
     ]
    },
    {
     "name": "stderr",
     "output_type": "stream",
     "text": [
      "INFO:root:Training 274/286 done\n"
     ]
    },
    {
     "name": "stdout",
     "output_type": "stream",
     "text": [
      "tensor([[0., 1.]])\n",
      "tensor([[0.3094, 0.7245]], grad_fn=<AddmmBackward>)\n",
      "tensor(0.0858, grad_fn=<MseLossBackward>)\n"
     ]
    },
    {
     "name": "stderr",
     "output_type": "stream",
     "text": [
      "INFO:root:Training 275/286 done\n"
     ]
    },
    {
     "name": "stdout",
     "output_type": "stream",
     "text": [
      "tensor([[1., 0.]])\n",
      "tensor([[0.6983, 0.2635]], grad_fn=<AddmmBackward>)\n",
      "tensor(0.0802, grad_fn=<MseLossBackward>)\n"
     ]
    },
    {
     "name": "stderr",
     "output_type": "stream",
     "text": [
      "INFO:root:Training 276/286 done\n"
     ]
    },
    {
     "name": "stdout",
     "output_type": "stream",
     "text": [
      "tensor([[0., 1.]])\n",
      "tensor([[0.3838, 0.6038]], grad_fn=<AddmmBackward>)\n",
      "tensor(0.1521, grad_fn=<MseLossBackward>)\n"
     ]
    },
    {
     "name": "stderr",
     "output_type": "stream",
     "text": [
      "INFO:root:Training 277/286 done\n"
     ]
    },
    {
     "name": "stdout",
     "output_type": "stream",
     "text": [
      "tensor([[1., 0.]])\n",
      "tensor([[0.7661, 0.2927]], grad_fn=<AddmmBackward>)\n",
      "tensor(0.0702, grad_fn=<MseLossBackward>)\n"
     ]
    },
    {
     "name": "stderr",
     "output_type": "stream",
     "text": [
      "INFO:root:Training 278/286 done\n"
     ]
    },
    {
     "name": "stdout",
     "output_type": "stream",
     "text": [
      "tensor([[0., 1.]])\n",
      "tensor([[0.3187, 0.5550]], grad_fn=<AddmmBackward>)\n",
      "tensor(0.1498, grad_fn=<MseLossBackward>)\n"
     ]
    },
    {
     "name": "stderr",
     "output_type": "stream",
     "text": [
      "INFO:root:Training 279/286 done\n"
     ]
    },
    {
     "name": "stdout",
     "output_type": "stream",
     "text": [
      "tensor([[1., 0.]])\n",
      "tensor([[0.7235, 0.3675]], grad_fn=<AddmmBackward>)\n",
      "tensor(0.1058, grad_fn=<MseLossBackward>)\n"
     ]
    },
    {
     "name": "stderr",
     "output_type": "stream",
     "text": [
      "INFO:root:Training 280/286 done\n"
     ]
    },
    {
     "name": "stdout",
     "output_type": "stream",
     "text": [
      "tensor([[0., 1.]])\n",
      "tensor([[0.3043, 0.5405]], grad_fn=<AddmmBackward>)\n",
      "tensor(0.1519, grad_fn=<MseLossBackward>)\n"
     ]
    },
    {
     "name": "stderr",
     "output_type": "stream",
     "text": [
      "INFO:root:Training 281/286 done\n"
     ]
    },
    {
     "name": "stdout",
     "output_type": "stream",
     "text": [
      "tensor([[1., 0.]])\n",
      "tensor([[0.6727, 0.3559]], grad_fn=<AddmmBackward>)\n",
      "tensor(0.1169, grad_fn=<MseLossBackward>)\n"
     ]
    },
    {
     "name": "stderr",
     "output_type": "stream",
     "text": [
      "INFO:root:Training 282/286 done\n"
     ]
    },
    {
     "name": "stdout",
     "output_type": "stream",
     "text": [
      "tensor([[0., 1.]])\n",
      "tensor([[0.1864, 0.8598]], grad_fn=<AddmmBackward>)\n",
      "tensor(0.0272, grad_fn=<MseLossBackward>)\n"
     ]
    },
    {
     "name": "stderr",
     "output_type": "stream",
     "text": [
      "INFO:root:Training 283/286 done\n"
     ]
    },
    {
     "name": "stdout",
     "output_type": "stream",
     "text": [
      "tensor([[1., 0.]])\n",
      "tensor([[0.5663, 0.3159]], grad_fn=<AddmmBackward>)\n",
      "tensor(0.1440, grad_fn=<MseLossBackward>)\n"
     ]
    },
    {
     "name": "stderr",
     "output_type": "stream",
     "text": [
      "INFO:root:Training 284/286 done\n"
     ]
    },
    {
     "name": "stdout",
     "output_type": "stream",
     "text": [
      "tensor([[0., 1.]])\n",
      "tensor([[0.1688, 0.6858]], grad_fn=<AddmmBackward>)\n",
      "tensor(0.0636, grad_fn=<MseLossBackward>)\n"
     ]
    },
    {
     "name": "stderr",
     "output_type": "stream",
     "text": [
      "INFO:root:Training 285/286 done\n"
     ]
    }
   ],
   "source": [
    "import logging\n",
    "logging.basicConfig(level=logging.INFO)\n",
    "trainLog = logging.getLogger()\n",
    "\n",
    "# Training Loop\n",
    "\n",
    "for k in range(len(vsInput)):  \n",
    "    \n",
    "    vs, target = vsInput[k]\n",
    "    \n",
    "    optimizer.zero_grad()   # zero the gradient buffers\n",
    "    input = vs.view(-1,1,256,256)\n",
    "    output = net(input)\n",
    "    print(target)\n",
    "    print(output)\n",
    "    loss = criterion(output, target)\n",
    "    print(loss)\n",
    "    loss.backward()\n",
    "    optimizer.step()    # Does the update\n",
    "    info = \"Training \" + str(k)+\"/\"+str(len(vsInput))+\" done\"\n",
    "    trainLog.info(info)"
   ]
  },
  {
   "cell_type": "code",
   "execution_count": null,
   "metadata": {},
   "outputs": [],
   "source": []
  }
 ],
 "metadata": {
  "kernelspec": {
   "display_name": "Python 3",
   "language": "python",
   "name": "python3"
  },
  "language_info": {
   "codemirror_mode": {
    "name": "ipython",
    "version": 3
   },
   "file_extension": ".py",
   "mimetype": "text/x-python",
   "name": "python",
   "nbconvert_exporter": "python",
   "pygments_lexer": "ipython3",
   "version": "3.7.3"
  }
 },
 "nbformat": 4,
 "nbformat_minor": 2
}
